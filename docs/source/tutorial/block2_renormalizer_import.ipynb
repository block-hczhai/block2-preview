{
  "nbformat": 4,
  "nbformat_minor": 0,
  "metadata": {
    "colab": {
      "provenance": []
    },
    "kernelspec": {
      "name": "python3",
      "display_name": "Python 3"
    },
    "language_info": {
      "name": "python"
    }
  },
  "cells": [
    {
      "cell_type": "markdown",
      "source": [
        "# MPS Import (Renormalizer)\n",
        "\n",
        "[![Open in Colab](https://colab.research.google.com/assets/colab-badge.svg)](https://colab.research.google.com/github/block-hczhai/block2-preview/blob/master/docs/source/tutorial/import_renormalizer_mps.ipynb)"
      ],
      "metadata": {
        "id": "wD4caskLRUBB"
      }
    },
    {
      "cell_type": "code",
      "execution_count": 1,
      "metadata": {
        "id": "PB7VbXEYPFfb"
      },
      "outputs": [],
      "source": [
        "!pip install block2==0.5.4rc5 -qq --progress-bar off --extra-index-url=https://block-hczhai.github.io/block2-preview/pypi/\n",
        "!pip install pyscf==2.8.0 -qq --progress-bar off\n",
        "!pip install renormalizer==0.0.11 -qq --progress-bar off"
      ]
    },
    {
      "cell_type": "code",
      "source": [
        "# update pyblock2/algebra/io.py\n",
        "!wget https://raw.githubusercontent.com/jiangtong1000/block2-preview/refs/heads/io/pyblock2/algebra/io.py \\\n",
        "  -O /usr/local/lib/python3.11/dist-packages/pyblock2/algebra/io.py"
      ],
      "metadata": {
        "colab": {
          "base_uri": "https://localhost:8080/"
        },
        "id": "sGOsClkwWtn7",
        "outputId": "4f809c81-ae0d-43ca-9ace-b75c2987ae7f"
      },
      "execution_count": 2,
      "outputs": [
        {
          "output_type": "stream",
          "name": "stdout",
          "text": [
            "--2025-06-14 15:19:57--  https://raw.githubusercontent.com/jiangtong1000/block2-preview/refs/heads/io/pyblock2/algebra/io.py\n",
            "Resolving raw.githubusercontent.com (raw.githubusercontent.com)... 185.199.108.133, 185.199.109.133, 185.199.110.133, ...\n",
            "Connecting to raw.githubusercontent.com (raw.githubusercontent.com)|185.199.108.133|:443... connected.\n",
            "HTTP request sent, awaiting response... 200 OK\n",
            "Length: 45369 (44K) [text/plain]\n",
            "Saving to: ‘/usr/local/lib/python3.11/dist-packages/pyblock2/algebra/io.py’\n",
            "\n",
            "\r          /usr/loca   0%[                    ]       0  --.-KB/s               \r/usr/local/lib/pyth 100%[===================>]  44.31K  --.-KB/s    in 0.01s   \n",
            "\n",
            "2025-06-14 15:19:57 (3.89 MB/s) - ‘/usr/local/lib/python3.11/dist-packages/pyblock2/algebra/io.py’ saved [45369/45369]\n",
            "\n"
          ]
        }
      ]
    },
    {
      "cell_type": "markdown",
      "source": [
        "Sometimes one may need to handle the overlap between a good DMRG solution from ``block2`` and some external dense MPS, eg. Gaussian MPS that is useful for quantum information or in QMC calculations (https://arxiv.org/abs/2405.05440), or MPS from other DMRG codes, eg. Renormalizer (https://github.com/shuaigroup/Renormalizer)."
      ],
      "metadata": {
        "id": "4ElQLevgRkzm"
      }
    },
    {
      "cell_type": "code",
      "source": [
        "from pyblock2._pyscf.ao2mo import integrals as itg\n",
        "from pyblock2.driver.core import DMRGDriver, SymmetryTypes\n",
        "from pyblock2.algebra.io import MPSTools\n",
        "import numpy\n",
        "\n",
        "bond_dims = [20] * 4 + [30] * 4\n",
        "noises = [1e-4] * 4 + [1e-5] * 4 + [0]\n",
        "thrds = [1e-10] * 8\n",
        "\n",
        "from pyscf import gto, tools, lo, scf\n",
        "r0 = 3.0\n",
        "mol = gto.M(atom=f'H 0 0 0; H 0 0 {r0}; H 0 0 {r0*2}; H 0 0 {r0*3}; H 0 0 {r0*4}; H 0 0 {r0*5}', basis='sto-3g', unit='Bohr')\n",
        "mol.build()\n",
        "\n",
        "mf = scf.RHF(mol)\n",
        "mo_coeff = lo.orth.lowdin(mf.mol.intor('cint1e_ovlp_sph'))\n",
        "mf.mo_coeff = mo_coeff\n",
        "ncas, n_elec, spin, ecore, h1e, h2e, orb_sym = itg.get_rhf_integrals(mf, g2e_symm=8)\n",
        "\n",
        "# Run DMRG calculation with Sz symmetry\n",
        "driver = DMRGDriver(scratch=\"./tmp\", symm_type=SymmetryTypes.SZ)\n",
        "driver.initialize_system(n_sites=ncas, n_elec=n_elec, spin=spin, orb_sym=orb_sym)\n",
        "mpo = driver.get_qc_mpo(h1e=h1e, g2e=h2e, ecore=ecore, iprint=1)\n",
        "zket = driver.get_random_mps(tag=\"KETSZ\", bond_dim=20, nroots=1)\n",
        "energies = driver.dmrg(mpo, zket, n_sweeps=20, bond_dims=bond_dims, noises=noises, thrds=thrds, iprint=1)\n",
        "zket = driver.adjust_mps(zket, dot=1)[0]\n",
        "driver.align_mps_center(zket, ref=0)\n",
        "print('DMRG calculation with Sz symmetry finished, energies:', energies)\n",
        "\n",
        "# this will be used to fill the external MPS's tensors\n",
        "pyzket = MPSTools.from_block2(zket)"
      ],
      "metadata": {
        "colab": {
          "base_uri": "https://localhost:8080/"
        },
        "id": "tzNuyV8xPnaa",
        "outputId": "bb3441aa-bf75-482f-cd19-2d156ffd97f7"
      },
      "execution_count": 3,
      "outputs": [
        {
          "output_type": "stream",
          "name": "stdout",
          "text": [
            "integral symmetrize error =  0.0\n",
            "integral cutoff error =  0.0\n",
            "mpo terms =       2286\n",
            "\n",
            "Build MPO | Nsites =     6 | Nterms =       2286 | Algorithm = FastBIP | Cutoff = 1.00e-20\n",
            " Site =     0 /     6 .. Mmpo =    26 DW = 0.00e+00 NNZ =       26 SPT = 0.0000 Tmvc = 0.001 T = 0.018\n",
            " Site =     1 /     6 .. Mmpo =    66 DW = 0.00e+00 NNZ =      243 SPT = 0.8584 Tmvc = 0.001 T = 0.015\n",
            " Site =     2 /     6 .. Mmpo =   110 DW = 0.00e+00 NNZ =      459 SPT = 0.9368 Tmvc = 0.001 T = 0.014\n",
            " Site =     3 /     6 .. Mmpo =    66 DW = 0.00e+00 NNZ =     1147 SPT = 0.8420 Tmvc = 0.003 T = 0.023\n",
            " Site =     4 /     6 .. Mmpo =    26 DW = 0.00e+00 NNZ =      243 SPT = 0.8584 Tmvc = 0.000 T = 0.015\n",
            " Site =     5 /     6 .. Mmpo =     1 DW = 0.00e+00 NNZ =       26 SPT = 0.0000 Tmvc = 0.000 T = 0.006\n",
            "Ttotal =      0.090 Tmvc-total = 0.006 MPO bond dimension =   110 MaxDW = 0.00e+00\n",
            "NNZ =         2144 SIZE =        18004 SPT = 0.8809\n",
            "\n",
            "Rank =     0 Ttotal =      0.173 MPO method = FastBipartite bond dimension =     110 NNZ =         2144 SIZE =        18004 SPT = 0.8809\n",
            "\n",
            "Sweep =    0 | Direction =  forward | Bond dimension =   20 | Noise =  1.00e-04 | Dav threshold =  1.00e-10\n",
            "Time elapsed =      0.561 | E =      -2.9576460853 | DW = 6.66567e-05\n",
            "\n",
            "Sweep =    1 | Direction = backward | Bond dimension =   20 | Noise =  1.00e-04 | Dav threshold =  1.00e-10\n",
            "Time elapsed =      0.790 | E =      -2.9576460853 | DE = 1.04e-11 | DW = 5.92236e-05\n",
            "\n",
            "Sweep =    2 | Direction =  forward | Bond dimension =   20 | Noise =  1.00e-04 | Dav threshold =  1.00e-10\n",
            "Time elapsed =      1.189 | E =      -2.9576460853 | DE = -3.64e-11 | DW = 6.66526e-05\n",
            "\n",
            "Sweep =    3 | Direction = backward | Bond dimension =   20 | Noise =  1.00e-04 | Dav threshold =  1.00e-10\n",
            "Time elapsed =      1.443 | E =      -2.9576460853 | DE = -2.37e-12 | DW = 5.92239e-05\n",
            "\n",
            "Sweep =    4 | Direction =  forward | Bond dimension =   30 | Noise =  1.00e-05 | Dav threshold =  1.00e-10\n",
            "Time elapsed =      2.339 | E =      -2.9576460853 | DE = 2.36e-12 | DW = 5.02379e-06\n",
            "\n",
            "Sweep =    5 | Direction = backward | Bond dimension =   30 | Noise =  1.00e-05 | Dav threshold =  1.00e-10\n",
            "Time elapsed =      3.042 | E =      -2.9576460853 | DE = -3.69e-11 | DW = 2.73774e-06\n",
            "\n",
            "Sweep =    6 | Direction =  forward | Bond dimension =   30 | Noise =  1.00e-05 | Dav threshold =  1.00e-10\n",
            "Time elapsed =      3.235 | E =      -2.9576460853 | DE = -1.95e-11 | DW = 5.02112e-06\n",
            "\n",
            "Sweep =    7 | Direction = backward | Bond dimension =   30 | Noise =  1.00e-05 | Dav threshold =  1.00e-10\n",
            "Time elapsed =      3.707 | E =      -2.9576460853 | DE = 1.93e-11 | DW = 2.73775e-06\n",
            "\n",
            "Sweep =    8 | Direction =  forward | Bond dimension =   30 | Noise =  0.00e+00 | Dav threshold =  1.00e-09\n",
            "Time elapsed =      3.907 | E =      -2.9576460852 | DE = 1.66e-10 | DW = 1.91390e-06\n",
            "\n",
            "DMRG calculation with Sz symmetry finished, energies: -2.9576460851637334\n"
          ]
        }
      ]
    },
    {
      "cell_type": "markdown",
      "source": [
        "Here we will run a DMRG calculation with SU2 symmetry, and later we also compute the overlap between the external MPS and DMRG ground state."
      ],
      "metadata": {
        "id": "3pjkxoERR6nZ"
      }
    },
    {
      "cell_type": "code",
      "source": [
        "# Run DMRG calculation with SU2 symmetry\n",
        "driver_SU2 = DMRGDriver(scratch=\"./tmp\", symm_type=SymmetryTypes.SU2)\n",
        "driver_SU2.initialize_system(n_sites=ncas, n_elec=n_elec, spin=spin, orb_sym=orb_sym)\n",
        "mpo = driver_SU2.get_qc_mpo(h1e=h1e, g2e=h2e, ecore=ecore, iprint=1)\n",
        "ket = driver_SU2.get_random_mps(tag=\"KETSU2\", bond_dim=20, nroots=1)\n",
        "energies = driver_SU2.dmrg(mpo, ket, n_sweeps=20, bond_dims=bond_dims, noises=noises, thrds=thrds, iprint=1)\n",
        "ket = driver_SU2.adjust_mps(ket, dot=1)[0]\n",
        "driver_SU2.align_mps_center(ket, ref=0)\n",
        "print('DMRG calculation with SU2 symmetry finished, energies:', energies)"
      ],
      "metadata": {
        "colab": {
          "base_uri": "https://localhost:8080/"
        },
        "id": "UTJ1NajkQFdE",
        "outputId": "d517979e-48ec-4950-c456-17694fc92d8f"
      },
      "execution_count": 4,
      "outputs": [
        {
          "output_type": "stream",
          "name": "stdout",
          "text": [
            "integral symmetrize error =  0.0\n",
            "integral cutoff error =  0.0\n",
            "mpo terms =        863\n",
            "\n",
            "Build MPO | Nsites =     6 | Nterms =        863 | Algorithm = FastBIP | Cutoff = 1.00e-20\n",
            " Site =     0 /     6 .. Mmpo =    13 DW = 0.00e+00 NNZ =       13 SPT = 0.0000 Tmvc = 0.000 T = 0.009\n",
            " Site =     1 /     6 .. Mmpo =    34 DW = 0.00e+00 NNZ =       97 SPT = 0.7805 Tmvc = 0.000 T = 0.013\n",
            " Site =     2 /     6 .. Mmpo =    56 DW = 0.00e+00 NNZ =      180 SPT = 0.9055 Tmvc = 0.000 T = 0.013\n",
            " Site =     3 /     6 .. Mmpo =    34 DW = 0.00e+00 NNZ =      405 SPT = 0.7873 Tmvc = 0.000 T = 0.010\n",
            " Site =     4 /     6 .. Mmpo =    14 DW = 0.00e+00 NNZ =      100 SPT = 0.7899 Tmvc = 0.000 T = 0.011\n",
            " Site =     5 /     6 .. Mmpo =     1 DW = 0.00e+00 NNZ =       14 SPT = 0.0000 Tmvc = 0.000 T = 0.004\n",
            "Ttotal =      0.059 Tmvc-total = 0.002 MPO bond dimension =    56 MaxDW = 0.00e+00\n",
            "NNZ =          809 SIZE =         4753 SPT = 0.8298\n",
            "\n",
            "Rank =     0 Ttotal =      0.104 MPO method = FastBipartite bond dimension =      56 NNZ =          809 SIZE =         4753 SPT = 0.8298\n",
            "\n",
            "Sweep =    0 | Direction =  forward | Bond dimension =   20 | Noise =  1.00e-04 | Dav threshold =  1.00e-10\n",
            "Time elapsed =      0.215 | E =      -2.9576460853 | DW = 1.81931e-06\n",
            "\n",
            "Sweep =    1 | Direction = backward | Bond dimension =   20 | Noise =  1.00e-04 | Dav threshold =  1.00e-10\n",
            "Time elapsed =      0.482 | E =      -2.9576460854 | DE = -5.92e-11 | DW = 9.59991e-07\n",
            "\n",
            "Sweep =    2 | Direction =  forward | Bond dimension =   20 | Noise =  1.00e-04 | Dav threshold =  1.00e-10\n",
            "Time elapsed =      1.002 | E =      -2.9576460854 | DE = -3.03e-12 | DW = 1.81905e-06\n",
            "\n",
            "Sweep =    3 | Direction = backward | Bond dimension =   20 | Noise =  1.00e-04 | Dav threshold =  1.00e-10\n",
            "Time elapsed =      1.346 | E =      -2.9576460854 | DE = 4.31e-12 | DW = 9.60002e-07\n",
            "\n",
            "Sweep =    4 | Direction =  forward | Bond dimension =   30 | Noise =  1.00e-05 | Dav threshold =  1.00e-10\n",
            "Time elapsed =      1.739 | E =      -2.9576460854 | DE = -4.27e-12 | DW = 4.15116e-09\n",
            "\n",
            "Sweep =    5 | Direction = backward | Bond dimension =   30 | Noise =  1.00e-05 | Dav threshold =  1.00e-10\n",
            "Time elapsed =      2.625 | E =      -2.9576460854 | DE = -3.61e-12 | DW = 7.70782e-10\n",
            "\n",
            "Sweep =    6 | Direction =  forward | Bond dimension =   30 | Noise =  1.00e-05 | Dav threshold =  1.00e-10\n",
            "Time elapsed =      4.148 | E =      -2.9576460854 | DE = -4.10e-12 | DW = 4.13558e-09\n",
            "\n",
            "Sweep =    7 | Direction = backward | Bond dimension =   30 | Noise =  1.00e-05 | Dav threshold =  1.00e-10\n",
            "Time elapsed =      4.651 | E =      -2.9576460854 | DE = 1.88e-12 | DW = 7.70814e-10\n",
            "\n",
            "Sweep =    8 | Direction =  forward | Bond dimension =   30 | Noise =  0.00e+00 | Dav threshold =  1.00e-09\n",
            "Time elapsed =      4.947 | E =      -2.9576460851 | DE = 2.61e-10 | DW = 9.17794e-18\n",
            "\n",
            "DMRG calculation with SU2 symmetry finished, energies: -2.957646085101021\n"
          ]
        }
      ]
    },
    {
      "cell_type": "markdown",
      "source": [
        "Renormalizer runs DMRG with Sz symmetry by default, and the MPS object is a dense MPS. In the following we an external MPS using Renormalizer as an example."
      ],
      "metadata": {
        "id": "DfUPrqsrSOKE"
      }
    },
    {
      "cell_type": "code",
      "source": [
        "import tempfile\n",
        "from renormalizer import Model, Mps, Mpo, optimize_mps\n",
        "from renormalizer.model import h_qc\n",
        "from renormalizer.utils import log\n",
        "from logging import INFO\n",
        "\n",
        "logger = log.logging.getLogger(\"renormalizer\")\n",
        "logger.setLevel(INFO)\n",
        "\n",
        "numpy.product = numpy.prod # a little bit hacky, since renormalizer's code is using an older numpy.\n",
        "\n",
        "ftmp = tempfile.NamedTemporaryFile()\n",
        "tools.fcidump.from_mo(mol, ftmp.name, mo_coeff)\n",
        "h1e_spin, h2e_spin, nuc = h_qc.read_fcidump(ftmp.name, ncas)\n",
        "basis, ham_terms = h_qc.qc_model(h1e_spin, h2e_spin)\n",
        "model = Model(basis, ham_terms)\n",
        "mpo = Mpo(model)\n",
        "print(f\"mpo_bond_dims:{mpo.bond_dims}\")\n",
        "\n",
        "energy_list = {}\n",
        "M = 30\n",
        "procedure = [[M, 0.4], [M, 0.2], [M, 0.1], [M, 0], [M, 0], [M,0], [M,0]]\n",
        "mps = Mps.random(model, mol.nelec, M, percent=1.0)\n",
        "mps.optimize_config.procedure = procedure\n",
        "mps.optimize_config.method = \"2site\"\n",
        "energies, mps = optimize_mps(mps.copy(), mpo)\n",
        "gs_e = min(energies)+nuc\n",
        "print(f'lowest energy from Renormalizer MPS: {gs_e}')"
      ],
      "metadata": {
        "colab": {
          "base_uri": "https://localhost:8080/"
        },
        "id": "Zegz02SDQNVg",
        "outputId": "9fa1642d-66f6-4b56-b0ee-2f57e40ff64f"
      },
      "execution_count": 10,
      "outputs": [
        {
          "output_type": "stream",
          "name": "stderr",
          "text": [
            "2025-06-14 15:21:18,040[INFO] nuclear repulsion: 2.899999999999999\n",
            "INFO:renormalizer.model.h_qc:nuclear repulsion: 2.899999999999999\n",
            "2025-06-14 15:21:18,046[INFO] spin norbs: 12\n",
            "INFO:renormalizer.model.h_qc:spin norbs: 12\n",
            "2025-06-14 15:21:19,820[INFO] optimization method: 2site\n",
            "INFO:renormalizer.mps.gs:optimization method: 2site\n",
            "2025-06-14 15:21:19,823[INFO] e_rtol: 1e-06\n",
            "INFO:renormalizer.mps.gs:e_rtol: 1e-06\n",
            "2025-06-14 15:21:19,826[INFO] e_atol: 1e-08\n",
            "INFO:renormalizer.mps.gs:e_atol: 1e-08\n",
            "2025-06-14 15:21:19,829[INFO] procedure: [[30, 0.4], [30, 0.2], [30, 0.1], [30, 0], [30, 0], [30, 0], [30, 0]]\n",
            "INFO:renormalizer.mps.gs:procedure: [[30, 0.4], [30, 0.2], [30, 0.1], [30, 0], [30, 0], [30, 0], [30, 0]]\n"
          ]
        },
        {
          "output_type": "stream",
          "name": "stdout",
          "text": [
            "mpo_bond_dims:[1, 4, 16, 37, 54, 68, 81, 68, 54, 37, 16, 4, 1]\n"
          ]
        },
        {
          "output_type": "stream",
          "name": "stderr",
          "text": [
            "2025-06-14 15:21:24,823[INFO] DMRG has converged!\n",
            "INFO:renormalizer.mps.gs:DMRG has converged!\n",
            "2025-06-14 15:21:24,895[INFO] mps current size: 48.4KiB, Matrix product bond dim:[1, 2, 4, 8, 16, 30, 30, 30, 16, 8, 4, 2, 1]\n",
            "INFO:renormalizer.mps.gs:mps current size: 48.4KiB, Matrix product bond dim:[1, 2, 4, 8, 16, 30, 30, 30, 16, 8, 4, 2, 1]\n"
          ]
        },
        {
          "output_type": "stream",
          "name": "stdout",
          "text": [
            "lowest energy from Renormalizer MPS: -2.9576460390051147\n"
          ]
        }
      ]
    },
    {
      "cell_type": "markdown",
      "source": [
        "Note that now we obtain a dense MPS in the spin orbital basis, to make it compatible with ``block2``, we need to convert it to a fermion orbital basis. We also need to make the MPS left canonical, for the step after."
      ],
      "metadata": {
        "id": "J9LA-0LVSgti"
      }
    },
    {
      "cell_type": "code",
      "source": [
        "mps.ensure_left_canonical()\n",
        "\n",
        "def spin_to_fermion_mps(mps_spin, qn):\n",
        "    nsites_spin = len(mps_spin)\n",
        "    assert nsites_spin % 2 == 0\n",
        "    nsites_fermion = nsites_spin // 2\n",
        "    qnl_fermion = []\n",
        "    mps_fermion = []\n",
        "\n",
        "    for i in range(nsites_fermion):\n",
        "        ml = mps_spin[2*i].shape[0]\n",
        "        mr = mps_spin[2*i+1].shape[-1]\n",
        "        merged_array = numpy.einsum(\"ipj, jql->ipql\", mps_spin[2*i], mps_spin[2*i+1])\n",
        "        merged_array = numpy.transpose(merged_array, (0, 2, 1, 3))\n",
        "        merged_array = merged_array.reshape(ml, 4, mr)\n",
        "        mps_fermion.append(merged_array)\n",
        "        qnl_fermion.append(qn[2*i])\n",
        "    qnl_fermion.append(qn[-1])\n",
        "    return mps_fermion, qnl_fermion\n",
        "\n",
        "qn = []\n",
        "for i_mps in range(len(mps)):\n",
        "    iqn = [x.tolist() for x in mps.qn[i_mps]]\n",
        "    qn.append(iqn)\n",
        "qn[0] = [[0, 0]]\n",
        "qn.append([[mol.nelec[0], mol.nelec[1]]])\n",
        "\n",
        "mps_fermion, qn_fermion = spin_to_fermion_mps(mps, qn)\n",
        "mps_list = []\n",
        "for i_mps in range(len(mps_fermion)):\n",
        "    mps_list.append(mps_fermion[i_mps])"
      ],
      "metadata": {
        "id": "4kuI9K_rQY98"
      },
      "execution_count": 6,
      "outputs": []
    },
    {
      "cell_type": "markdown",
      "source": [
        "Now we have a list of dense MPS tensors in the fermion orbital basis, and a list of their quantum numbers (from left to right). And we are ready to transform them to the ``block2`` format."
      ],
      "metadata": {
        "id": "3hbqzNe1SwYX"
      }
    },
    {
      "cell_type": "code",
      "source": [
        "print('bond dimensions:', [imps.shape[0] for imps in mps_fermion])\n",
        "print('quantum numbers:', qn_fermion)\n",
        "\n",
        "mps_in_block2 = MPSTools.trans_renormalizer_sz_to_block2_sz(mps_list, qn_fermion)"
      ],
      "metadata": {
        "id": "3Iq3bBykS2At",
        "colab": {
          "base_uri": "https://localhost:8080/"
        },
        "outputId": "06a7c3f1-e71a-4cfa-b251-e0e2f509ca44"
      },
      "execution_count": 7,
      "outputs": [
        {
          "output_type": "stream",
          "name": "stdout",
          "text": [
            "bond dimensions: [1, 4, 16, 30, 16, 4]\n",
            "quantum numbers: [[[0, 0]], [[1, 0], [0, 1], [1, 1], [0, 0]], [[0, 1], [0, 1], [1, 2], [1, 2], [2, 1], [2, 1], [0, 0], [1, 1], [1, 1], [1, 1], [1, 1], [2, 0], [0, 2], [2, 2], [1, 0], [1, 0]], [[0, 1], [1, 2], [1, 2], [1, 2], [1, 2], [2, 1], [2, 1], [2, 1], [2, 1], [3, 1], [3, 1], [1, 1], [1, 1], [1, 1], [1, 1], [0, 3], [2, 0], [2, 0], [3, 0], [2, 3], [0, 2], [0, 2], [2, 2], [2, 2], [2, 2], [2, 2], [1, 0], [3, 2], [1, 3], [1, 3]], [[1, 2], [1, 2], [2, 1], [2, 1], [3, 1], [1, 1], [2, 3], [2, 3], [3, 3], [2, 2], [2, 2], [2, 2], [2, 2], [3, 2], [3, 2], [1, 3]], [[2, 3], [3, 3], [2, 2], [3, 2]], [[3, 3]]]\n"
          ]
        }
      ]
    },
    {
      "cell_type": "markdown",
      "source": [
        "Here ``mps_in_block2`` contains all the tensors in the pyblock2 format, we can further convert it to block2 format."
      ],
      "metadata": {
        "id": "5XtQRkEHTA7G"
      }
    },
    {
      "cell_type": "code",
      "source": [
        "driver.symm_type = SymmetryTypes.SZ\n",
        "driver.initialize_system(n_sites=ncas, n_elec=n_elec, spin=spin)\n",
        "impo = driver.get_identity_mpo()\n",
        "for it, ts in enumerate(pyzket.tensors):\n",
        "    pyzket.tensors[it] = mps_in_block2[it]\n",
        "bra = MPSTools.to_block2(pyzket, driver.basis, tag='bra_sz')\n",
        "print('overlap between Renormalizer Sz MPS with block2 Sz MPS:', driver.expectation(bra, impo, zket))"
      ],
      "metadata": {
        "id": "wzTTvFvbTJdH",
        "colab": {
          "base_uri": "https://localhost:8080/"
        },
        "outputId": "75d53436-a46a-4d44-cf7c-5502a063f56b"
      },
      "execution_count": 8,
      "outputs": [
        {
          "output_type": "stream",
          "name": "stdout",
          "text": [
            "overlap between Renormalizer Sz MPS with block2 Sz MPS: -0.9999999659563918\n"
          ]
        }
      ]
    },
    {
      "cell_type": "markdown",
      "source": [
        "We may also compute the overlap between the Renormalizer Sz MPS and the block2 SU2 MPS. To do this, we first convert the Renormalizer Sz MPS to a SU2 MPS."
      ],
      "metadata": {
        "id": "1oSQqmrtTLbF"
      }
    },
    {
      "cell_type": "code",
      "source": [
        "driver.initialize_system(n_sites=ncas, n_elec=n_elec, spin=spin)\n",
        "for it, ts in enumerate(pyzket.tensors):\n",
        "    pyzket.tensors[it] = mps_in_block2[it]\n",
        "bra = MPSTools.trans_sz_to_su2(pyzket, driver.basis, zket.info.target, target_twos=0)\n",
        "\n",
        "driver.symm_type = SymmetryTypes.SU2\n",
        "driver.initialize_system(n_sites=ncas, n_elec=n_elec, spin=spin)\n",
        "bra = MPSTools.to_block2(bra, driver.basis, tag='bra_su2')\n",
        "\n",
        "impo = driver.get_identity_mpo()\n",
        "print('overlap between Renormalizer Sz MPS with block2 SU2 MPS:', driver.expectation(bra, impo, ket))"
      ],
      "metadata": {
        "id": "HSnz0CkGTQbi",
        "colab": {
          "base_uri": "https://localhost:8080/"
        },
        "outputId": "25a64b53-c6b5-4f29-d3ba-1987bbfcf66b"
      },
      "execution_count": 9,
      "outputs": [
        {
          "output_type": "stream",
          "name": "stdout",
          "text": [
            "overlap between Renormalizer Sz MPS with block2 SU2 MPS: -0.9999990300114634\n"
          ]
        }
      ]
    },
    {
      "cell_type": "markdown",
      "source": [
        "Note that different DMRG runs may lead to sign differences."
      ],
      "metadata": {
        "id": "0yP2GZ--TUMc"
      }
    },
    {
      "cell_type": "code",
      "source": [],
      "metadata": {
        "id": "pL9V7RVq2uUg"
      },
      "execution_count": 9,
      "outputs": []
    }
  ]
}