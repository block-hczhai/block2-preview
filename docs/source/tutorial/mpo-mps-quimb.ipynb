{
 "cells": [
  {
   "cell_type": "markdown",
   "metadata": {
    "id": "Ztk3skgGUAS8"
   },
   "source": [
    "# MPO/MPS Export (quimb)\n",
    "\n",
    "[![Open in Colab](https://colab.research.google.com/assets/colab-badge.svg)](https://colab.research.google.com/github/block-hczhai/block2-preview/blob/master/docs/source/tutorial/mpo-mps-quimb.ipynb)"
   ]
  },
  {
   "cell_type": "code",
   "execution_count": 1,
   "metadata": {
    "colab": {
     "base_uri": "https://localhost:8080/"
    },
    "id": "q28-Mce8TZsu",
    "outputId": "0006af55-4e26-4c6d-d126-b2cf334c5348"
   },
   "outputs": [
    {
     "name": "stdout",
     "output_type": "stream",
     "text": [
      "  Installing build dependencies ... \u001b[?25l\u001b[?25hdone\n",
      "  Getting requirements to build wheel ... \u001b[?25l\u001b[?25hdone\n",
      "  Preparing metadata (pyproject.toml) ... \u001b[?25l\u001b[?25hdone\n"
     ]
    }
   ],
   "source": [
    "!pip install block2==0.5.3 -qq --progress-bar off\n",
    "!pip install pyscf==2.3.0 -qq --progress-bar off\n",
    "!pip install quimb==1.10.0 -qq --progress-bar off\n",
    "!pip install git+https://github.com/jcmgray/symmray.git@939288ebf52ff8903fca988a0b72cb540574c6b1 -qq --progress-bar off"
   ]
  },
  {
   "cell_type": "markdown",
   "metadata": {
    "id": "tCCtcACeUjY2"
   },
   "source": [
    "## Introduction\n",
    "\n",
    "In this tutorial we explain how to transform the MPO and MPS objects from ``block2`` to ``quimb``. ``quimb`` (https://github.com/jcmgray/quimb) is an easy but fast python library for quantum information many-body calculations, focusing primarily on tensor networks.\n",
    "\n",
    "Depending on the symmetry of the problem, we consider two cases.\n",
    "\n",
    "In the first case the MPO and MPS tensors are stored as dense arrays (which is more common for quantum inofmration simulations). We use the \"no-symmetry\" mode in ``block2`` to perform DMRG with these dense tensors. The local Hilbert basis is the qubit basis.\n",
    "\n",
    "In the second case the MPO and MPS tensors are stored as block-sparse arrays (which is more common for quantum chemistry applications) with fermion statistics. This corresponds to the ``SymmetryTypes.SZ`` mode in ``block2``. In ``quimb``, we use the ``symmray`` library to handle block-sparse data structure and fermion signs."
   ]
  },
  {
   "cell_type": "markdown",
   "metadata": {
    "id": "DDqZfst0XLh3"
   },
   "source": [
    "## Qubit basis with no symmetry\n",
    "\n",
    "The following is an examaple script that performs quantum chemistry DMRG in the qubit basis with no symmetry in ``block2``. The MPS and MPO can then be expressed as dense tensors and contracted in ``quimb``, producing the same energy expectation."
   ]
  },
  {
   "cell_type": "code",
   "execution_count": 2,
   "metadata": {
    "colab": {
     "base_uri": "https://localhost:8080/"
    },
    "id": "lr3gqrBOT8X7",
    "outputId": "57e08257-3e44-4ea4-c8d5-82f378d84bf3"
   },
   "outputs": [
    {
     "name": "stdout",
     "output_type": "stream",
     "text": [
      "\n",
      "Sweep =    0 | Direction =  forward | Bond dimension =   50 | Noise =  1.00e-04 | Dav threshold =  1.00e-10\n",
      "Time elapsed =     19.629 | E =    -107.6446337899 | DW = 7.91470e-05\n",
      "\n",
      "Sweep =    1 | Direction = backward | Bond dimension =   50 | Noise =  1.00e-04 | Dav threshold =  1.00e-10\n",
      "Time elapsed =     21.973 | E =    -107.6516392903 | DE = -7.01e-03 | DW = 3.25122e-05\n",
      "\n",
      "Sweep =    2 | Direction =  forward | Bond dimension =   50 | Noise =  1.00e-04 | Dav threshold =  1.00e-10\n",
      "Time elapsed =     23.938 | E =    -107.6522750481 | DE = -6.36e-04 | DW = 5.68993e-05\n",
      "\n",
      "Sweep =    3 | Direction = backward | Bond dimension =   50 | Noise =  1.00e-04 | Dav threshold =  1.00e-10\n",
      "Time elapsed =     25.968 | E =    -107.6525192835 | DE = -2.44e-04 | DW = 5.70002e-05\n",
      "\n",
      "Sweep =    4 | Direction =  forward | Bond dimension =  100 | Noise =  1.00e-05 | Dav threshold =  1.00e-10\n",
      "Time elapsed =     34.137 | E =    -107.6534665811 | DE = -9.47e-04 | DW = 1.88522e-17\n",
      "\n",
      "Sweep =    5 | Direction = backward | Bond dimension =  100 | Noise =  1.00e-05 | Dav threshold =  1.00e-10\n",
      "Time elapsed =     48.520 | E =    -107.6540805479 | DE = -6.14e-04 | DW = 3.85541e-07\n",
      "\n",
      "Sweep =    6 | Direction =  forward | Bond dimension =  100 | Noise =  1.00e-05 | Dav threshold =  1.00e-10\n",
      "Time elapsed =     55.746 | E =    -107.6541134665 | DE = -3.29e-05 | DW = 5.96280e-07\n",
      "\n",
      "Sweep =    7 | Direction = backward | Bond dimension =  100 | Noise =  1.00e-05 | Dav threshold =  1.00e-10\n",
      "Time elapsed =     64.993 | E =    -107.6541176322 | DE = -4.17e-06 | DW = 6.03228e-07\n",
      "\n",
      "Sweep =    8 | Direction =  forward | Bond dimension =  100 | Noise =  1.00e-05 | Dav threshold =  1.00e-10\n",
      "Time elapsed =     72.634 | E =    -107.6541196617 | DE = -2.03e-06 | DW = 5.98280e-07\n",
      "\n",
      "Sweep =    9 | Direction = backward | Bond dimension =  100 | Noise =  1.00e-05 | Dav threshold =  1.00e-10\n",
      "Time elapsed =     79.336 | E =    -107.6541195922 | DE = 6.95e-08 | DW = 5.61042e-07\n",
      "\n",
      "Sweep =   10 | Direction =  forward | Bond dimension =  200 | Noise =  1.00e-05 | Dav threshold =  1.00e-10\n",
      "Time elapsed =    105.850 | E =    -107.6541215992 | DE = -2.01e-06 | DW = 1.28080e-18\n",
      "\n",
      "Sweep =   11 | Direction = backward | Bond dimension =  200 | Noise =  1.00e-05 | Dav threshold =  1.00e-10\n",
      "Time elapsed =    152.107 | E =    -107.6541224475 | DE = -8.48e-07 | DW = 4.69341e-14\n",
      "\n",
      "Sweep =   12 | Direction =  forward | Bond dimension =  200 | Noise =  1.00e-05 | Dav threshold =  1.00e-10\n",
      "Time elapsed =    175.686 | E =    -107.6541224475 | DE = -2.31e-11 | DW = 6.24418e-16\n",
      "\n",
      "Sweep =   13 | Direction = backward | Bond dimension =  200 | Noise =  1.00e-05 | Dav threshold =  1.00e-10\n",
      "Time elapsed =    193.797 | E =    -107.6541224475 | DE = -5.68e-14 | DW = 7.25652e-17\n",
      "\n",
      "Sweep =   14 | Direction =  forward | Bond dimension =  200 | Noise =  0.00e+00 | Dav threshold =  1.00e-10\n",
      "Time elapsed =    213.780 | E =    -107.6541224475 | DE = 0.00e+00 | DW = 9.54936e-19\n",
      "\n",
      "DMRG energy = -107.654122447516784\n"
     ]
    },
    {
     "name": "stderr",
     "output_type": "stream",
     "text": [
      "/usr/local/lib/python3.11/dist-packages/cotengra/hyperoptimizers/hyper.py:57: UserWarning: Couldn't find `optuna`, `cmaes`, `baytune (btb)`, `chocolate`, or `nevergrad` so will use completely random sampling in place of hyper-optimization.\n",
      "  warnings.warn(\n",
      "/usr/local/lib/python3.11/dist-packages/cotengra/hyperoptimizers/hyper.py:39: UserWarning: Couldn't import `kahypar` - skipping from default hyper optimizer and using basic `labels` method instead.\n",
      "  warnings.warn(\n",
      "/usr/local/lib/python3.11/dist-packages/cotengra/hyperoptimizers/hyper.py:76: UserWarning: Couldn't find `optuna`, `cmaes`, `baytune (btb)`, `chocolate`, or `nevergrad` so will use completely random sampling in place of hyper-optimization.\n",
      "  warnings.warn(\n"
     ]
    },
    {
     "name": "stdout",
     "output_type": "stream",
     "text": [
      " 2 4 8 16 32 64 128 200 200 200 200 200 128 64 32 16 8 4 2 \n",
      "●─<─<─<──<──<──<━━━<━━━<━━━<━━━<━━━<━━━<━━━<──<──<──<─<─<─<\n",
      "│ │ │ │  │  │  │   │   │   │   │   │   │   │  │  │  │ │ │ │\n",
      "│7│20│45│62│81│104│125│126│151│148│177│178│147│120│97│70│43│20│7│\n",
      "●─●──●──●──●──●━━━●━━━●━━━●━━━●━━━●━━━●━━━●━━━●━━━●──●──●──●──●─●\n",
      "│ │  │  │  │  │   │   │   │   │   │   │   │   │   │  │  │  │  │ │\n",
      "norm = 0.9999999999999901\n",
      "expt = -107.65412244751523\n"
     ]
    }
   ],
   "source": [
    "import numpy as np\n",
    "from pyblock2._pyscf.ao2mo import integrals as itg\n",
    "from pyblock2.driver.core import DMRGDriver, SymmetryTypes\n",
    "from pyblock2.algebra.io import MPSTools, MPOTools\n",
    "\n",
    "from pyscf import gto, scf\n",
    "\n",
    "bond_dims = [50] * 4 + [100] * 6 + [200] * 6\n",
    "noises = [1e-4] * 4 + [1e-5] * 10 + [0]\n",
    "thrds = [1e-10] * 16\n",
    "\n",
    "mol = gto.M(atom=\"N 0 0 0; N 0 0 1.1\", basis=\"sto3g\", symmetry=\"d2h\", verbose=0)\n",
    "mf = scf.RHF(mol).run(conv_tol=1E-14)\n",
    "ncas, n_elec, spin, ecore, h1e, g2e, orb_sym = itg.get_rhf_integrals(mf, ncore=0, ncas=None, g2e_symm=8)\n",
    "\n",
    "driver = DMRGDriver(scratch=\"./tmp\", symm_type=SymmetryTypes.SAny | SymmetryTypes.SGB, n_threads=4)\n",
    "\n",
    "n_sites = ncas * 2\n",
    "\n",
    "driver.set_symmetry_groups()\n",
    "Q = driver.bw.SX\n",
    "\n",
    "site_basis = [[(Q(), 2)]] * n_sites\n",
    "ops = {\n",
    "    \"\": np.array([[1, 0], [0, 1]]),\n",
    "    \"P\": np.array([[0, 1], [0, 0]]),\n",
    "    \"M\": np.array([[0, 0], [1, 0]]),\n",
    "    \"Z\": np.array([[0.5, 0], [0, -0.5]]),\n",
    "}\n",
    "site_ops = [ops] * n_sites\n",
    "\n",
    "driver.initialize_system(n_sites=n_sites, vacuum=Q(), target=Q(), hamil_init=False)\n",
    "driver.ghamil = driver.get_custom_hamiltonian(site_basis, site_ops)\n",
    "\n",
    "mpo = driver.get_qc_mpo(h1e=h1e, g2e=driver.unpack_g2e(g2e, n_sites=ncas), ecore=ecore, add_ident=False, simple_const=True, iprint=0)\n",
    "ket = driver.get_random_mps(tag=\"KET\", bond_dim=50, nroots=1)\n",
    "energy = driver.dmrg(mpo, ket, n_sweeps=len(bond_dims), bond_dims=bond_dims, noises=noises, thrds=thrds, cutoff=-1, iprint=1)\n",
    "print('DMRG energy = %20.15f' % energy)\n",
    "\n",
    "driver.align_mps_center(ket, ref=0)\n",
    "ket = driver.adjust_mps(ket, dot=1)[0]\n",
    "pympo = MPOTools.from_block2(mpo.prim_mpo)\n",
    "pyket = MPSTools.from_block2(ket)\n",
    "\n",
    "import quimb.tensor as qtn\n",
    "\n",
    "def mps_fill_fn(_, counter=[0]):\n",
    "    counter[0] += 1\n",
    "    return pyket.tensors[counter[0] - 1].blocks[0].reduced\n",
    "\n",
    "def mpo_fill_fn(_, counter=[0]):\n",
    "    counter[0] += 1\n",
    "    return pympo.tensors[counter[0] - 1].blocks[0].reduced\n",
    "\n",
    "qumpo = qtn.MatrixProductOperator.from_fill_fn(mpo_fill_fn, len(pyket.tensors), bond_dim=None, phys_dim=2, shape=\"ludr\")\n",
    "qumps = qtn.MatrixProductState.from_fill_fn(mps_fill_fn, len(pympo.tensors), bond_dim=None, phys_dim=2, shape=\"lpr\")\n",
    "\n",
    "qumps.show()\n",
    "qumpo.show()\n",
    "\n",
    "qumpsH = qumps.H\n",
    "qumps.align_(qumpo, qumpsH)\n",
    "print('norm =', qumps.H @ qumps)\n",
    "print('expt =', (qumpsH & qumpo & qumps) ^ ...)"
   ]
  },
  {
   "cell_type": "markdown",
   "metadata": {
    "id": "7MKcXMZbYNOV"
   },
   "source": [
    "## Fermionic MPO and MPS\n",
    "\n",
    "The following is an examaple script that performs quantum chemistry DMRG in the standard $U(1)\\otimes U(1)\\otimes \\text{Point-Group}$ symmetry (``SymmetryTypes.SZ``) in ``block2``. The MPS and MPO are exported as block-sparse fermionic tensors and contracted in ``quimb`` using ``symmray`` as the backend."
   ]
  },
  {
   "cell_type": "code",
   "execution_count": 3,
   "metadata": {
    "colab": {
     "base_uri": "https://localhost:8080/"
    },
    "id": "n4TidpgPYAPa",
    "outputId": "7c697287-554a-41f3-8723-cbaafb6f255e"
   },
   "outputs": [
    {
     "name": "stdout",
     "output_type": "stream",
     "text": [
      "\n",
      "Sweep =    0 | Direction =  forward | Bond dimension =  100 | Noise =  1.00e-04 | Dav threshold =  1.00e-10\n",
      "Time elapsed =      0.676 | E =    -107.6540799442 | DW = 7.37486e-07\n",
      "\n",
      "Sweep =    1 | Direction = backward | Bond dimension =  100 | Noise =  1.00e-04 | Dav threshold =  1.00e-10\n",
      "Time elapsed =      0.960 | E =    -107.6541182041 | DE = -3.83e-05 | DW = 7.19646e-07\n",
      "\n",
      "Sweep =    2 | Direction =  forward | Bond dimension =  100 | Noise =  1.00e-04 | Dav threshold =  1.00e-10\n",
      "Time elapsed =      1.244 | E =    -107.6541211363 | DE = -2.93e-06 | DW = 6.92037e-07\n",
      "\n",
      "Sweep =    3 | Direction = backward | Bond dimension =  100 | Noise =  1.00e-04 | Dav threshold =  1.00e-10\n",
      "Time elapsed =      1.515 | E =    -107.6541211363 | DE = -1.44e-12 | DW = 6.92000e-07\n",
      "\n",
      "Sweep =    4 | Direction =  forward | Bond dimension =  150 | Noise =  1.00e-05 | Dav threshold =  1.00e-10\n",
      "Time elapsed =      1.825 | E =    -107.6541216080 | DE = -4.72e-07 | DW = 2.29437e-14\n",
      "\n",
      "Sweep =    5 | Direction = backward | Bond dimension =  150 | Noise =  1.00e-05 | Dav threshold =  1.00e-10\n",
      "Time elapsed =      2.162 | E =    -107.6541224011 | DE = -7.93e-07 | DW = 1.20768e-14\n",
      "\n",
      "Sweep =    6 | Direction =  forward | Bond dimension =  150 | Noise =  1.00e-05 | Dav threshold =  1.00e-10\n",
      "Time elapsed =      2.468 | E =    -107.6541224011 | DE = 1.42e-14 | DW = 1.79174e-19\n",
      "\n",
      "Sweep =    7 | Direction = backward | Bond dimension =  150 | Noise =  1.00e-05 | Dav threshold =  1.00e-10\n",
      "Time elapsed =      2.773 | E =    -107.6541224011 | DE = -8.53e-14 | DW = 7.72014e-19\n",
      "\n",
      "Sweep =    8 | Direction =  forward | Bond dimension =  150 | Noise =  1.00e-05 | Dav threshold =  1.00e-10\n",
      "Time elapsed =      3.090 | E =    -107.6541224011 | DE = 4.26e-14 | DW = 1.01747e-19\n",
      "\n",
      "Sweep =    9 | Direction = backward | Bond dimension =  150 | Noise =  1.00e-05 | Dav threshold =  1.00e-10\n",
      "Time elapsed =      3.568 | E =    -107.6541224011 | DE = 0.00e+00 | DW = 2.49515e-18\n",
      "\n",
      "Sweep =   10 | Direction =  forward | Bond dimension =  200 | Noise =  1.00e-05 | Dav threshold =  1.00e-10\n",
      "Time elapsed =      4.159 | E =    -107.6541224011 | DE = -1.42e-14 | DW = 2.29806e-23\n",
      "\n",
      "Sweep =   11 | Direction = backward | Bond dimension =  200 | Noise =  1.00e-05 | Dav threshold =  1.00e-10\n",
      "Time elapsed =      4.759 | E =    -107.6541224012 | DE = -2.23e-11 | DW = 3.27264e-37\n",
      "\n",
      "Sweep =   12 | Direction =  forward | Bond dimension =  200 | Noise =  1.00e-05 | Dav threshold =  1.00e-10\n",
      "Time elapsed =      5.331 | E =    -107.6541224012 | DE = 0.00e+00 | DW = 3.23965e-23\n",
      "\n",
      "Sweep =   13 | Direction = backward | Bond dimension =  200 | Noise =  1.00e-05 | Dav threshold =  1.00e-10\n",
      "Time elapsed =      5.931 | E =    -107.6541224012 | DE = 7.11e-14 | DW = 2.35826e-35\n",
      "\n",
      "Sweep =   14 | Direction =  forward | Bond dimension =  200 | Noise =  0.00e+00 | Dav threshold =  1.00e-10\n",
      "Time elapsed =      6.534 | E =    -107.6541224012 | DE = -4.26e-14 | DW = 1.41390e-23\n",
      "\n",
      "DMRG energy = -107.654122401168493\n",
      "norm = 0.9999999999999998\n",
      "expt = -107.65412240116848\n"
     ]
    }
   ],
   "source": [
    "import numpy as np\n",
    "from pyblock2._pyscf.ao2mo import integrals as itg\n",
    "from pyblock2.driver.core import DMRGDriver, SymmetryTypes\n",
    "from pyblock2.algebra.io import MPSTools, MPOTools\n",
    "\n",
    "from pyscf import gto, scf\n",
    "\n",
    "bond_dims = [100] * 4 + [150] * 6 + [200] * 6\n",
    "noises = [1e-4] * 4 + [1e-5] * 10 + [0]\n",
    "thrds = [1e-10] * 16\n",
    "\n",
    "mol = gto.M(atom=\"N 0 0 0; N 0 0 1.1\", basis=\"sto3g\", symmetry=\"d2h\", verbose=0)\n",
    "mf = scf.RHF(mol).run(conv_tol=1E-14)\n",
    "ncas, n_elec, spin, ecore, h1e, g2e, orb_sym = itg.get_rhf_integrals(mf, ncore=0, ncas=None, g2e_symm=8)\n",
    "\n",
    "driver = DMRGDriver(scratch=\"./tmp\", symm_type=SymmetryTypes.SZ, n_threads=4)\n",
    "driver.initialize_system(n_sites=ncas, n_elec=n_elec, spin=spin, orb_sym=orb_sym)\n",
    "\n",
    "mpo = driver.get_qc_mpo(h1e=h1e, g2e=g2e, ecore=ecore, add_ident=False, simple_const=True, iprint=0)\n",
    "ket = driver.get_random_mps(tag=\"KET\", bond_dim=100, nroots=1)\n",
    "energy = driver.dmrg(mpo, ket, n_sweeps=len(bond_dims), bond_dims=bond_dims, noises=noises, thrds=thrds, cutoff=-1, iprint=1)\n",
    "print('DMRG energy = %20.15f' % energy)\n",
    "\n",
    "driver.align_mps_center(ket, ref=0)\n",
    "ket = driver.adjust_mps(ket, dot=1)[0]\n",
    "pympo = MPOTools.from_block2(mpo.prim_mpo)\n",
    "pyket = MPSTools.from_block2(ket)\n",
    "\n",
    "import symmray as sr\n",
    "import quimb.tensor as qtn\n",
    "\n",
    "bidx = lambda z, d: sr.BlockIndex(chargemap={(x.n, x.twos, x.pg): v for x, v in z.items()}, dual=d)\n",
    "basis, basis_d = [[[bidx(bz, d)] for bz in driver.basis] for d in [False, True]]\n",
    "l_bonds = [[[]] + [[bidx(ts.get_state_info(0), True)] for ts in tn.tensors[1:]] for tn in [pyket, pympo]]\n",
    "r_bonds = [[[bidx(ts.get_state_info(-1), False)] for ts in tn.tensors[:-1]] + [[]] for tn in [pyket, pympo]]\n",
    "\n",
    "class SZ(sr.Symmetry):\n",
    "    __slots__ = ()\n",
    "    def valid(self, *charges):\n",
    "        return all(isinstance(charge, tuple) and all(isinstance(ch, int) for ch in charge) for charge in charges)\n",
    "    def combine(self, *charges):\n",
    "        return (sum(charge[0] for charge in charges), sum(charge[1] for charge in charges),\n",
    "            int(np.bitwise_xor.reduce([charge[2] for charge in charges])))\n",
    "    def sign(self, charge, dual=True):\n",
    "        return (charge[0] * [1, -1][dual], charge[1] * [1, -1][dual], charge[2])\n",
    "    def parity(self, charge):\n",
    "        return charge[0] % 2\n",
    "\n",
    "def mps_fill_fn(_, counter=[0]):\n",
    "    counter[0] += 1\n",
    "    ix, ts = counter[0] - 1, pyket.tensors[counter[0] - 1]\n",
    "    indices = tuple(l_bonds[0][ix] + basis_d[ix] + r_bonds[0][ix])\n",
    "    f = lambda qs: -1 if ix != 0 and abs(qs[0].n) % 2 == 1 and abs(qs[1].n) % 2 == 1 else 1\n",
    "    blocks = {tuple((q.n, q.twos, q.pg) for q in blk.q_labels): blk.reduced * f(blk.q_labels) for blk in ts.blocks}\n",
    "    return sr.FermionicArray(indices=indices, charge=(0, 0, 0), symmetry=SZ(), blocks=blocks)\n",
    "\n",
    "def mpo_fill_fn(_, counter=[0]):\n",
    "    counter[0] += 1\n",
    "    ix, ts = counter[0] - 1, pympo.tensors[counter[0] - 1]\n",
    "    indices = tuple(l_bonds[1][ix] + basis[ix] + basis_d[ix] + r_bonds[1][ix])\n",
    "    blocks = {tuple((q.n, q.twos, q.pg) for q in blk.q_labels): blk.reduced for blk in ts.blocks}\n",
    "    return sr.FermionicArray(indices, charge=(0, 0, 0, 0), symmetry=SZ(), blocks=blocks)\n",
    "\n",
    "qumpo = qtn.MatrixProductOperator.from_fill_fn(mpo_fill_fn, len(pyket.tensors), bond_dim=None, phys_dim=4, shape=\"ludr\")\n",
    "qumps = qtn.MatrixProductState.from_fill_fn(mps_fill_fn, len(pyket.tensors), bond_dim=None, phys_dim=4, shape=\"lpr\")\n",
    "\n",
    "qumpsH = qumps.H\n",
    "qumps.align_(qumpo, qumpsH)\n",
    "print('norm =', qumps.H @ qumps)\n",
    "print('expt =', (qumpsH & qumpo & qumps) ^ ...)"
   ]
  }
 ],
 "metadata": {
  "colab": {
   "provenance": []
  },
  "kernelspec": {
   "display_name": "Python 3",
   "name": "python3"
  },
  "language_info": {
   "name": "python"
  }
 },
 "nbformat": 4,
 "nbformat_minor": 0
}
