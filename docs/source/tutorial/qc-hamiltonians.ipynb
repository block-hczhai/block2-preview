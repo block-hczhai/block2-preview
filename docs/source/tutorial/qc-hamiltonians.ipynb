{
  "nbformat": 4,
  "nbformat_minor": 0,
  "metadata": {
    "colab": {
      "provenance": [],
      "toc_visible": true
    },
    "kernelspec": {
      "name": "python3",
      "display_name": "Python 3"
    },
    "language_info": {
      "name": "python"
    }
  },
  "cells": [
    {
      "cell_type": "markdown",
      "source": [
        "# Quantum Chemistry Hamiltonians\n",
        "\n",
        "[![Open in Colab](https://colab.research.google.com/assets/colab-badge.svg)](https://colab.research.google.com/github/block-hczhai/block2-preview/blob/master/docs/source/tutorial/qc-hamiltonians.ipynb)"
      ],
      "metadata": {
        "id": "f1v7ZIHNvg7D"
      }
    },
    {
      "cell_type": "code",
      "execution_count": 1,
      "metadata": {
        "id": "yVRKfOfyvaox"
      },
      "outputs": [],
      "source": [
        "!pip install block2==0.5.2rc13 -qq --progress-bar off --extra-index-url=https://block-hczhai.github.io/block2-preview/pypi/\n",
        "!pip install pyscf==2.3.0 -qq --progress-bar off"
      ]
    },
    {
      "cell_type": "markdown",
      "source": [
        "## Introduction\n",
        "\n",
        "In this tutorial we explain how to perform quantum chemistry DMRG using the python interface of ``block2``.\n",
        "\n",
        "The quantum chemistry Hamiltonian in its second quantized form has to be defined in a set of orbitals, such as the Hartree-Fock (or Density Functional Theory) orbitals. The symmetry that can be used in the DMRG calculation is thus has a dependence on the symmetry of the Hartree-Fock orbitals.\n",
        "\n",
        "1. For spin-restricted Hartree-Fock (RHF) orbitals, we can perform spin-adapted DMRG (``SU2`` mode in ``block2``) or non-spin-adapted DMRG with any lower symmetries (``SZ`` or ``SGF``).\n",
        "\n",
        "2. For spin-unrestricted Hartree-Fock (UHF) orbitals, we can perform non-spin-adapted DMRG (``SZ`` mode in ``block2``) or DMRG with lower symmetries (such as ``SGF``).\n",
        "\n",
        "3. For general Hartree-Fock (GHF) orbitals, we can perform DMRG in spin-orbitals (``SGF`` mode in ``block2``) or first translate the Hamiltonian into the qubit Hamiltonian then do DMRG (``SGB`` mode in ``block2``).\n",
        "\n",
        "4. For relativistic Dirac Hartree-Fock (DHF) orbitals, we can perform DMRG in complex spin-orbitals (``SGFCPX`` mode in ``block2``).\n",
        "\n",
        "5. For atom and diatomic molecules, we can perform spin-adapted/non-spin-adapted/spin-orbital DMRG (``SAnySU2LZ/SAnySZLZ/SAnySGFLZ`` modes in ``block2``) with the $L_z$ symmetry.\n",
        "\n",
        "Next, we will explain how to set up the integrals and perform DMRG in each of the modes (1) (2) (3) (4) and (5). The quantum chemistry integrals will be generated using ``pyscf`` and transformed using funtions defined in ``pyblock2._pyscf.ao2mo``.\n"
      ],
      "metadata": {
        "id": "QbsjgwANwd-C"
      }
    },
    {
      "cell_type": "code",
      "source": [
        "import numpy as np\n",
        "from pyblock2._pyscf.ao2mo import integrals as itg\n",
        "from pyblock2.driver.core import DMRGDriver, SymmetryTypes"
      ],
      "metadata": {
        "id": "aEtzPUucyvCg"
      },
      "execution_count": 2,
      "outputs": []
    },
    {
      "cell_type": "markdown",
      "source": [
        "## Spin-Restricted Integrals\n",
        "\n",
        "Here we use ``get_rhf_integrals`` function to get the integrals. Note that in order to do DMRG in a CASCI space, one can set the ``ncore`` (number of core orbitals) and ``ncas`` (number of active orbitals) parameters in ``get_*_integrals``. ``ncas=None`` will include all orbitals in DMRG.\n",
        "\n",
        "For medium to large scale DMRG calculations, it is highly recommended to use a scratch space with high IO speed rather than the ``./tmp`` used in the following example. One also needs to set a suitable ``stack_mem`` in the ``DMRGDriver`` constructor to set the memory used for storing renormalized operators (in bytes). The default is ``stack_mem=int(1024**3)`` (1 GB). For medium scale calculations 10 to 30 GB might be required.\n",
        "\n",
        "For the meaning of DMRG parameters, please have a look at the [Hubbard - Run DMRG](https://block2.readthedocs.io/en/latest/tutorial/hubbard.html#Run-DMRG) page."
      ],
      "metadata": {
        "id": "kzFc7fBTyuQ_"
      }
    },
    {
      "cell_type": "code",
      "source": [
        "from pyscf import gto, scf\n",
        "\n",
        "mol = gto.M(atom=\"N 0 0 0; N 0 0 1.1\", basis=\"sto3g\", symmetry=\"d2h\", verbose=0)\n",
        "mf = scf.RHF(mol).run(conv_tol=1E-14)\n",
        "ncas, n_elec, spin, ecore, h1e, g2e, orb_sym = itg.get_rhf_integrals(mf,\n",
        "    ncore=0, ncas=None, g2e_symm=8)\n",
        "\n",
        "driver = DMRGDriver(scratch=\"./tmp\", symm_type=SymmetryTypes.SU2, n_threads=4)\n",
        "driver.initialize_system(n_sites=ncas, n_elec=n_elec, spin=spin, orb_sym=orb_sym)\n",
        "\n",
        "bond_dims = [250] * 4 + [500] * 4\n",
        "noises = [1e-4] * 4 + [1e-5] * 4 + [0]\n",
        "thrds = [1e-10] * 8\n",
        "\n",
        "mpo = driver.get_qc_mpo(h1e=h1e, g2e=g2e, ecore=ecore, iprint=1)\n",
        "ket = driver.get_random_mps(tag=\"GS\", bond_dim=250, nroots=1)\n",
        "energy = driver.dmrg(mpo, ket, n_sweeps=20, bond_dims=bond_dims, noises=noises,\n",
        "    thrds=thrds, iprint=1)\n",
        "print('DMRG energy = %20.15f' % energy)\n",
        "\n",
        "pdm1 = driver.get_1pdm(ket)\n",
        "pdm2 = driver.get_2pdm(ket).transpose(0, 3, 1, 2)\n",
        "print('Energy from pdms = %20.15f' % (np.einsum('ij,ij->', pdm1, h1e)\n",
        "    + 0.5 * np.einsum('ijkl,ijkl->', pdm2, driver.unpack_g2e(g2e)) + ecore))\n",
        "\n",
        "impo = driver.get_identity_mpo()\n",
        "expt = driver.expectation(ket, mpo, ket) / driver.expectation(ket, impo, ket)\n",
        "print('Energy from expectation = %20.15f' % expt)"
      ],
      "metadata": {
        "colab": {
          "base_uri": "https://localhost:8080/"
        },
        "id": "6t5RHG5hvv8V",
        "outputId": "42b89155-6079-4149-8a2b-6e7515463070"
      },
      "execution_count": 3,
      "outputs": [
        {
          "output_type": "stream",
          "name": "stdout",
          "text": [
            "integral symmetrize error =  5.977257773040786e-14\n",
            "integral cutoff error =  0.0\n",
            "mpo terms =       1030\n",
            "\n",
            "Build MPO | Nsites =    10 | Nterms =       1030 | Algorithm = FastBIP | Cutoff = 1.00e-20\n",
            " Site =     0 /    10 .. Mmpo =    13 DW = 0.00e+00 NNZ =       13 SPT = 0.0000 Tmvc = 0.000 T = 0.010\n",
            " Site =     1 /    10 .. Mmpo =    34 DW = 0.00e+00 NNZ =       63 SPT = 0.8575 Tmvc = 0.000 T = 0.009\n",
            " Site =     2 /    10 .. Mmpo =    56 DW = 0.00e+00 NNZ =      121 SPT = 0.9364 Tmvc = 0.000 T = 0.009\n",
            " Site =     3 /    10 .. Mmpo =    74 DW = 0.00e+00 NNZ =      373 SPT = 0.9100 Tmvc = 0.000 T = 0.010\n",
            " Site =     4 /    10 .. Mmpo =    80 DW = 0.00e+00 NNZ =      269 SPT = 0.9546 Tmvc = 0.000 T = 0.007\n",
            " Site =     5 /    10 .. Mmpo =    94 DW = 0.00e+00 NNZ =      169 SPT = 0.9775 Tmvc = 0.000 T = 0.009\n",
            " Site =     6 /    10 .. Mmpo =    54 DW = 0.00e+00 NNZ =      181 SPT = 0.9643 Tmvc = 0.000 T = 0.004\n",
            " Site =     7 /    10 .. Mmpo =    30 DW = 0.00e+00 NNZ =       73 SPT = 0.9549 Tmvc = 0.000 T = 0.007\n",
            " Site =     8 /    10 .. Mmpo =    14 DW = 0.00e+00 NNZ =       41 SPT = 0.9024 Tmvc = 0.000 T = 0.006\n",
            " Site =     9 /    10 .. Mmpo =     1 DW = 0.00e+00 NNZ =       14 SPT = 0.0000 Tmvc = 0.000 T = 0.010\n",
            "Ttotal =      0.082 Tmvc-total = 0.003 MPO bond dimension =    94 MaxDW = 0.00e+00\n",
            "NNZ =         1317 SIZE =        27073 SPT = 0.9514\n",
            "\n",
            "Rank =     0 Ttotal =      0.197 MPO method = FastBipartite bond dimension =      94 NNZ =         1317 SIZE =        27073 SPT = 0.9514\n",
            "\n",
            "Sweep =    0 | Direction =  forward | Bond dimension =  250 | Noise =  1.00e-04 | Dav threshold =  1.00e-10\n",
            "Time elapsed =      1.239 | E =    -107.6541224475 | DW = 1.87e-10\n",
            "\n",
            "Sweep =    1 | Direction = backward | Bond dimension =  250 | Noise =  1.00e-04 | Dav threshold =  1.00e-10\n",
            "Time elapsed =      1.842 | E =    -107.6541224475 | DE = -5.40e-12 | DW = 5.66e-20\n",
            "\n",
            "Sweep =    2 | Direction =  forward | Bond dimension =  250 | Noise =  1.00e-04 | Dav threshold =  1.00e-10\n",
            "Time elapsed =      2.663 | E =    -107.6541224475 | DE = 0.00e+00 | DW = 1.87e-10\n",
            "\n",
            "Sweep =    3 | Direction = backward | Bond dimension =  250 | Noise =  1.00e-04 | Dav threshold =  1.00e-10\n",
            "Time elapsed =      3.203 | E =    -107.6541224475 | DE = -7.96e-13 | DW = 5.72e-20\n",
            "\n",
            "Sweep =    4 | Direction =  forward | Bond dimension =  500 | Noise =  1.00e-05 | Dav threshold =  1.00e-10\n",
            "Time elapsed =      3.918 | E =    -107.6541224475 | DE = -2.84e-14 | DW = 1.92e-20\n",
            "\n",
            "Sweep =    5 | Direction = backward | Bond dimension =  500 | Noise =  1.00e-05 | Dav threshold =  1.00e-10\n",
            "Time elapsed =      4.457 | E =    -107.6541224475 | DE = 0.00e+00 | DW = 5.42e-20\n",
            "\n",
            "Sweep =    6 | Direction =  forward | Bond dimension =  500 | Noise =  1.00e-05 | Dav threshold =  1.00e-10\n",
            "Time elapsed =      5.188 | E =    -107.6541224475 | DE = 0.00e+00 | DW = 3.01e-20\n",
            "\n",
            "Sweep =    7 | Direction = backward | Bond dimension =  500 | Noise =  1.00e-05 | Dav threshold =  1.00e-10\n",
            "Time elapsed =      5.683 | E =    -107.6541224475 | DE = -2.84e-14 | DW = 5.57e-20\n",
            "\n",
            "Sweep =    8 | Direction =  forward | Bond dimension =  500 | Noise =  0.00e+00 | Dav threshold =  1.00e-09\n",
            "Time elapsed =      6.061 | E =    -107.6541224475 | DE = 2.84e-14 | DW = 2.64e-20\n",
            "\n",
            "DMRG energy = -107.654122447524443\n",
            "Energy from pdms = -107.654122447524387\n",
            "Energy from expectation = -107.654122447524344\n"
          ]
        }
      ]
    },
    {
      "cell_type": "markdown",
      "source": [
        "We can also run non-spin-adapted DMRG (``SZ`` mode) using the restricted integrals."
      ],
      "metadata": {
        "id": "ErrotOt42zbM"
      }
    },
    {
      "cell_type": "code",
      "source": [
        "driver = DMRGDriver(scratch=\"./tmp\", symm_type=SymmetryTypes.SZ, n_threads=4)\n",
        "driver.initialize_system(n_sites=ncas, n_elec=n_elec, spin=spin, orb_sym=orb_sym)\n",
        "\n",
        "mpo = driver.get_qc_mpo(h1e=h1e, g2e=g2e, ecore=ecore, iprint=1)\n",
        "ket = driver.get_random_mps(tag=\"GS\", bond_dim=250, nroots=1)\n",
        "energy = driver.dmrg(mpo, ket, n_sweeps=20, bond_dims=bond_dims, noises=noises,\n",
        "    thrds=thrds, iprint=1)\n",
        "print('DMRG energy = %20.15f' % energy)"
      ],
      "metadata": {
        "colab": {
          "base_uri": "https://localhost:8080/"
        },
        "id": "rUIaHYBZ2gBZ",
        "outputId": "51c4247a-aa65-43e7-b52a-303a7d20648a"
      },
      "execution_count": 4,
      "outputs": [
        {
          "output_type": "stream",
          "name": "stdout",
          "text": [
            "integral symmetrize error =  7.512924107430347e-14\n",
            "integral cutoff error =  0.0\n",
            "mpo terms =       2778\n",
            "\n",
            "Build MPO | Nsites =    10 | Nterms =       2778 | Algorithm = FastBIP | Cutoff = 1.00e-20\n",
            " Site =     0 /    10 .. Mmpo =    26 DW = 0.00e+00 NNZ =       26 SPT = 0.0000 Tmvc = 0.001 T = 0.005\n",
            " Site =     1 /    10 .. Mmpo =    66 DW = 0.00e+00 NNZ =      143 SPT = 0.9167 Tmvc = 0.001 T = 0.006\n",
            " Site =     2 /    10 .. Mmpo =   110 DW = 0.00e+00 NNZ =      283 SPT = 0.9610 Tmvc = 0.001 T = 0.008\n",
            " Site =     3 /    10 .. Mmpo =   138 DW = 0.00e+00 NNZ =     1023 SPT = 0.9326 Tmvc = 0.004 T = 0.013\n",
            " Site =     4 /    10 .. Mmpo =   158 DW = 0.00e+00 NNZ =      535 SPT = 0.9755 Tmvc = 0.001 T = 0.010\n",
            " Site =     5 /    10 .. Mmpo =   186 DW = 0.00e+00 NNZ =      463 SPT = 0.9842 Tmvc = 0.001 T = 0.010\n",
            " Site =     6 /    10 .. Mmpo =   106 DW = 0.00e+00 NNZ =      415 SPT = 0.9790 Tmvc = 0.000 T = 0.010\n",
            " Site =     7 /    10 .. Mmpo =    58 DW = 0.00e+00 NNZ =      163 SPT = 0.9735 Tmvc = 0.000 T = 0.025\n",
            " Site =     8 /    10 .. Mmpo =    26 DW = 0.00e+00 NNZ =       87 SPT = 0.9423 Tmvc = 0.000 T = 0.010\n",
            " Site =     9 /    10 .. Mmpo =     1 DW = 0.00e+00 NNZ =       26 SPT = 0.0000 Tmvc = 0.000 T = 0.005\n",
            "Ttotal =      0.103 Tmvc-total = 0.009 MPO bond dimension =   186 MaxDW = 0.00e+00\n",
            "NNZ =         3164 SIZE =       102772 SPT = 0.9692\n",
            "\n",
            "Rank =     0 Ttotal =      0.178 MPO method = FastBipartite bond dimension =     186 NNZ =         3164 SIZE =       102772 SPT = 0.9692\n",
            "\n",
            "Sweep =    0 | Direction =  forward | Bond dimension =  250 | Noise =  1.00e-04 | Dav threshold =  1.00e-10\n",
            "Time elapsed =      1.281 | E =    -107.6541224475 | DW = 4.14e-08\n",
            "\n",
            "Sweep =    1 | Direction = backward | Bond dimension =  250 | Noise =  1.00e-04 | Dav threshold =  1.00e-10\n",
            "Time elapsed =      2.089 | E =    -107.6541224475 | DE = -1.31e-11 | DW = 5.10e-09\n",
            "\n",
            "Sweep =    2 | Direction =  forward | Bond dimension =  250 | Noise =  1.00e-04 | Dav threshold =  1.00e-10\n",
            "Time elapsed =      2.909 | E =    -107.6541224475 | DE = -1.42e-12 | DW = 4.14e-08\n",
            "\n",
            "Sweep =    3 | Direction = backward | Bond dimension =  250 | Noise =  1.00e-04 | Dav threshold =  1.00e-10\n",
            "Time elapsed =      4.136 | E =    -107.6541224475 | DE = 1.42e-12 | DW = 5.19e-09\n",
            "\n",
            "Sweep =    4 | Direction =  forward | Bond dimension =  500 | Noise =  1.00e-05 | Dav threshold =  1.00e-10\n",
            "Time elapsed =      5.572 | E =    -107.6541224475 | DE = -1.17e-12 | DW = 3.60e-11\n",
            "\n",
            "Sweep =    5 | Direction = backward | Bond dimension =  500 | Noise =  1.00e-05 | Dav threshold =  1.00e-10\n",
            "Time elapsed =      6.850 | E =    -107.6541224475 | DE = 9.95e-13 | DW = 1.60e-19\n",
            "\n",
            "Sweep =    6 | Direction =  forward | Bond dimension =  500 | Noise =  1.00e-05 | Dav threshold =  1.00e-10\n",
            "Time elapsed =      7.709 | E =    -107.6541224475 | DE = 0.00e+00 | DW = 3.60e-11\n",
            "\n",
            "Sweep =    7 | Direction = backward | Bond dimension =  500 | Noise =  1.00e-05 | Dav threshold =  1.00e-10\n",
            "Time elapsed =      8.581 | E =    -107.6541224475 | DE = -1.25e-12 | DW = 1.60e-19\n",
            "\n",
            "Sweep =    8 | Direction =  forward | Bond dimension =  500 | Noise =  0.00e+00 | Dav threshold =  1.00e-09\n",
            "Time elapsed =      9.169 | E =    -107.6541224475 | DE = -2.84e-14 | DW = 5.07e-20\n",
            "\n",
            "DMRG energy = -107.654122447524500\n"
          ]
        }
      ]
    },
    {
      "cell_type": "markdown",
      "source": [
        "We can also run DMRG in spin orbitals (``SGF`` mode) using the restricted integrals, which will be much slower (for more realistic systems)."
      ],
      "metadata": {
        "id": "jeeDGMB83AaU"
      }
    },
    {
      "cell_type": "code",
      "source": [
        "driver = DMRGDriver(scratch=\"./tmp\", symm_type=SymmetryTypes.SGF, n_threads=4)\n",
        "\n",
        "driver.n_sites = ncas\n",
        "g2e = driver.unpack_g2e(g2e)\n",
        "orb_sym = [orb_sym[i // 2] for i in range(len(orb_sym) * 2)]\n",
        "n_sites = ncas * 2\n",
        "\n",
        "driver.initialize_system(n_sites=n_sites, n_elec=n_elec, spin=spin, orb_sym=orb_sym)\n",
        "\n",
        "mpo = driver.get_qc_mpo(h1e=h1e, g2e=g2e, ecore=ecore, iprint=1)\n",
        "ket = driver.get_random_mps(tag=\"GS\", bond_dim=250, nroots=1)\n",
        "energy = driver.dmrg(mpo, ket, n_sweeps=20, bond_dims=bond_dims, noises=noises,\n",
        "    thrds=thrds, iprint=1)\n",
        "print('DMRG energy = %20.15f' % energy)"
      ],
      "metadata": {
        "colab": {
          "base_uri": "https://localhost:8080/"
        },
        "id": "yM1JgseK26_K",
        "outputId": "31bbbd40-2cce-42d7-d331-900a132adc33"
      },
      "execution_count": 5,
      "outputs": [
        {
          "output_type": "stream",
          "name": "stdout",
          "text": [
            "integral symmetrize error =  7.512924107430346e-14\n",
            "integral cutoff error =  0.0\n",
            "mpo terms =       2438\n",
            "\n",
            "Build MPO | Nsites =    20 | Nterms =       2438 | Algorithm = FastBIP | Cutoff = 1.00e-20\n",
            " Site =     0 /    20 .. Mmpo =     7 DW = 0.00e+00 NNZ =        7 SPT = 0.0000 Tmvc = 0.000 T = 0.005\n",
            " Site =     1 /    20 .. Mmpo =    20 DW = 0.00e+00 NNZ =       19 SPT = 0.8643 Tmvc = 0.001 T = 0.006\n",
            " Site =     2 /    20 .. Mmpo =    45 DW = 0.00e+00 NNZ =       45 SPT = 0.9500 Tmvc = 0.001 T = 0.005\n",
            " Site =     3 /    20 .. Mmpo =    62 DW = 0.00e+00 NNZ =      131 SPT = 0.9530 Tmvc = 0.001 T = 0.005\n",
            " Site =     4 /    20 .. Mmpo =    81 DW = 0.00e+00 NNZ =      159 SPT = 0.9683 Tmvc = 0.001 T = 0.005\n",
            " Site =     5 /    20 .. Mmpo =   104 DW = 0.00e+00 NNZ =      203 SPT = 0.9759 Tmvc = 0.001 T = 0.006\n",
            " Site =     6 /    20 .. Mmpo =   125 DW = 0.00e+00 NNZ =      265 SPT = 0.9796 Tmvc = 0.001 T = 0.006\n",
            " Site =     7 /    20 .. Mmpo =   126 DW = 0.00e+00 NNZ =      974 SPT = 0.9382 Tmvc = 0.001 T = 0.008\n",
            " Site =     8 /    20 .. Mmpo =   151 DW = 0.00e+00 NNZ =      188 SPT = 0.9901 Tmvc = 0.001 T = 0.010\n",
            " Site =     9 /    20 .. Mmpo =   148 DW = 0.00e+00 NNZ =      344 SPT = 0.9846 Tmvc = 0.001 T = 0.037\n",
            " Site =    10 /    20 .. Mmpo =   177 DW = 0.00e+00 NNZ =      246 SPT = 0.9906 Tmvc = 0.001 T = 0.007\n",
            " Site =    11 /    20 .. Mmpo =   178 DW = 0.00e+00 NNZ =      402 SPT = 0.9872 Tmvc = 0.001 T = 0.006\n",
            " Site =    12 /    20 .. Mmpo =   147 DW = 0.00e+00 NNZ =      306 SPT = 0.9883 Tmvc = 0.001 T = 0.005\n",
            " Site =    13 /    20 .. Mmpo =   100 DW = 0.00e+00 NNZ =      242 SPT = 0.9835 Tmvc = 0.000 T = 0.004\n",
            " Site =    14 /    20 .. Mmpo =    77 DW = 0.00e+00 NNZ =      150 SPT = 0.9805 Tmvc = 0.000 T = 0.004\n",
            " Site =    15 /    20 .. Mmpo =    54 DW = 0.00e+00 NNZ =       94 SPT = 0.9774 Tmvc = 0.000 T = 0.003\n",
            " Site =    16 /    20 .. Mmpo =    39 DW = 0.00e+00 NNZ =       82 SPT = 0.9611 Tmvc = 0.000 T = 0.003\n",
            " Site =    17 /    20 .. Mmpo =    20 DW = 0.00e+00 NNZ =       50 SPT = 0.9359 Tmvc = 0.000 T = 0.004\n",
            " Site =    18 /    20 .. Mmpo =     7 DW = 0.00e+00 NNZ =       20 SPT = 0.8571 Tmvc = 0.000 T = 0.002\n",
            " Site =    19 /    20 .. Mmpo =     1 DW = 0.00e+00 NNZ =        7 SPT = 0.0000 Tmvc = 0.000 T = 0.002\n",
            "Ttotal =      0.134 Tmvc-total = 0.012 MPO bond dimension =   178 MaxDW = 0.00e+00\n",
            "NNZ =         3934 SIZE =       200866 SPT = 0.9804\n",
            "\n",
            "Rank =     0 Ttotal =      0.186 MPO method = FastBipartite bond dimension =     178 NNZ =         3934 SIZE =       200866 SPT = 0.9804\n",
            "\n",
            "Sweep =    0 | Direction =  forward | Bond dimension =  250 | Noise =  1.00e-04 | Dav threshold =  1.00e-10\n",
            "Time elapsed =      0.861 | E =    -107.6541216205 | DW = 7.62e-08\n",
            "\n",
            "Sweep =    1 | Direction = backward | Bond dimension =  250 | Noise =  1.00e-04 | Dav threshold =  1.00e-10\n",
            "Time elapsed =      1.471 | E =    -107.6541223420 | DE = -7.21e-07 | DW = 6.45e-08\n",
            "\n",
            "Sweep =    2 | Direction =  forward | Bond dimension =  250 | Noise =  1.00e-04 | Dav threshold =  1.00e-10\n",
            "Time elapsed =      2.030 | E =    -107.6541224347 | DE = -9.27e-08 | DW = 7.64e-08\n",
            "\n",
            "Sweep =    3 | Direction = backward | Bond dimension =  250 | Noise =  1.00e-04 | Dav threshold =  1.00e-10\n",
            "Time elapsed =      2.597 | E =    -107.6541224347 | DE = 8.81e-13 | DW = 6.15e-08\n",
            "\n",
            "Sweep =    4 | Direction =  forward | Bond dimension =  500 | Noise =  1.00e-05 | Dav threshold =  1.00e-10\n",
            "Time elapsed =      3.707 | E =    -107.6541224379 | DE = -3.17e-09 | DW = 6.46e-11\n",
            "\n",
            "Sweep =    5 | Direction = backward | Bond dimension =  500 | Noise =  1.00e-05 | Dav threshold =  1.00e-10\n",
            "Time elapsed =      5.003 | E =    -107.6541224379 | DE = -3.37e-11 | DW = 7.34e-20\n",
            "\n",
            "Sweep =    6 | Direction =  forward | Bond dimension =  500 | Noise =  1.00e-05 | Dav threshold =  1.00e-10\n",
            "Time elapsed =      6.306 | E =    -107.6541224379 | DE = 0.00e+00 | DW = 6.46e-11\n",
            "\n",
            "Sweep =    7 | Direction = backward | Bond dimension =  500 | Noise =  1.00e-05 | Dav threshold =  1.00e-10\n",
            "Time elapsed =      7.088 | E =    -107.6541224379 | DE = 7.11e-13 | DW = 7.10e-20\n",
            "\n",
            "Sweep =    8 | Direction =  forward | Bond dimension =  500 | Noise =  0.00e+00 | Dav threshold =  1.00e-09\n",
            "Time elapsed =      7.514 | E =    -107.6541224379 | DE = 2.84e-14 | DW = 8.86e-20\n",
            "\n",
            "DMRG energy = -107.654122437940984\n"
          ]
        }
      ]
    },
    {
      "cell_type": "markdown",
      "source": [
        "## Read and Write FCIDUMP Files\n",
        "\n",
        "Instead of generating integrals (``h1e`` and ``g2e``) using ``pyscf``, we can also read these integrals from a FCIDUMP file (which can be generated using any of many other quantum chemistry packages) then perform DMRG. Additionally, we also provide methods to write the FCIDUMP file using the data in the ``h1e`` and ``g2e`` arrays.\n",
        "\n",
        "After invoking ``driver.read_fcidump``, the integrals and target state infomation can be obtained from ``driver.h1e``, ``driver.g2e``, ``driver.n_sites``, etc."
      ],
      "metadata": {
        "id": "Tv12wxAZ-__F"
      }
    },
    {
      "cell_type": "code",
      "source": [
        "from pyscf import gto, scf\n",
        "\n",
        "mol = gto.M(atom=\"N 0 0 0; N 0 0 1.1\", basis=\"sto3g\", symmetry=\"d2h\", verbose=0)\n",
        "mf = scf.RHF(mol).run(conv_tol=1E-14)\n",
        "ncas, n_elec, spin, ecore, h1e, g2e, orb_sym = itg.get_rhf_integrals(mf,\n",
        "    ncore=0, ncas=None, g2e_symm=8)\n",
        "\n",
        "driver = DMRGDriver(scratch=\"./tmp\", symm_type=SymmetryTypes.SU2, n_threads=4)\n",
        "\n",
        "# write integrals to file\n",
        "driver.initialize_system(n_sites=ncas, n_elec=n_elec, spin=spin, orb_sym=orb_sym)\n",
        "driver.write_fcidump(h1e, g2e, ecore, filename='N2.STO3G.FCIDUMP', h1e_symm=True, pg='d2h')\n",
        "\n",
        "# read integrals from file\n",
        "driver.read_fcidump(filename='N2.STO3G.FCIDUMP', pg='d2h')\n",
        "driver.initialize_system(n_sites=driver.n_sites, n_elec=driver.n_elec,\n",
        "                         spin=driver.spin, orb_sym=driver.orb_sym)\n",
        "\n",
        "bond_dims = [250] * 4 + [500] * 4\n",
        "noises = [1e-4] * 4 + [1e-5] * 4 + [0]\n",
        "thrds = [1e-10] * 8\n",
        "\n",
        "mpo = driver.get_qc_mpo(h1e=driver.h1e, g2e=driver.g2e, ecore=driver.ecore, iprint=1)\n",
        "ket = driver.get_random_mps(tag=\"GS\", bond_dim=250, nroots=1)\n",
        "energy = driver.dmrg(mpo, ket, n_sweeps=20, bond_dims=bond_dims, noises=noises,\n",
        "    thrds=thrds, iprint=1)\n",
        "print('DMRG energy = %20.15f' % energy)"
      ],
      "metadata": {
        "colab": {
          "base_uri": "https://localhost:8080/"
        },
        "id": "iPFRxRzO9MQe",
        "outputId": "f1675633-7e1f-4ba5-a90f-05ebd44865db"
      },
      "execution_count": 6,
      "outputs": [
        {
          "output_type": "stream",
          "name": "stdout",
          "text": [
            "symmetrize error =  2.3300000000000018e-14\n",
            "integral symmetrize error =  0.0\n",
            "integral cutoff error =  0.0\n",
            "mpo terms =       1030\n",
            "\n",
            "Build MPO | Nsites =    10 | Nterms =       1030 | Algorithm = FastBIP | Cutoff = 1.00e-20\n",
            " Site =     0 /    10 .. Mmpo =    13 DW = 0.00e+00 NNZ =       13 SPT = 0.0000 Tmvc = 0.000 T = 0.011\n",
            " Site =     1 /    10 .. Mmpo =    34 DW = 0.00e+00 NNZ =       63 SPT = 0.8575 Tmvc = 0.000 T = 0.018\n",
            " Site =     2 /    10 .. Mmpo =    56 DW = 0.00e+00 NNZ =      121 SPT = 0.9364 Tmvc = 0.000 T = 0.032\n",
            " Site =     3 /    10 .. Mmpo =    74 DW = 0.00e+00 NNZ =      373 SPT = 0.9100 Tmvc = 0.001 T = 0.007\n",
            " Site =     4 /    10 .. Mmpo =    80 DW = 0.00e+00 NNZ =      269 SPT = 0.9546 Tmvc = 0.000 T = 0.004\n",
            " Site =     5 /    10 .. Mmpo =    94 DW = 0.00e+00 NNZ =      169 SPT = 0.9775 Tmvc = 0.000 T = 0.012\n",
            " Site =     6 /    10 .. Mmpo =    54 DW = 0.00e+00 NNZ =      181 SPT = 0.9643 Tmvc = 0.000 T = 0.004\n",
            " Site =     7 /    10 .. Mmpo =    30 DW = 0.00e+00 NNZ =       73 SPT = 0.9549 Tmvc = 0.000 T = 0.007\n",
            " Site =     8 /    10 .. Mmpo =    14 DW = 0.00e+00 NNZ =       41 SPT = 0.9024 Tmvc = 0.000 T = 0.004\n",
            " Site =     9 /    10 .. Mmpo =     1 DW = 0.00e+00 NNZ =       14 SPT = 0.0000 Tmvc = 0.000 T = 0.004\n",
            "Ttotal =      0.103 Tmvc-total = 0.003 MPO bond dimension =    94 MaxDW = 0.00e+00\n",
            "NNZ =         1317 SIZE =        27073 SPT = 0.9514\n",
            "\n",
            "Rank =     0 Ttotal =      0.171 MPO method = FastBipartite bond dimension =      94 NNZ =         1317 SIZE =        27073 SPT = 0.9514\n",
            "\n",
            "Sweep =    0 | Direction =  forward | Bond dimension =  250 | Noise =  1.00e-04 | Dav threshold =  1.00e-10\n",
            "Time elapsed =      0.556 | E =    -107.6541224475 | DW = 1.87e-10\n",
            "\n",
            "Sweep =    1 | Direction = backward | Bond dimension =  250 | Noise =  1.00e-04 | Dav threshold =  1.00e-10\n",
            "Time elapsed =      0.903 | E =    -107.6541224475 | DE = -3.52e-12 | DW = 4.66e-20\n",
            "\n",
            "Sweep =    2 | Direction =  forward | Bond dimension =  250 | Noise =  1.00e-04 | Dav threshold =  1.00e-10\n",
            "Time elapsed =      1.295 | E =    -107.6541224475 | DE = -2.84e-14 | DW = 1.87e-10\n",
            "\n",
            "Sweep =    3 | Direction = backward | Bond dimension =  250 | Noise =  1.00e-04 | Dav threshold =  1.00e-10\n",
            "Time elapsed =      1.686 | E =    -107.6541224475 | DE = -5.97e-13 | DW = 5.90e-20\n",
            "\n",
            "Sweep =    4 | Direction =  forward | Bond dimension =  500 | Noise =  1.00e-05 | Dav threshold =  1.00e-10\n",
            "Time elapsed =      2.136 | E =    -107.6541224475 | DE = -5.68e-14 | DW = 2.02e-20\n",
            "\n",
            "Sweep =    5 | Direction = backward | Bond dimension =  500 | Noise =  1.00e-05 | Dav threshold =  1.00e-10\n",
            "Time elapsed =      2.523 | E =    -107.6541224475 | DE = 0.00e+00 | DW = 4.86e-20\n",
            "\n",
            "Sweep =    6 | Direction =  forward | Bond dimension =  500 | Noise =  1.00e-05 | Dav threshold =  1.00e-10\n",
            "Time elapsed =      2.946 | E =    -107.6541224475 | DE = 2.84e-14 | DW = 3.08e-20\n",
            "\n",
            "Sweep =    7 | Direction = backward | Bond dimension =  500 | Noise =  1.00e-05 | Dav threshold =  1.00e-10\n",
            "Time elapsed =      3.342 | E =    -107.6541224475 | DE = -2.84e-14 | DW = 5.58e-20\n",
            "\n",
            "Sweep =    8 | Direction =  forward | Bond dimension =  500 | Noise =  0.00e+00 | Dav threshold =  1.00e-09\n",
            "Time elapsed =      3.607 | E =    -107.6541224475 | DE = 0.00e+00 | DW = 2.33e-20\n",
            "\n",
            "DMRG energy = -107.654122447524614\n"
          ]
        }
      ]
    },
    {
      "cell_type": "markdown",
      "source": [
        "## The ``SZ`` Mode\n",
        "\n",
        "Here we use ``get_uhf_integrals`` function to get the integrals."
      ],
      "metadata": {
        "id": "-auHBxs_5KpK"
      }
    },
    {
      "cell_type": "code",
      "source": [
        "from pyscf import gto, scf\n",
        "\n",
        "mol = gto.M(atom=\"N 0 0 0; N 0 0 1.1\", basis=\"sto3g\", symmetry=\"d2h\", verbose=0)\n",
        "mf = scf.UHF(mol).run(conv_tol=1E-14)\n",
        "ncas, n_elec, spin, ecore, h1e, g2e, orb_sym = itg.get_uhf_integrals(mf,\n",
        "    ncore=0, ncas=None, g2e_symm=8)\n",
        "\n",
        "driver = DMRGDriver(scratch=\"./tmp\", symm_type=SymmetryTypes.SZ, n_threads=4)\n",
        "driver.initialize_system(n_sites=ncas, n_elec=n_elec, spin=spin, orb_sym=orb_sym)\n",
        "\n",
        "mpo = driver.get_qc_mpo(h1e=h1e, g2e=g2e, ecore=ecore, iprint=1)\n",
        "ket = driver.get_random_mps(tag=\"GS\", bond_dim=250, nroots=1)\n",
        "energy = driver.dmrg(mpo, ket, n_sweeps=20, bond_dims=bond_dims, noises=noises,\n",
        "    thrds=thrds, iprint=1)\n",
        "print('DMRG energy = %20.15f' % energy)"
      ],
      "metadata": {
        "colab": {
          "base_uri": "https://localhost:8080/"
        },
        "id": "dQ_84lHJ3Zbw",
        "outputId": "15c0188e-5949-4520-d54b-299f88651a0c"
      },
      "execution_count": 7,
      "outputs": [
        {
          "output_type": "stream",
          "name": "stdout",
          "text": [
            "integral symmetrize error =  1.5366482610151817e-13\n",
            "integral cutoff error =  0.0\n",
            "mpo terms =       2778\n",
            "\n",
            "Build MPO | Nsites =    10 | Nterms =       2778 | Algorithm = FastBIP | Cutoff = 1.00e-20\n",
            " Site =     0 /    10 .. Mmpo =    26 DW = 0.00e+00 NNZ =       26 SPT = 0.0000 Tmvc = 0.001 T = 0.018\n",
            " Site =     1 /    10 .. Mmpo =    66 DW = 0.00e+00 NNZ =      143 SPT = 0.9167 Tmvc = 0.001 T = 0.014\n",
            " Site =     2 /    10 .. Mmpo =   110 DW = 0.00e+00 NNZ =      283 SPT = 0.9610 Tmvc = 0.001 T = 0.012\n",
            " Site =     3 /    10 .. Mmpo =   138 DW = 0.00e+00 NNZ =     1023 SPT = 0.9326 Tmvc = 0.002 T = 0.015\n",
            " Site =     4 /    10 .. Mmpo =   158 DW = 0.00e+00 NNZ =      535 SPT = 0.9755 Tmvc = 0.001 T = 0.012\n",
            " Site =     5 /    10 .. Mmpo =   186 DW = 0.00e+00 NNZ =      463 SPT = 0.9842 Tmvc = 0.001 T = 0.007\n",
            " Site =     6 /    10 .. Mmpo =   106 DW = 0.00e+00 NNZ =      415 SPT = 0.9790 Tmvc = 0.000 T = 0.006\n",
            " Site =     7 /    10 .. Mmpo =    58 DW = 0.00e+00 NNZ =      163 SPT = 0.9735 Tmvc = 0.000 T = 0.004\n",
            " Site =     8 /    10 .. Mmpo =    26 DW = 0.00e+00 NNZ =       87 SPT = 0.9423 Tmvc = 0.000 T = 0.003\n",
            " Site =     9 /    10 .. Mmpo =     1 DW = 0.00e+00 NNZ =       26 SPT = 0.0000 Tmvc = 0.000 T = 0.003\n",
            "Ttotal =      0.093 Tmvc-total = 0.007 MPO bond dimension =   186 MaxDW = 0.00e+00\n",
            "NNZ =         3164 SIZE =       102772 SPT = 0.9692\n",
            "\n",
            "Rank =     0 Ttotal =      0.141 MPO method = FastBipartite bond dimension =     186 NNZ =         3164 SIZE =       102772 SPT = 0.9692\n",
            "\n",
            "Sweep =    0 | Direction =  forward | Bond dimension =  250 | Noise =  1.00e-04 | Dav threshold =  1.00e-10\n",
            "Time elapsed =      0.783 | E =    -107.6541224475 | DW = 4.14e-08\n",
            "\n",
            "Sweep =    1 | Direction = backward | Bond dimension =  250 | Noise =  1.00e-04 | Dav threshold =  1.00e-10\n",
            "Time elapsed =      1.233 | E =    -107.6541224475 | DE = -1.78e-11 | DW = 5.23e-09\n",
            "\n",
            "Sweep =    2 | Direction =  forward | Bond dimension =  250 | Noise =  1.00e-04 | Dav threshold =  1.00e-10\n",
            "Time elapsed =      1.662 | E =    -107.6541224475 | DE = -1.19e-12 | DW = 4.14e-08\n",
            "\n",
            "Sweep =    3 | Direction = backward | Bond dimension =  250 | Noise =  1.00e-04 | Dav threshold =  1.00e-10\n",
            "Time elapsed =      2.104 | E =    -107.6541224475 | DE = 1.28e-12 | DW = 5.02e-09\n",
            "\n",
            "Sweep =    4 | Direction =  forward | Bond dimension =  500 | Noise =  1.00e-05 | Dav threshold =  1.00e-10\n",
            "Time elapsed =      2.629 | E =    -107.6541224475 | DE = -6.82e-13 | DW = 3.61e-11\n",
            "\n",
            "Sweep =    5 | Direction = backward | Bond dimension =  500 | Noise =  1.00e-05 | Dav threshold =  1.00e-10\n",
            "Time elapsed =      3.139 | E =    -107.6541224475 | DE = 8.53e-13 | DW = 1.92e-19\n",
            "\n",
            "Sweep =    6 | Direction =  forward | Bond dimension =  500 | Noise =  1.00e-05 | Dav threshold =  1.00e-10\n",
            "Time elapsed =      3.672 | E =    -107.6541224475 | DE = 0.00e+00 | DW = 3.60e-11\n",
            "\n",
            "Sweep =    7 | Direction = backward | Bond dimension =  500 | Noise =  1.00e-05 | Dav threshold =  1.00e-10\n",
            "Time elapsed =      4.173 | E =    -107.6541224475 | DE = -1.68e-12 | DW = 2.25e-19\n",
            "\n",
            "Sweep =    8 | Direction =  forward | Bond dimension =  500 | Noise =  0.00e+00 | Dav threshold =  1.00e-09\n",
            "Time elapsed =      4.529 | E =    -107.6541224475 | DE = 2.84e-14 | DW = 7.36e-20\n",
            "\n",
            "DMRG energy = -107.654122447524529\n"
          ]
        }
      ]
    },
    {
      "cell_type": "markdown",
      "source": [
        "## The ``SGF`` Mode\n",
        "\n",
        "Here we use ``get_ghf_integrals`` function to get the integrals."
      ],
      "metadata": {
        "id": "xBptlc0J5m7x"
      }
    },
    {
      "cell_type": "code",
      "source": [
        "from pyscf import gto, scf\n",
        "\n",
        "mol = gto.M(atom=\"N 0 0 0; N 0 0 1.1\", basis=\"sto3g\", symmetry=\"d2h\", verbose=0)\n",
        "mf = scf.GHF(mol).run(conv_tol=1E-14)\n",
        "ncas, n_elec, spin, ecore, h1e, g2e, orb_sym = itg.get_ghf_integrals(mf,\n",
        "    ncore=0, ncas=None, g2e_symm=8)\n",
        "\n",
        "driver = DMRGDriver(scratch=\"./tmp\", symm_type=SymmetryTypes.SGF, n_threads=4)\n",
        "driver.initialize_system(n_sites=ncas, n_elec=n_elec, spin=spin, orb_sym=orb_sym)\n",
        "\n",
        "mpo = driver.get_qc_mpo(h1e=h1e, g2e=g2e, ecore=ecore, iprint=1)\n",
        "ket = driver.get_random_mps(tag=\"GS\", bond_dim=250, nroots=1)\n",
        "energy = driver.dmrg(mpo, ket, n_sweeps=20, bond_dims=bond_dims, noises=noises,\n",
        "    thrds=thrds, iprint=1)\n",
        "print('DMRG energy = %20.15f' % energy)"
      ],
      "metadata": {
        "colab": {
          "base_uri": "https://localhost:8080/"
        },
        "id": "4aRS3PNz5iCK",
        "outputId": "5be98ef4-5317-4af5-de6f-a52896f3d48c"
      },
      "execution_count": 8,
      "outputs": [
        {
          "output_type": "stream",
          "name": "stdout",
          "text": [
            "integral symmetrize error =  2.1082787907764326e-13\n",
            "integral cutoff error =  0.0\n",
            "mpo terms =       5914\n",
            "\n",
            "Build MPO | Nsites =    20 | Nterms =       5914 | Algorithm = FastBIP | Cutoff = 1.00e-20\n",
            " Site =     0 /    20 .. Mmpo =     7 DW = 0.00e+00 NNZ =        7 SPT = 0.0000 Tmvc = 0.001 T = 0.007\n",
            " Site =     1 /    20 .. Mmpo =    20 DW = 0.00e+00 NNZ =       19 SPT = 0.8643 Tmvc = 0.001 T = 0.009\n",
            " Site =     2 /    20 .. Mmpo =    47 DW = 0.00e+00 NNZ =       49 SPT = 0.9479 Tmvc = 0.002 T = 0.010\n",
            " Site =     3 /    20 .. Mmpo =    62 DW = 0.00e+00 NNZ =      251 SPT = 0.9139 Tmvc = 0.002 T = 0.013\n",
            " Site =     4 /    20 .. Mmpo =    81 DW = 0.00e+00 NNZ =      273 SPT = 0.9456 Tmvc = 0.004 T = 0.019\n",
            " Site =     5 /    20 .. Mmpo =   104 DW = 0.00e+00 NNZ =      357 SPT = 0.9576 Tmvc = 0.003 T = 0.013\n",
            " Site =     6 /    20 .. Mmpo =   129 DW = 0.00e+00 NNZ =      563 SPT = 0.9580 Tmvc = 0.001 T = 0.012\n",
            " Site =     7 /    20 .. Mmpo =   126 DW = 0.00e+00 NNZ =     2318 SPT = 0.8574 Tmvc = 0.001 T = 0.014\n",
            " Site =     8 /    20 .. Mmpo =   155 DW = 0.00e+00 NNZ =      208 SPT = 0.9893 Tmvc = 0.002 T = 0.012\n",
            " Site =     9 /    20 .. Mmpo =   148 DW = 0.00e+00 NNZ =      686 SPT = 0.9701 Tmvc = 0.001 T = 0.014\n",
            " Site =    10 /    20 .. Mmpo =   181 DW = 0.00e+00 NNZ =      388 SPT = 0.9855 Tmvc = 0.001 T = 0.010\n",
            " Site =    11 /    20 .. Mmpo =   178 DW = 0.00e+00 NNZ =      720 SPT = 0.9777 Tmvc = 0.001 T = 0.011\n",
            " Site =    12 /    20 .. Mmpo =   147 DW = 0.00e+00 NNZ =      496 SPT = 0.9810 Tmvc = 0.001 T = 0.006\n",
            " Site =    13 /    20 .. Mmpo =   100 DW = 0.00e+00 NNZ =      412 SPT = 0.9720 Tmvc = 0.000 T = 0.004\n",
            " Site =    14 /    20 .. Mmpo =    77 DW = 0.00e+00 NNZ =      234 SPT = 0.9696 Tmvc = 0.000 T = 0.005\n",
            " Site =    15 /    20 .. Mmpo =    54 DW = 0.00e+00 NNZ =      118 SPT = 0.9716 Tmvc = 0.000 T = 0.003\n",
            " Site =    16 /    20 .. Mmpo =    39 DW = 0.00e+00 NNZ =      124 SPT = 0.9411 Tmvc = 0.000 T = 0.003\n",
            " Site =    17 /    20 .. Mmpo =    20 DW = 0.00e+00 NNZ =       76 SPT = 0.9026 Tmvc = 0.000 T = 0.004\n",
            " Site =    18 /    20 .. Mmpo =     7 DW = 0.00e+00 NNZ =       22 SPT = 0.8429 Tmvc = 0.000 T = 0.003\n",
            " Site =    19 /    20 .. Mmpo =     1 DW = 0.00e+00 NNZ =        7 SPT = 0.0000 Tmvc = 0.000 T = 0.003\n",
            "Ttotal =      0.176 Tmvc-total = 0.023 MPO bond dimension =   181 MaxDW = 0.00e+00\n",
            "NNZ =         7328 SIZE =       204350 SPT = 0.9641\n",
            "\n",
            "Rank =     0 Ttotal =      0.269 MPO method = FastBipartite bond dimension =     181 NNZ =         7328 SIZE =       204350 SPT = 0.9641\n",
            "\n",
            "Sweep =    0 | Direction =  forward | Bond dimension =  250 | Noise =  1.00e-04 | Dav threshold =  1.00e-10\n",
            "Time elapsed =      1.012 | E =    -107.6541220013 | DW = 8.06e-08\n",
            "\n",
            "Sweep =    1 | Direction = backward | Bond dimension =  250 | Noise =  1.00e-04 | Dav threshold =  1.00e-10\n",
            "Time elapsed =      1.754 | E =    -107.6541223288 | DE = -3.27e-07 | DW = 7.52e-08\n",
            "\n",
            "Sweep =    2 | Direction =  forward | Bond dimension =  250 | Noise =  1.00e-04 | Dav threshold =  1.00e-10\n",
            "Time elapsed =      2.474 | E =    -107.6541224307 | DE = -1.02e-07 | DW = 8.06e-08\n",
            "\n",
            "Sweep =    3 | Direction = backward | Bond dimension =  250 | Noise =  1.00e-04 | Dav threshold =  1.00e-10\n",
            "Time elapsed =      3.210 | E =    -107.6541224307 | DE = 1.14e-12 | DW = 6.96e-08\n",
            "\n",
            "Sweep =    4 | Direction =  forward | Bond dimension =  500 | Noise =  1.00e-05 | Dav threshold =  1.00e-10\n",
            "Time elapsed =      4.149 | E =    -107.6541224313 | DE = -5.22e-10 | DW = 8.65e-11\n",
            "\n",
            "Sweep =    5 | Direction = backward | Bond dimension =  500 | Noise =  1.00e-05 | Dav threshold =  1.00e-10\n",
            "Time elapsed =      5.121 | E =    -107.6541224313 | DE = 1.65e-12 | DW = 7.88e-20\n",
            "\n",
            "Sweep =    6 | Direction =  forward | Bond dimension =  500 | Noise =  1.00e-05 | Dav threshold =  1.00e-10\n",
            "Time elapsed =      6.140 | E =    -107.6541224313 | DE = -5.68e-14 | DW = 8.65e-11\n",
            "\n",
            "Sweep =    7 | Direction = backward | Bond dimension =  500 | Noise =  1.00e-05 | Dav threshold =  1.00e-10\n",
            "Time elapsed =      7.097 | E =    -107.6541224313 | DE = -2.47e-12 | DW = 7.25e-20\n",
            "\n",
            "Sweep =    8 | Direction =  forward | Bond dimension =  500 | Noise =  0.00e+00 | Dav threshold =  1.00e-09\n",
            "Time elapsed =      7.676 | E =    -107.6541224313 | DE = 0.00e+00 | DW = 8.25e-20\n",
            "\n",
            "DMRG energy = -107.654122431266543\n"
          ]
        }
      ]
    },
    {
      "cell_type": "markdown",
      "source": [
        "## The ``SGB`` Mode\n",
        "\n",
        "In this section, we try to solve the problem by first transfroming the model into a qubit (spin) model. The code will automatically use Jordan-Wigner transform to change the fermionic operators in the Hamiltonian into spin operators, before constructing the MPO.\n",
        "\n",
        "To use the ``SGB`` mode for ab initio systems, remember to add the ``heis_twos=1`` parameter (indicating the 1/2 spin at each site) in ``driver.initialize_system``."
      ],
      "metadata": {
        "id": "R_uMrwZk_eY9"
      }
    },
    {
      "cell_type": "code",
      "source": [
        "from pyscf import gto, scf\n",
        "\n",
        "mol = gto.M(atom=\"N 0 0 0; N 0 0 1.1\", basis=\"sto3g\", symmetry=\"d2h\", verbose=0)\n",
        "mf = scf.GHF(mol).run(conv_tol=1E-14)\n",
        "ncas, n_elec, spin, ecore, h1e, g2e, orb_sym = itg.get_ghf_integrals(mf,\n",
        "    ncore=0, ncas=None, g2e_symm=8)\n",
        "\n",
        "driver = DMRGDriver(scratch=\"./tmp\", symm_type=SymmetryTypes.SGB, n_threads=4)\n",
        "driver.initialize_system(n_sites=ncas, n_elec=n_elec, spin=spin, orb_sym=orb_sym, heis_twos=1)\n",
        "\n",
        "mpo = driver.get_qc_mpo(h1e=h1e, g2e=g2e, ecore=ecore, iprint=1)\n",
        "ket = driver.get_random_mps(tag=\"GS\", bond_dim=250, nroots=1)\n",
        "energy = driver.dmrg(mpo, ket, n_sweeps=20, bond_dims=bond_dims, noises=noises,\n",
        "    thrds=thrds, iprint=1)\n",
        "print('DMRG energy = %20.15f' % energy)"
      ],
      "metadata": {
        "colab": {
          "base_uri": "https://localhost:8080/"
        },
        "id": "4YxKU9N-_xom",
        "outputId": "2c2bc416-4f57-45a5-9f97-6325140f46ac"
      },
      "execution_count": 9,
      "outputs": [
        {
          "output_type": "stream",
          "name": "stdout",
          "text": [
            "integral symmetrize error =  2.140864794887064e-13\n",
            "integral cutoff error =  0.0\n",
            "mpo terms =       5984\n",
            "\n",
            "Build MPO | Nsites =    20 | Nterms =       5984 | Algorithm = FastBIP | Cutoff = 1.00e-20\n",
            " Site =     0 /    20 .. Mmpo =     7 DW = 0.00e+00 NNZ =        7 SPT = 0.0000 Tmvc = 0.001 T = 0.006\n",
            " Site =     1 /    20 .. Mmpo =    20 DW = 0.00e+00 NNZ =       19 SPT = 0.8643 Tmvc = 0.001 T = 0.009\n",
            " Site =     2 /    20 .. Mmpo =    47 DW = 0.00e+00 NNZ =       49 SPT = 0.9479 Tmvc = 0.002 T = 0.011\n",
            " Site =     3 /    20 .. Mmpo =    62 DW = 0.00e+00 NNZ =      251 SPT = 0.9139 Tmvc = 0.002 T = 0.014\n",
            " Site =     4 /    20 .. Mmpo =    81 DW = 0.00e+00 NNZ =      273 SPT = 0.9456 Tmvc = 0.002 T = 0.014\n",
            " Site =     5 /    20 .. Mmpo =   104 DW = 0.00e+00 NNZ =      357 SPT = 0.9576 Tmvc = 0.002 T = 0.014\n",
            " Site =     6 /    20 .. Mmpo =   129 DW = 0.00e+00 NNZ =      563 SPT = 0.9580 Tmvc = 0.002 T = 0.016\n",
            " Site =     7 /    20 .. Mmpo =   126 DW = 0.00e+00 NNZ =     2316 SPT = 0.8575 Tmvc = 0.002 T = 0.015\n",
            " Site =     8 /    20 .. Mmpo =   155 DW = 0.00e+00 NNZ =      214 SPT = 0.9890 Tmvc = 0.001 T = 0.008\n",
            " Site =     9 /    20 .. Mmpo =   148 DW = 0.00e+00 NNZ =      710 SPT = 0.9690 Tmvc = 0.001 T = 0.012\n",
            " Site =    10 /    20 .. Mmpo =   181 DW = 0.00e+00 NNZ =      398 SPT = 0.9851 Tmvc = 0.001 T = 0.013\n",
            " Site =    11 /    20 .. Mmpo =   178 DW = 0.00e+00 NNZ =      720 SPT = 0.9777 Tmvc = 0.001 T = 0.013\n",
            " Site =    12 /    20 .. Mmpo =   147 DW = 0.00e+00 NNZ =      496 SPT = 0.9810 Tmvc = 0.001 T = 0.007\n",
            " Site =    13 /    20 .. Mmpo =   100 DW = 0.00e+00 NNZ =      412 SPT = 0.9720 Tmvc = 0.000 T = 0.005\n",
            " Site =    14 /    20 .. Mmpo =    77 DW = 0.00e+00 NNZ =      254 SPT = 0.9670 Tmvc = 0.000 T = 0.006\n",
            " Site =    15 /    20 .. Mmpo =    54 DW = 0.00e+00 NNZ =      120 SPT = 0.9711 Tmvc = 0.000 T = 0.004\n",
            " Site =    16 /    20 .. Mmpo =    39 DW = 0.00e+00 NNZ =      124 SPT = 0.9411 Tmvc = 0.000 T = 0.003\n",
            " Site =    17 /    20 .. Mmpo =    20 DW = 0.00e+00 NNZ =       76 SPT = 0.9026 Tmvc = 0.000 T = 0.003\n",
            " Site =    18 /    20 .. Mmpo =     7 DW = 0.00e+00 NNZ =       22 SPT = 0.8429 Tmvc = 0.000 T = 0.002\n",
            " Site =    19 /    20 .. Mmpo =     1 DW = 0.00e+00 NNZ =        7 SPT = 0.0000 Tmvc = 0.000 T = 0.002\n",
            "Ttotal =      0.177 Tmvc-total = 0.018 MPO bond dimension =   181 MaxDW = 0.00e+00\n",
            "NNZ =         7388 SIZE =       204350 SPT = 0.9638\n",
            "\n",
            "Rank =     0 Ttotal =      0.249 MPO method = FastBipartite bond dimension =     181 NNZ =         7388 SIZE =       204350 SPT = 0.9638\n",
            "\n",
            "Sweep =    0 | Direction =  forward | Bond dimension =  250 | Noise =  1.00e-04 | Dav threshold =  1.00e-10\n",
            "Time elapsed =      1.079 | E =    -107.6541211530 | DW = 6.36e-08\n",
            "\n",
            "Sweep =    1 | Direction = backward | Bond dimension =  250 | Noise =  1.00e-04 | Dav threshold =  1.00e-10\n",
            "Time elapsed =      1.838 | E =    -107.6541223677 | DE = -1.21e-06 | DW = 5.89e-08\n",
            "\n",
            "Sweep =    2 | Direction =  forward | Bond dimension =  250 | Noise =  1.00e-04 | Dav threshold =  1.00e-10\n",
            "Time elapsed =      2.571 | E =    -107.6541224370 | DE = -6.93e-08 | DW = 6.35e-08\n",
            "\n",
            "Sweep =    3 | Direction = backward | Bond dimension =  250 | Noise =  1.00e-04 | Dav threshold =  1.00e-10\n",
            "Time elapsed =      3.284 | E =    -107.6541224370 | DE = 4.26e-13 | DW = 5.71e-08\n",
            "\n",
            "Sweep =    4 | Direction =  forward | Bond dimension =  500 | Noise =  1.00e-05 | Dav threshold =  1.00e-10\n",
            "Time elapsed =      4.581 | E =    -107.6541224379 | DE = -9.81e-10 | DW = 9.19e-11\n",
            "\n",
            "Sweep =    5 | Direction = backward | Bond dimension =  500 | Noise =  1.00e-05 | Dav threshold =  1.00e-10\n",
            "Time elapsed =      6.311 | E =    -107.6541224379 | DE = 1.96e-12 | DW = 6.93e-20\n",
            "\n",
            "Sweep =    6 | Direction =  forward | Bond dimension =  500 | Noise =  1.00e-05 | Dav threshold =  1.00e-10\n",
            "Time elapsed =      7.757 | E =    -107.6541224379 | DE = -5.68e-14 | DW = 9.19e-11\n",
            "\n",
            "Sweep =    7 | Direction = backward | Bond dimension =  500 | Noise =  1.00e-05 | Dav threshold =  1.00e-10\n",
            "Time elapsed =      8.724 | E =    -107.6541224379 | DE = -1.88e-12 | DW = 7.39e-20\n",
            "\n",
            "Sweep =    8 | Direction =  forward | Bond dimension =  500 | Noise =  0.00e+00 | Dav threshold =  1.00e-09\n",
            "Time elapsed =      9.323 | E =    -107.6541224379 | DE = -2.84e-14 | DW = 8.26e-20\n",
            "\n",
            "DMRG energy = -107.654122437940899\n"
          ]
        }
      ]
    },
    {
      "cell_type": "markdown",
      "source": [
        "## Relativistic DMRG\n",
        "\n",
        "For relativistic DMRG, we use ``get_dhf_integrals`` function to get the integrals. We use the ``SGFCPX`` Mode in ``block2`` to execute DMRG. Note that the integrals, MPO, and MPS will all contain complex numbers in this mode.\n",
        "\n",
        "The ``symm_type`` parameter ``SymmetryTypes.SGFCPX`` can also be written as ``SymmetryTypes.SGF | SymmetryTypes.CPX``."
      ],
      "metadata": {
        "id": "yM7OGJQV556O"
      }
    },
    {
      "cell_type": "code",
      "source": [
        "from pyscf import gto, scf\n",
        "\n",
        "mol = gto.M(atom=\"N 0 0 0; N 0 0 1.1\", basis=\"sto3g\", symmetry=\"d2h\", verbose=0)\n",
        "mf = scf.DHF(mol).set(with_gaunt=True, with_breit=True).run(conv_tol=1E-12)\n",
        "ncas, n_elec, spin, ecore, h1e, g2e, orb_sym = itg.get_dhf_integrals(mf,\n",
        "    ncore=0, ncas=None, pg_symm=False)\n",
        "\n",
        "driver = DMRGDriver(scratch=\"./tmp\", symm_type=SymmetryTypes.SGFCPX, n_threads=4)\n",
        "driver.initialize_system(n_sites=ncas, n_elec=n_elec, spin=spin, orb_sym=orb_sym)\n",
        "\n",
        "mpo = driver.get_qc_mpo(h1e=h1e, g2e=g2e, ecore=ecore, iprint=1)\n",
        "ket = driver.get_random_mps(tag=\"GS\", bond_dim=250, nroots=1)\n",
        "energy = driver.dmrg(mpo, ket, n_sweeps=20, bond_dims=bond_dims, noises=noises,\n",
        "    thrds=thrds, iprint=1)\n",
        "print('DMRG energy = %20.15f' % energy)"
      ],
      "metadata": {
        "colab": {
          "base_uri": "https://localhost:8080/"
        },
        "id": "16tFcwdw50gU",
        "outputId": "747910db-d6fd-4239-a496-7b7495fd8d6e"
      },
      "execution_count": 10,
      "outputs": [
        {
          "output_type": "stream",
          "name": "stdout",
          "text": [
            "integral symmetrize error =  0.0\n",
            "integral cutoff error =  1.5501285354427146e-20\n",
            "mpo terms =      44346\n",
            "\n",
            "Build MPO | Nsites =    20 | Nterms =      44346 | Algorithm = FastBIP | Cutoff = 1.00e-20\n",
            " Site =     0 /    20 .. Mmpo =     9 DW = 0.00e+00 NNZ =        9 SPT = 0.0000 Tmvc = 0.004 T = 0.017\n",
            " Site =     1 /    20 .. Mmpo =    28 DW = 0.00e+00 NNZ =       23 SPT = 0.9087 Tmvc = 0.005 T = 0.025\n",
            " Site =     2 /    20 .. Mmpo =    63 DW = 0.00e+00 NNZ =      404 SPT = 0.7710 Tmvc = 0.006 T = 0.023\n",
            " Site =     3 /    20 .. Mmpo =    78 DW = 0.00e+00 NNZ =      592 SPT = 0.8795 Tmvc = 0.006 T = 0.028\n",
            " Site =     4 /    20 .. Mmpo =    97 DW = 0.00e+00 NNZ =      932 SPT = 0.8768 Tmvc = 0.010 T = 0.035\n",
            " Site =     5 /    20 .. Mmpo =   120 DW = 0.00e+00 NNZ =     1315 SPT = 0.8870 Tmvc = 0.008 T = 0.030\n",
            " Site =     6 /    20 .. Mmpo =   147 DW = 0.00e+00 NNZ =     1722 SPT = 0.9024 Tmvc = 0.008 T = 0.033\n",
            " Site =     7 /    20 .. Mmpo =   178 DW = 0.00e+00 NNZ =     2142 SPT = 0.9181 Tmvc = 0.012 T = 0.038\n",
            " Site =     8 /    20 .. Mmpo =   213 DW = 0.00e+00 NNZ =     2597 SPT = 0.9315 Tmvc = 0.009 T = 0.038\n",
            " Site =     9 /    20 .. Mmpo =   252 DW = 0.00e+00 NNZ =     2985 SPT = 0.9444 Tmvc = 0.011 T = 0.040\n",
            " Site =    10 /    20 .. Mmpo =   213 DW = 0.00e+00 NNZ =    17958 SPT = 0.6654 Tmvc = 0.014 T = 0.068\n",
            " Site =    11 /    20 .. Mmpo =   178 DW = 0.00e+00 NNZ =     2590 SPT = 0.9317 Tmvc = 0.003 T = 0.020\n",
            " Site =    12 /    20 .. Mmpo =   147 DW = 0.00e+00 NNZ =     2184 SPT = 0.9165 Tmvc = 0.003 T = 0.016\n",
            " Site =    13 /    20 .. Mmpo =   120 DW = 0.00e+00 NNZ =     1783 SPT = 0.8989 Tmvc = 0.002 T = 0.019\n",
            " Site =    14 /    20 .. Mmpo =    97 DW = 0.00e+00 NNZ =     1397 SPT = 0.8800 Tmvc = 0.002 T = 0.013\n",
            " Site =    15 /    20 .. Mmpo =    78 DW = 0.00e+00 NNZ =     1008 SPT = 0.8668 Tmvc = 0.001 T = 0.010\n",
            " Site =    16 /    20 .. Mmpo =    63 DW = 0.00e+00 NNZ =      653 SPT = 0.8671 Tmvc = 0.001 T = 0.010\n",
            " Site =    17 /    20 .. Mmpo =    28 DW = 0.00e+00 NNZ =      494 SPT = 0.7200 Tmvc = 0.001 T = 0.007\n",
            " Site =    18 /    20 .. Mmpo =     9 DW = 0.00e+00 NNZ =       26 SPT = 0.8968 Tmvc = 0.000 T = 0.003\n",
            " Site =    19 /    20 .. Mmpo =     1 DW = 0.00e+00 NNZ =        9 SPT = 0.0000 Tmvc = 0.000 T = 0.002\n",
            "Ttotal =      0.475 Tmvc-total = 0.105 MPO bond dimension =   252 MaxDW = 0.00e+00\n",
            "NNZ =        40823 SIZE =       323082 SPT = 0.8736\n",
            "\n",
            "Rank =     0 Ttotal =      0.567 MPO method = FastBipartite bond dimension =     252 NNZ =        40823 SIZE =       323082 SPT = 0.8736\n",
            "\n",
            "Sweep =    0 | Direction =  forward | Bond dimension =  250 | Noise =  1.00e-04 | Dav threshold =  1.00e-10\n",
            "Time elapsed =     23.177 | E =    -107.6929206929 | DW = 4.40e-10\n",
            "\n",
            "Sweep =    1 | Direction = backward | Bond dimension =  250 | Noise =  1.00e-04 | Dav threshold =  1.00e-10\n",
            "Time elapsed =     35.078 | E =    -107.6929209450 | DE = -2.52e-07 | DW = 8.35e-10\n",
            "\n",
            "Sweep =    2 | Direction =  forward | Bond dimension =  250 | Noise =  1.00e-04 | Dav threshold =  1.00e-10\n",
            "Time elapsed =     45.366 | E =    -107.6929209492 | DE = -4.14e-09 | DW = 2.09e-10\n",
            "\n",
            "Sweep =    3 | Direction = backward | Bond dimension =  250 | Noise =  1.00e-04 | Dav threshold =  1.00e-10\n",
            "Time elapsed =     53.524 | E =    -107.6929209492 | DE = -3.41e-13 | DW = 8.36e-10\n",
            "\n",
            "Sweep =    4 | Direction =  forward | Bond dimension =  500 | Noise =  1.00e-05 | Dav threshold =  1.00e-10\n",
            "Time elapsed =     71.358 | E =    -107.6929209492 | DE = -4.26e-13 | DW = 6.57e-20\n",
            "\n",
            "Sweep =    5 | Direction = backward | Bond dimension =  500 | Noise =  1.00e-05 | Dav threshold =  1.00e-10\n",
            "Time elapsed =     86.911 | E =    -107.6929209492 | DE = 2.84e-14 | DW = 1.18e-19\n",
            "\n",
            "Sweep =    6 | Direction =  forward | Bond dimension =  500 | Noise =  1.00e-05 | Dav threshold =  1.00e-10\n",
            "Time elapsed =    103.723 | E =    -107.6929209492 | DE = 2.84e-14 | DW = 7.77e-20\n",
            "\n",
            "Sweep =    7 | Direction = backward | Bond dimension =  500 | Noise =  1.00e-05 | Dav threshold =  1.00e-10\n",
            "Time elapsed =    119.169 | E =    -107.6929209492 | DE = -2.84e-14 | DW = 1.19e-19\n",
            "\n",
            "Sweep =    8 | Direction =  forward | Bond dimension =  500 | Noise =  0.00e+00 | Dav threshold =  1.00e-09\n",
            "Time elapsed =    128.099 | E =    -107.6929209492 | DE = 2.84e-14 | DW = 8.33e-20\n",
            "\n",
            "DMRG energy = -107.692920949170755\n"
          ]
        }
      ]
    },
    {
      "cell_type": "markdown",
      "source": [
        "## The ``LZ`` Mode\n",
        "\n",
        "For diatomic molecules, we can set symmetry ``dooh`` in ``pyscf``, and then use ``itg.lz_symm_adaptation`` to adapt the atomic orbitals for the ``LZ`` symmetry before running Hartree-Fock. Then we can use the ``LZ`` modes in ``block2`` to perform DMRG.\n",
        "\n",
        "The ``LZ`` mode can be combined with ``SU2``, ``SZ`` or ``SGF`` spin symmetries, and the ``SAny`` prefix in ``SymmetryTypes``. To activate the ``SAny`` prefix, the ``block2`` code needs to be compiled with the ``-DUSE_SANY=ON`` option (this option is ON by default in the ``pip`` precompiled binaries). Optionally, when ``-DUSE_SANY=ON``, one can also set ``-DUSE_SG=OFF -DUSE_SU2SZ=OFF`` to disable the normal ``SU2/SZ/SGF`` modes. One can use ``SymmetryTypes.SAnySU2/SymmetryTypes.SAnySZ/SymmetryTypes.SAnySGF`` instead for normal symmetries (with some limitations) when ``-DUSE_SG=OFF -DUSE_SU2SZ=OFF`` is used.\n",
        "\n",
        "With ``SU2`` (spin-adapted DMRG):"
      ],
      "metadata": {
        "id": "xZEMwvUYrfXT"
      }
    },
    {
      "cell_type": "code",
      "source": [
        "mol = gto.M(atom=\"N 0 0 0; N 0 0 1.1\", basis=\"sto3g\", symmetry=\"dooh\", verbose=0)\n",
        "mol.symm_orb, z_irrep, g_irrep = itg.lz_symm_adaptation(mol)\n",
        "mf = scf.RHF(mol).run(conv_tol=1E-14)\n",
        "ncas, n_elec, spin, ecore, h1e, g2e, orb_sym_z = itg.get_rhf_integrals(mf,\n",
        "    ncore=0, ncas=None, g2e_symm=1, irrep_id=z_irrep)\n",
        "print(orb_sym_z)\n",
        "\n",
        "driver = DMRGDriver(scratch=\"./tmp\", symm_type=SymmetryTypes.SAnySU2LZ, n_threads=4)\n",
        "driver.initialize_system(n_sites=ncas, n_elec=n_elec, spin=spin, orb_sym=orb_sym_z, pg_irrep=0)\n",
        "\n",
        "bond_dims = [250] * 4 + [500] * 4\n",
        "noises = [1e-4] * 4 + [1e-5] * 4 + [0]\n",
        "thrds = [1e-10] * 8\n",
        "\n",
        "mpo = driver.get_qc_mpo(h1e=h1e, g2e=g2e, ecore=ecore, iprint=1)\n",
        "ket = driver.get_random_mps(tag=\"GS\", bond_dim=250, nroots=1)\n",
        "energy = driver.dmrg(mpo, ket, n_sweeps=20, bond_dims=bond_dims, noises=noises,\n",
        "    thrds=thrds, iprint=1)\n",
        "print('DMRG energy = %20.15f' % energy)"
      ],
      "metadata": {
        "colab": {
          "base_uri": "https://localhost:8080/"
        },
        "id": "r_QeMxLzvcD8",
        "outputId": "7ee79743-45fd-4226-ecca-b5466f0316f3"
      },
      "execution_count": 11,
      "outputs": [
        {
          "output_type": "stream",
          "name": "stdout",
          "text": [
            "[ 0  0  0  0 -1  1  0  1 -1  0]\n",
            "integral symmetrize error =  2.0562981879479644e-15\n",
            "integral cutoff error =  0.0\n",
            "mpo terms =       1881\n",
            "\n",
            "Build MPO | Nsites =    10 | Nterms =       1881 | Algorithm = FastBIP | Cutoff = 1.00e-20\n",
            " Site =     0 /    10 .. Mmpo =    14 DW = 0.00e+00 NNZ =       14 SPT = 0.0000 Tmvc = 0.001 T = 0.031\n",
            " Site =     1 /    10 .. Mmpo =    34 DW = 0.00e+00 NNZ =      107 SPT = 0.7752 Tmvc = 0.001 T = 0.054\n",
            " Site =     2 /    10 .. Mmpo =    56 DW = 0.00e+00 NNZ =      189 SPT = 0.9007 Tmvc = 0.001 T = 0.063\n",
            " Site =     3 /    10 .. Mmpo =    66 DW = 0.00e+00 NNZ =      822 SPT = 0.7776 Tmvc = 0.001 T = 0.063\n",
            " Site =     4 /    10 .. Mmpo =    88 DW = 0.00e+00 NNZ =      154 SPT = 0.9735 Tmvc = 0.000 T = 0.033\n",
            " Site =     5 /    10 .. Mmpo =    94 DW = 0.00e+00 NNZ =      318 SPT = 0.9616 Tmvc = 0.000 T = 0.031\n",
            " Site =     6 /    10 .. Mmpo =    64 DW = 0.00e+00 NNZ =      236 SPT = 0.9608 Tmvc = 0.000 T = 0.023\n",
            " Site =     7 /    10 .. Mmpo =    40 DW = 0.00e+00 NNZ =      145 SPT = 0.9434 Tmvc = 0.000 T = 0.016\n",
            " Site =     8 /    10 .. Mmpo =    14 DW = 0.00e+00 NNZ =       49 SPT = 0.9125 Tmvc = 0.000 T = 0.009\n",
            " Site =     9 /    10 .. Mmpo =     1 DW = 0.00e+00 NNZ =       14 SPT = 0.0000 Tmvc = 0.000 T = 0.007\n",
            "Ttotal =      0.332 Tmvc-total = 0.005 MPO bond dimension =    94 MaxDW = 0.00e+00\n",
            "NNZ =         2048 SIZE =        29320 SPT = 0.9302\n",
            "\n",
            "Rank =     0 Ttotal =      0.402 MPO method = FastBipartite bond dimension =      94 NNZ =         2048 SIZE =        29320 SPT = 0.9302\n",
            "\n",
            "Sweep =    0 | Direction =  forward | Bond dimension =  250 | Noise =  1.00e-04 | Dav threshold =  1.00e-10\n",
            "Time elapsed =      0.679 | E =    -107.6541224475 | DW = 2.06e-10\n",
            "\n",
            "Sweep =    1 | Direction = backward | Bond dimension =  250 | Noise =  1.00e-04 | Dav threshold =  1.00e-10\n",
            "Time elapsed =      1.030 | E =    -107.6541224475 | DE = 1.19e-12 | DW = 2.77e-20\n",
            "\n",
            "Sweep =    2 | Direction =  forward | Bond dimension =  250 | Noise =  1.00e-04 | Dav threshold =  1.00e-10\n",
            "Time elapsed =      1.383 | E =    -107.6541224475 | DE = -2.84e-14 | DW = 2.06e-10\n",
            "\n",
            "Sweep =    3 | Direction = backward | Bond dimension =  250 | Noise =  1.00e-04 | Dav threshold =  1.00e-10\n",
            "Time elapsed =      1.721 | E =    -107.6541224475 | DE = -8.67e-12 | DW = 3.29e-20\n",
            "\n",
            "Sweep =    4 | Direction =  forward | Bond dimension =  500 | Noise =  1.00e-05 | Dav threshold =  1.00e-10\n",
            "Time elapsed =      2.225 | E =    -107.6541224475 | DE = -2.84e-14 | DW = 4.20e-20\n",
            "\n",
            "Sweep =    5 | Direction = backward | Bond dimension =  500 | Noise =  1.00e-05 | Dav threshold =  1.00e-10\n",
            "Time elapsed =      2.894 | E =    -107.6541224475 | DE = 5.68e-14 | DW = 2.00e-20\n",
            "\n",
            "Sweep =    6 | Direction =  forward | Bond dimension =  500 | Noise =  1.00e-05 | Dav threshold =  1.00e-10\n",
            "Time elapsed =      3.682 | E =    -107.6541224475 | DE = -2.84e-14 | DW = 4.90e-20\n",
            "\n",
            "Sweep =    7 | Direction = backward | Bond dimension =  500 | Noise =  1.00e-05 | Dav threshold =  1.00e-10\n",
            "Time elapsed =      4.379 | E =    -107.6541224475 | DE = 0.00e+00 | DW = 1.69e-20\n",
            "\n",
            "Sweep =    8 | Direction =  forward | Bond dimension =  500 | Noise =  0.00e+00 | Dav threshold =  1.00e-09\n",
            "Time elapsed =      4.809 | E =    -107.6541224475 | DE = 2.84e-14 | DW = 3.21e-20\n",
            "\n",
            "DMRG energy = -107.654122447523761\n"
          ]
        }
      ]
    },
    {
      "cell_type": "markdown",
      "source": [
        "With ``SZ`` (non-spin-adapted DMRG):"
      ],
      "metadata": {
        "id": "s2TkncgDvl6v"
      }
    },
    {
      "cell_type": "code",
      "source": [
        "mol = gto.M(atom=\"N 0 0 0; N 0 0 1.1\", basis=\"sto3g\", symmetry=\"dooh\", verbose=0)\n",
        "mol.symm_orb, z_irrep, g_irrep = itg.lz_symm_adaptation(mol)\n",
        "mf = scf.UHF(mol).run(conv_tol=1E-14)\n",
        "ncas, n_elec, spin, ecore, h1e, g2e, orb_sym_z = itg.get_uhf_integrals(mf,\n",
        "    ncore=0, ncas=None, g2e_symm=1, irrep_id=z_irrep)\n",
        "print(orb_sym_z)\n",
        "\n",
        "driver = DMRGDriver(scratch=\"./tmp\", symm_type=SymmetryTypes.SAnySZLZ, n_threads=4)\n",
        "driver.initialize_system(n_sites=ncas, n_elec=n_elec, spin=spin, orb_sym=orb_sym_z, pg_irrep=0)\n",
        "\n",
        "bond_dims = [250] * 4 + [500] * 4\n",
        "noises = [1e-4] * 4 + [1e-5] * 4 + [0]\n",
        "thrds = [1e-10] * 8\n",
        "\n",
        "mpo = driver.get_qc_mpo(h1e=h1e, g2e=g2e, ecore=ecore, iprint=1)\n",
        "ket = driver.get_random_mps(tag=\"GS\", bond_dim=250, nroots=1)\n",
        "energy = driver.dmrg(mpo, ket, n_sweeps=20, bond_dims=bond_dims, noises=noises,\n",
        "    thrds=thrds, iprint=1)\n",
        "print('DMRG energy = %20.15f' % energy)"
      ],
      "metadata": {
        "colab": {
          "base_uri": "https://localhost:8080/"
        },
        "id": "wTX3hBE1vniu",
        "outputId": "11a55e49-7674-4ef3-b5e9-55749a7a84da"
      },
      "execution_count": 12,
      "outputs": [
        {
          "output_type": "stream",
          "name": "stdout",
          "text": [
            "[ 0  0  0  0 -1  1  0  1 -1  0]\n",
            "integral symmetrize error =  8.030340066584701e-15\n",
            "integral cutoff error =  0.0\n",
            "mpo terms =       5231\n",
            "\n",
            "Build MPO | Nsites =    10 | Nterms =       5231 | Algorithm = FastBIP | Cutoff = 1.00e-20\n",
            " Site =     0 /    10 .. Mmpo =    30 DW = 0.00e+00 NNZ =       30 SPT = 0.0000 Tmvc = 0.002 T = 0.080\n",
            " Site =     1 /    10 .. Mmpo =    66 DW = 0.00e+00 NNZ =      271 SPT = 0.8631 Tmvc = 0.001 T = 0.135\n",
            " Site =     2 /    10 .. Mmpo =   110 DW = 0.00e+00 NNZ =      480 SPT = 0.9339 Tmvc = 0.001 T = 0.136\n",
            " Site =     3 /    10 .. Mmpo =   124 DW = 0.00e+00 NNZ =     2273 SPT = 0.8334 Tmvc = 0.001 T = 0.135\n",
            " Site =     4 /    10 .. Mmpo =   171 DW = 0.00e+00 NNZ =      363 SPT = 0.9829 Tmvc = 0.001 T = 0.066\n",
            " Site =     5 /    10 .. Mmpo =   186 DW = 0.00e+00 NNZ =      811 SPT = 0.9745 Tmvc = 0.001 T = 0.072\n",
            " Site =     6 /    10 .. Mmpo =   126 DW = 0.00e+00 NNZ =      583 SPT = 0.9751 Tmvc = 0.001 T = 0.045\n",
            " Site =     7 /    10 .. Mmpo =    82 DW = 0.00e+00 NNZ =      263 SPT = 0.9745 Tmvc = 0.000 T = 0.024\n",
            " Site =     8 /    10 .. Mmpo =    30 DW = 0.00e+00 NNZ =      182 SPT = 0.9260 Tmvc = 0.000 T = 0.020\n",
            " Site =     9 /    10 .. Mmpo =     1 DW = 0.00e+00 NNZ =       30 SPT = 0.0000 Tmvc = 0.000 T = 0.009\n",
            "Ttotal =      0.722 Tmvc-total = 0.009 MPO bond dimension =   186 MaxDW = 0.00e+00\n",
            "NNZ =         5286 SIZE =       112178 SPT = 0.9529\n",
            "\n",
            "Rank =     0 Ttotal =      0.773 MPO method = FastBipartite bond dimension =     186 NNZ =         5286 SIZE =       112178 SPT = 0.9529\n",
            "\n",
            "Sweep =    0 | Direction =  forward | Bond dimension =  250 | Noise =  1.00e-04 | Dav threshold =  1.00e-10\n",
            "Time elapsed =      1.157 | E =    -107.6541224475 | DW = 3.14e-08\n",
            "\n",
            "Sweep =    1 | Direction = backward | Bond dimension =  250 | Noise =  1.00e-04 | Dav threshold =  1.00e-10\n",
            "Time elapsed =      1.836 | E =    -107.6541224475 | DE = -1.13e-11 | DW = 3.32e-08\n",
            "\n",
            "Sweep =    2 | Direction =  forward | Bond dimension =  250 | Noise =  1.00e-04 | Dav threshold =  1.00e-10\n",
            "Time elapsed =      2.477 | E =    -107.6541224455 | DE = 2.05e-09 | DW = 3.14e-08\n",
            "\n",
            "Sweep =    3 | Direction = backward | Bond dimension =  250 | Noise =  1.00e-04 | Dav threshold =  1.00e-10\n",
            "Time elapsed =      3.168 | E =    -107.6541224455 | DE = -2.27e-13 | DW = 3.27e-08\n",
            "\n",
            "Sweep =    4 | Direction =  forward | Bond dimension =  500 | Noise =  1.00e-05 | Dav threshold =  1.00e-10\n",
            "Time elapsed =      3.974 | E =    -107.6541224455 | DE = -1.42e-13 | DW = 3.08e-11\n",
            "\n",
            "Sweep =    5 | Direction = backward | Bond dimension =  500 | Noise =  1.00e-05 | Dav threshold =  1.00e-10\n",
            "Time elapsed =      4.811 | E =    -107.6541224455 | DE = 2.84e-14 | DW = 1.35e-19\n",
            "\n",
            "Sweep =    6 | Direction =  forward | Bond dimension =  500 | Noise =  1.00e-05 | Dav threshold =  1.00e-10\n",
            "Time elapsed =      6.270 | E =    -107.6541224455 | DE = -2.84e-14 | DW = 3.08e-11\n",
            "\n",
            "Sweep =    7 | Direction = backward | Bond dimension =  500 | Noise =  1.00e-05 | Dav threshold =  1.00e-10\n",
            "Time elapsed =      7.758 | E =    -107.6541224455 | DE = 2.56e-13 | DW = 1.55e-19\n",
            "\n",
            "Sweep =    8 | Direction =  forward | Bond dimension =  500 | Noise =  0.00e+00 | Dav threshold =  1.00e-09\n",
            "Time elapsed =      8.655 | E =    -107.6541224455 | DE = -2.84e-14 | DW = 9.59e-20\n",
            "\n",
            "DMRG energy = -107.654122445468332\n"
          ]
        }
      ]
    },
    {
      "cell_type": "markdown",
      "source": [
        "With ``SGF`` (spin-orbital DMRG):"
      ],
      "metadata": {
        "id": "Xvb_7dJKvwBo"
      }
    },
    {
      "cell_type": "code",
      "source": [
        "from pyscf.scf.ghf_symm import GHF\n",
        "from pyscf import symm, lib\n",
        "from pyscf.scf import hf_symm\n",
        "import scipy.linalg\n",
        "import numpy as np\n",
        "\n",
        "# fix pyscf 2.3.0 bug in ghf_symm for complex orbtials\n",
        "def ghf_eig(self, h, s, symm_orb=None, irrep_id=None):\n",
        "    if symm_orb is None or irrep_id is None:\n",
        "        mol = self.mol\n",
        "        symm_orb = mol.symm_orb\n",
        "        irrep_id = mol.irrep_id\n",
        "    nirrep = len(symm_orb)\n",
        "    symm_orb = [scipy.linalg.block_diag(c, c) for c in symm_orb]\n",
        "    h = symm.symmetrize_matrix(h, symm_orb)\n",
        "    s = symm.symmetrize_matrix(s, symm_orb)\n",
        "    cs = []\n",
        "    es = []\n",
        "    orbsym = []\n",
        "    for ir in range(nirrep):\n",
        "        e, c = self._eigh(h[ir], s[ir])\n",
        "        cs.append(c)\n",
        "        es.append(e)\n",
        "        orbsym.append([irrep_id[ir]] * e.size)\n",
        "    e = np.hstack(es)\n",
        "    c = hf_symm.so2ao_mo_coeff(symm_orb, cs)\n",
        "    c = lib.tag_array(c, orbsym=np.hstack(orbsym))\n",
        "    return e, c\n",
        "\n",
        "GHF.eig = ghf_eig\n",
        "\n",
        "mol = gto.M(atom=\"N 0 0 0; N 0 0 1.1\", basis=\"sto3g\", symmetry=\"dooh\", verbose=0)\n",
        "mol.symm_orb, z_irrep, g_irrep = itg.lz_symm_adaptation(mol)\n",
        "mf = scf.GHF(mol).run(conv_tol=1E-14)\n",
        "ncas, n_elec, spin, ecore, h1e, g2e, orb_sym_z = itg.get_ghf_integrals(mf,\n",
        "    ncore=0, ncas=None, g2e_symm=1, irrep_id=z_irrep)\n",
        "print(orb_sym_z)\n",
        "\n",
        "driver = DMRGDriver(scratch=\"./tmp\", symm_type=SymmetryTypes.SAnySGFLZ, n_threads=4)\n",
        "driver.initialize_system(n_sites=ncas, n_elec=n_elec, spin=spin, orb_sym=orb_sym_z, pg_irrep=0)\n",
        "\n",
        "bond_dims = [250] * 4 + [500] * 4\n",
        "noises = [1e-4] * 4 + [1e-5] * 4 + [0]\n",
        "thrds = [1e-10] * 8\n",
        "\n",
        "mpo = driver.get_qc_mpo(h1e=h1e, g2e=g2e, ecore=ecore, iprint=1)\n",
        "ket = driver.get_random_mps(tag=\"GS\", bond_dim=250, nroots=1)\n",
        "energy = driver.dmrg(mpo, ket, n_sweeps=20, bond_dims=bond_dims, noises=noises,\n",
        "    thrds=thrds, iprint=1)\n",
        "print('DMRG energy = %20.15f' % energy)"
      ],
      "metadata": {
        "colab": {
          "base_uri": "https://localhost:8080/"
        },
        "id": "h-v3TPOjv0JX",
        "outputId": "4277a6f6-c33f-4f52-a752-4e5434fddcb7"
      },
      "execution_count": 13,
      "outputs": [
        {
          "output_type": "stream",
          "name": "stdout",
          "text": [
            "[ 0  0  0  0  0  0  0  0 -1 -1  1  1  0  0  1  1 -1 -1  0  0]\n",
            "integral symmetrize error =  9.305335353847714e-15\n",
            "integral cutoff error =  5.457899320407648e-20\n",
            "mpo terms =      12773\n",
            "\n",
            "Build MPO | Nsites =    20 | Nterms =      12773 | Algorithm = FastBIP | Cutoff = 1.00e-20\n",
            " Site =     0 /    20 .. Mmpo =     9 DW = 0.00e+00 NNZ =        9 SPT = 0.0000 Tmvc = 0.002 T = 0.098\n",
            " Site =     1 /    20 .. Mmpo =    28 DW = 0.00e+00 NNZ =       25 SPT = 0.9008 Tmvc = 0.002 T = 0.170\n",
            " Site =     2 /    20 .. Mmpo =    47 DW = 0.00e+00 NNZ =      309 SPT = 0.7652 Tmvc = 0.004 T = 0.245\n",
            " Site =     3 /    20 .. Mmpo =    62 DW = 0.00e+00 NNZ =      357 SPT = 0.8775 Tmvc = 0.003 T = 0.264\n",
            " Site =     4 /    20 .. Mmpo =    81 DW = 0.00e+00 NNZ =      514 SPT = 0.8977 Tmvc = 0.003 T = 0.280\n",
            " Site =     5 /    20 .. Mmpo =   104 DW = 0.00e+00 NNZ =      667 SPT = 0.9208 Tmvc = 0.003 T = 0.308\n",
            " Site =     6 /    20 .. Mmpo =   129 DW = 0.00e+00 NNZ =     2106 SPT = 0.8430 Tmvc = 0.003 T = 0.299\n",
            " Site =     7 /    20 .. Mmpo =   118 DW = 0.00e+00 NNZ =     3960 SPT = 0.7399 Tmvc = 0.003 T = 0.249\n",
            " Site =     8 /    20 .. Mmpo =   153 DW = 0.00e+00 NNZ =      250 SPT = 0.9862 Tmvc = 0.001 T = 0.127\n",
            " Site =     9 /    20 .. Mmpo =   164 DW = 0.00e+00 NNZ =      690 SPT = 0.9725 Tmvc = 0.001 T = 0.134\n",
            " Site =    10 /    20 .. Mmpo =   185 DW = 0.00e+00 NNZ =     1223 SPT = 0.9597 Tmvc = 0.002 T = 0.131\n",
            " Site =    11 /    20 .. Mmpo =   178 DW = 0.00e+00 NNZ =      910 SPT = 0.9724 Tmvc = 0.001 T = 0.101\n",
            " Site =    12 /    20 .. Mmpo =   147 DW = 0.00e+00 NNZ =      814 SPT = 0.9689 Tmvc = 0.001 T = 0.077\n",
            " Site =    13 /    20 .. Mmpo =   120 DW = 0.00e+00 NNZ =      632 SPT = 0.9642 Tmvc = 0.001 T = 0.052\n",
            " Site =    14 /    20 .. Mmpo =    97 DW = 0.00e+00 NNZ =      383 SPT = 0.9671 Tmvc = 0.001 T = 0.040\n",
            " Site =    15 /    20 .. Mmpo =    78 DW = 0.00e+00 NNZ =      249 SPT = 0.9671 Tmvc = 0.000 T = 0.038\n",
            " Site =    16 /    20 .. Mmpo =    57 DW = 0.00e+00 NNZ =      382 SPT = 0.9141 Tmvc = 0.000 T = 0.022\n",
            " Site =    17 /    20 .. Mmpo =    28 DW = 0.00e+00 NNZ =       91 SPT = 0.9430 Tmvc = 0.000 T = 0.009\n",
            " Site =    18 /    20 .. Mmpo =     9 DW = 0.00e+00 NNZ =       28 SPT = 0.8889 Tmvc = 0.000 T = 0.011\n",
            " Site =    19 /    20 .. Mmpo =     1 DW = 0.00e+00 NNZ =        9 SPT = 0.0000 Tmvc = 0.000 T = 0.004\n",
            "Ttotal =      2.660 Tmvc-total = 0.031 MPO bond dimension =   185 MaxDW = 0.00e+00\n",
            "NNZ =        13608 SIZE =       222306 SPT = 0.9388\n",
            "\n",
            "Rank =     0 Ttotal =      2.764 MPO method = FastBipartite bond dimension =     185 NNZ =        13608 SIZE =       222306 SPT = 0.9388\n",
            "\n",
            "Sweep =    0 | Direction =  forward | Bond dimension =  250 | Noise =  1.00e-04 | Dav threshold =  1.00e-10\n",
            "Time elapsed =      1.655 | E =    -107.6541219864 | DW = 1.34e-08\n",
            "\n",
            "Sweep =    1 | Direction = backward | Bond dimension =  250 | Noise =  1.00e-04 | Dav threshold =  1.00e-10\n",
            "Time elapsed =      3.673 | E =    -107.6541222928 | DE = -3.06e-07 | DW = 4.92e-08\n",
            "\n",
            "Sweep =    2 | Direction =  forward | Bond dimension =  250 | Noise =  1.00e-04 | Dav threshold =  1.00e-10\n",
            "Time elapsed =      5.224 | E =    -107.6541224418 | DE = -1.49e-07 | DW = 1.33e-08\n",
            "\n",
            "Sweep =    3 | Direction = backward | Bond dimension =  250 | Noise =  1.00e-04 | Dav threshold =  1.00e-10\n",
            "Time elapsed =      6.259 | E =    -107.6541224418 | DE = -1.02e-12 | DW = 4.94e-08\n",
            "\n",
            "Sweep =    4 | Direction =  forward | Bond dimension =  500 | Noise =  1.00e-05 | Dav threshold =  1.00e-10\n",
            "Time elapsed =      7.849 | E =    -107.6541224449 | DE = -3.13e-09 | DW = 6.76e-12\n",
            "\n",
            "Sweep =    5 | Direction = backward | Bond dimension =  500 | Noise =  1.00e-05 | Dav threshold =  1.00e-10\n",
            "Time elapsed =      9.282 | E =    -107.6541224455 | DE = -5.68e-10 | DW = 5.49e-20\n",
            "\n",
            "Sweep =    6 | Direction =  forward | Bond dimension =  500 | Noise =  1.00e-05 | Dav threshold =  1.00e-10\n",
            "Time elapsed =     10.873 | E =    -107.6541224455 | DE = 5.68e-14 | DW = 6.76e-12\n",
            "\n",
            "Sweep =    7 | Direction = backward | Bond dimension =  500 | Noise =  1.00e-05 | Dav threshold =  1.00e-10\n",
            "Time elapsed =     12.297 | E =    -107.6541224455 | DE = 2.84e-14 | DW = 6.04e-20\n",
            "\n",
            "Sweep =    8 | Direction =  forward | Bond dimension =  500 | Noise =  0.00e+00 | Dav threshold =  1.00e-09\n",
            "Time elapsed =     13.165 | E =    -107.6541224455 | DE = 2.84e-14 | DW = 7.22e-20\n",
            "\n",
            "DMRG energy = -107.654122445469270\n"
          ]
        }
      ]
    },
    {
      "cell_type": "markdown",
      "source": [
        "## Expectation and N-Particle Density Matrices"
      ],
      "metadata": {
        "id": "r8wd-wIq7pKV"
      }
    },
    {
      "cell_type": "markdown",
      "source": [
        "Once the optimized MPS is obtained, we can compute the expectation value on it, including its norm, the energy expectation, $\\langle S^2 \\rangle$, N-particle density matrix, or any operator that can be constructed as an MPO.\n",
        "\n",
        "In this example, we compute the triplet state."
      ],
      "metadata": {
        "id": "Q2jepYQu7vOW"
      }
    },
    {
      "cell_type": "code",
      "source": [
        "from pyscf import gto, scf\n",
        "\n",
        "mol = gto.M(atom=\"N 0 0 0; N 0 0 1.1\", basis=\"sto3g\", symmetry=\"d2h\", verbose=0)\n",
        "mf = scf.RHF(mol).run(conv_tol=1E-14)\n",
        "ncas, n_elec, spin, ecore, h1e, g2e, orb_sym = itg.get_rhf_integrals(mf,\n",
        "    ncore=0, ncas=None, g2e_symm=8)\n",
        "\n",
        "spin = 2\n",
        "\n",
        "driver = DMRGDriver(scratch=\"./tmp\", symm_type=SymmetryTypes.SU2, n_threads=4)\n",
        "driver.initialize_system(n_sites=ncas, n_elec=n_elec, spin=spin, orb_sym=orb_sym)\n",
        "\n",
        "mpo = driver.get_qc_mpo(h1e=h1e, g2e=g2e, ecore=ecore, iprint=0)\n",
        "\n",
        "ket = driver.get_random_mps(tag=\"GS\", bond_dim=250, nroots=1)\n",
        "energy = driver.dmrg(mpo, ket, n_sweeps=20, bond_dims=bond_dims, noises=noises,\n",
        "    thrds=thrds, iprint=1)\n",
        "print('DMRG energy = %20.15f' % energy)\n",
        "\n",
        "impo = driver.get_identity_mpo()\n",
        "\n",
        "norm = driver.expectation(ket, impo, ket)\n",
        "ener = driver.expectation(ket, mpo, ket)\n",
        "\n",
        "print('Norm = %20.15f' % norm)\n",
        "print('Energy expectation = %20.15f' % (ener / norm))\n",
        "\n",
        "# <S^2> [ in spin-adapted mode this is always S(S+1) ]\n",
        "ssq_mpo = driver.get_spin_square_mpo(iprint=0)\n",
        "ssq = driver.expectation(ket, ssq_mpo, ket)\n",
        "print('<S^2> expectation = %20.15f' % (ssq / norm))"
      ],
      "metadata": {
        "colab": {
          "base_uri": "https://localhost:8080/"
        },
        "id": "sYihDUiI6mTn",
        "outputId": "f5c207d9-c177-4bcb-df29-03d10a134b54"
      },
      "execution_count": 14,
      "outputs": [
        {
          "output_type": "stream",
          "name": "stdout",
          "text": [
            "\n",
            "Sweep =    0 | Direction =  forward | Bond dimension =  250 | Noise =  1.00e-04 | Dav threshold =  1.00e-10\n",
            "Time elapsed =      0.557 | E =    -106.9391328597 | DW = 3.38e-10\n",
            "\n",
            "Sweep =    1 | Direction = backward | Bond dimension =  250 | Noise =  1.00e-04 | Dav threshold =  1.00e-10\n",
            "Time elapsed =      0.833 | E =    -106.9391328597 | DE = -3.24e-12 | DW = 9.75e-19\n",
            "\n",
            "Sweep =    2 | Direction =  forward | Bond dimension =  250 | Noise =  1.00e-04 | Dav threshold =  1.00e-10\n",
            "Time elapsed =      1.130 | E =    -106.9391328597 | DE = 2.84e-14 | DW = 3.38e-10\n",
            "\n",
            "Sweep =    3 | Direction = backward | Bond dimension =  250 | Noise =  1.00e-04 | Dav threshold =  1.00e-10\n",
            "Time elapsed =      1.421 | E =    -106.9391328597 | DE = 1.71e-13 | DW = 1.52e-18\n",
            "\n",
            "Sweep =    4 | Direction =  forward | Bond dimension =  500 | Noise =  1.00e-05 | Dav threshold =  1.00e-10\n",
            "Time elapsed =      1.755 | E =    -106.9391328597 | DE = 0.00e+00 | DW = 1.12e-16\n",
            "\n",
            "Sweep =    5 | Direction = backward | Bond dimension =  500 | Noise =  1.00e-05 | Dav threshold =  1.00e-10\n",
            "Time elapsed =      2.063 | E =    -106.9391328597 | DE = 5.68e-14 | DW = 1.40e-19\n",
            "\n",
            "Sweep =    6 | Direction =  forward | Bond dimension =  500 | Noise =  1.00e-05 | Dav threshold =  1.00e-10\n",
            "Time elapsed =      2.402 | E =    -106.9391328597 | DE = 0.00e+00 | DW = 1.12e-16\n",
            "\n",
            "Sweep =    7 | Direction = backward | Bond dimension =  500 | Noise =  1.00e-05 | Dav threshold =  1.00e-10\n",
            "Time elapsed =      2.709 | E =    -106.9391328597 | DE = 0.00e+00 | DW = 1.38e-19\n",
            "\n",
            "Sweep =    8 | Direction =  forward | Bond dimension =  500 | Noise =  0.00e+00 | Dav threshold =  1.00e-09\n",
            "Time elapsed =      2.933 | E =    -106.9391328597 | DE = 0.00e+00 | DW = 3.39e-20\n",
            "\n",
            "DMRG energy = -106.939132859666600\n",
            "Norm =    1.000000000000000\n",
            "Energy expectation = -106.939132859666614\n",
            "<S^2> expectation =    2.000000000000000\n"
          ]
        }
      ]
    },
    {
      "cell_type": "markdown",
      "source": [
        "We can also evaluate expectation of arbitray operator such as the occupancy in the first orbital\n",
        "\n",
        "$$\n",
        "\\hat{N}_0 = a^\\dagger_{0\\alpha} a_{0\\alpha} + a^\\dagger_{0\\beta} a_{0\\beta}\n",
        "= \\sqrt{2} \\big(a_0^\\dagger\\big)^{[1/2]} \\otimes_{[0]} \\big(a_0\\big)^{[1/2]}\n",
        "$$"
      ],
      "metadata": {
        "id": "5uw83pUS9hkY"
      }
    },
    {
      "cell_type": "code",
      "source": [
        "b = driver.expr_builder()\n",
        "b.add_term(\"(C+D)0\", [0, 0], np.sqrt(2))\n",
        "n_mpo = driver.get_mpo(b.finalize(), iprint=0)\n",
        "\n",
        "n_0 = driver.expectation(ket, n_mpo, ket)\n",
        "print('N0 expectation = %20.15f' % (n_0 / norm))"
      ],
      "metadata": {
        "colab": {
          "base_uri": "https://localhost:8080/"
        },
        "id": "gRqEzZnK8d8h",
        "outputId": "ad42a465-fc27-4ba2-b1d9-52fdec3a164c"
      },
      "execution_count": 15,
      "outputs": [
        {
          "output_type": "stream",
          "name": "stdout",
          "text": [
            "N0 expectation =    1.999995824361892\n"
          ]
        }
      ]
    },
    {
      "cell_type": "markdown",
      "source": [
        "We can then verify this number using 1PDM:"
      ],
      "metadata": {
        "id": "axO7Quw3-L9v"
      }
    },
    {
      "cell_type": "code",
      "source": [
        "pdm1 = driver.get_1pdm(ket)\n",
        "print('N0 expectation from 1pdm = %20.15f' % pdm1[0, 0])"
      ],
      "metadata": {
        "colab": {
          "base_uri": "https://localhost:8080/"
        },
        "id": "AiPieq3Z-JrA",
        "outputId": "f1bc42fc-8892-4380-ffaa-8a16980faf9b"
      },
      "execution_count": 16,
      "outputs": [
        {
          "output_type": "stream",
          "name": "stdout",
          "text": [
            "N0 expectation from 1pdm =    1.999995824361892\n"
          ]
        }
      ]
    },
    {
      "cell_type": "markdown",
      "source": [
        "We can compute the 3PDM and compare the result with the FCI 3PDM. Note that in ``pyscf`` the 3PDM is defined as\n",
        "\n",
        "$$\n",
        "\\mathrm{DM}_{ijklmn} := \\langle E_{ij} E_{kl} E_{mn} \\rangle\n",
        "$$\n",
        "\n",
        "So we have to use the same convention in ``block2`` by setting the ``npdm_expr`` parameter in ``block2`` to ``((C+D)0+((C+D)0+(C+D)0)0)0``.\n"
      ],
      "metadata": {
        "id": "xdFhzPE7-rb6"
      }
    },
    {
      "cell_type": "code",
      "source": [
        "pdm3_b2 = driver.get_3pdm(ket, iprint=0, npdm_expr=\"((C+D)0+((C+D)0+(C+D)0)0)0\")\n",
        "\n",
        "from pyscf import fci\n",
        "\n",
        "mx = fci.addons.fix_spin_(fci.FCI(mf), ss=2)\n",
        "mx.kernel(h1e, g2e, ncas, nelec=n_elec, nroots=3, tol=1E-12)\n",
        "print(mx.e_tot)\n",
        "pdm3_fci = fci.rdm.make_dm123('FCI3pdm_kern_sf', mx.ci[0], mx.ci[0], ncas, n_elec)[2]\n",
        "\n",
        "print('diff = ', np.linalg.norm(pdm3_fci - pdm3_b2))"
      ],
      "metadata": {
        "colab": {
          "base_uri": "https://localhost:8080/"
        },
        "id": "NIxjfBJP-byp",
        "outputId": "ab007aea-f900-4655-8e29-69dec7ff35cd"
      },
      "execution_count": 17,
      "outputs": [
        {
          "output_type": "stream",
          "name": "stdout",
          "text": [
            "[-106.93913286 -106.85412245 -106.70055113]\n",
            "diff =  4.622993128790701e-06\n"
          ]
        }
      ]
    },
    {
      "cell_type": "markdown",
      "source": [
        "## Extract CSF and Determinant Coefficients\n",
        "\n",
        "We can extract CSF (or determinant) coefficients from the spin-adapted MPS (or the non-spin-adapted MPS). The algorithm can compute all CSF or determinant with the absolute value of the coefficient above a threshold (called ``cutoff``). The square of coefficient is the probability (weight) of the CSF or determinant.\n",
        "\n",
        "Extracting CSF coefficients from spin-adapted MPS in the ``SU2`` mode:"
      ],
      "metadata": {
        "id": "j5ywJ3n9xaQx"
      }
    },
    {
      "cell_type": "code",
      "source": [
        "from pyscf import gto, scf\n",
        "\n",
        "mol = gto.M(atom=\"N 0 0 0; N 0 0 1.1\", basis=\"sto3g\", symmetry=\"d2h\", verbose=0)\n",
        "mf = scf.RHF(mol).run(conv_tol=1E-14)\n",
        "ncas, n_elec, spin, ecore, h1e, g2e, orb_sym = itg.get_rhf_integrals(mf,\n",
        "    ncore=0, ncas=None, g2e_symm=8)\n",
        "\n",
        "driver = DMRGDriver(scratch=\"./tmp\", symm_type=SymmetryTypes.SU2, n_threads=4)\n",
        "driver.initialize_system(n_sites=ncas, n_elec=n_elec, spin=spin, orb_sym=orb_sym)\n",
        "\n",
        "mpo = driver.get_qc_mpo(h1e=h1e, g2e=g2e, ecore=ecore, iprint=0)\n",
        "\n",
        "ket = driver.get_random_mps(tag=\"GS\", bond_dim=250, nroots=1)\n",
        "energy = driver.dmrg(mpo, ket, n_sweeps=20, bond_dims=bond_dims, noises=noises,\n",
        "    thrds=thrds, iprint=1)\n",
        "print('DMRG energy = %20.15f' % energy)\n",
        "\n",
        "csfs, coeffs = driver.get_csf_coefficients(ket, cutoff=0.05, iprint=1)"
      ],
      "metadata": {
        "colab": {
          "base_uri": "https://localhost:8080/"
        },
        "id": "wlUvVFbTxUxt",
        "outputId": "eccfad81-b7e8-4184-f61e-19222ad56b2d"
      },
      "execution_count": 18,
      "outputs": [
        {
          "output_type": "stream",
          "name": "stdout",
          "text": [
            "\n",
            "Sweep =    0 | Direction =  forward | Bond dimension =  250 | Noise =  1.00e-04 | Dav threshold =  1.00e-10\n",
            "Time elapsed =      0.639 | E =    -107.6541224475 | DW = 1.87e-10\n",
            "\n",
            "Sweep =    1 | Direction = backward | Bond dimension =  250 | Noise =  1.00e-04 | Dav threshold =  1.00e-10\n",
            "Time elapsed =      1.016 | E =    -107.6541224475 | DE = -3.38e-12 | DW = 3.81e-20\n",
            "\n",
            "Sweep =    2 | Direction =  forward | Bond dimension =  250 | Noise =  1.00e-04 | Dav threshold =  1.00e-10\n",
            "Time elapsed =      1.407 | E =    -107.6541224475 | DE = 5.68e-14 | DW = 1.87e-10\n",
            "\n",
            "Sweep =    3 | Direction = backward | Bond dimension =  250 | Noise =  1.00e-04 | Dav threshold =  1.00e-10\n",
            "Time elapsed =      1.777 | E =    -107.6541224475 | DE = -5.68e-13 | DW = 4.69e-20\n",
            "\n",
            "Sweep =    4 | Direction =  forward | Bond dimension =  500 | Noise =  1.00e-05 | Dav threshold =  1.00e-10\n",
            "Time elapsed =      2.209 | E =    -107.6541224475 | DE = 0.00e+00 | DW = 1.73e-20\n",
            "\n",
            "Sweep =    5 | Direction = backward | Bond dimension =  500 | Noise =  1.00e-05 | Dav threshold =  1.00e-10\n",
            "Time elapsed =      2.604 | E =    -107.6541224475 | DE = 2.84e-14 | DW = 5.35e-20\n",
            "\n",
            "Sweep =    6 | Direction =  forward | Bond dimension =  500 | Noise =  1.00e-05 | Dav threshold =  1.00e-10\n",
            "Time elapsed =      3.011 | E =    -107.6541224475 | DE = 0.00e+00 | DW = 1.66e-20\n",
            "\n",
            "Sweep =    7 | Direction = backward | Bond dimension =  500 | Noise =  1.00e-05 | Dav threshold =  1.00e-10\n",
            "Time elapsed =      3.376 | E =    -107.6541224475 | DE = 0.00e+00 | DW = 5.98e-20\n",
            "\n",
            "Sweep =    8 | Direction =  forward | Bond dimension =  500 | Noise =  0.00e+00 | Dav threshold =  1.00e-09\n",
            "Time elapsed =      3.647 | E =    -107.6541224475 | DE = 2.84e-14 | DW = 5.56e-20\n",
            "\n",
            "DMRG energy = -107.654122447524614\n",
            "dtrie finished 0.01697694599999977\n",
            "Number of CSF =          9 (cutoff =      0.05)\n",
            "Sum of weights of included CSF =    0.984368811359554\n",
            "\n",
            "CSF          0 2222222000  =    0.957506528669401\n",
            "CSF          1 2222202200  =   -0.131287867807394\n",
            "CSF          2 2222022020  =   -0.131287794595557\n",
            "CSF          3 2222+-2+-0  =    0.118594301088608\n",
            "CSF          4 2222++2--0  =   -0.084968224982022\n",
            "CSF          5 2220222020  =   -0.054710635444627\n",
            "CSF          6 2220222200  =   -0.054710465272207\n",
            "CSF          7 2222+2+0--  =    0.053881241407894\n",
            "CSF          8 22222++-0-  =    0.053881215166769\n"
          ]
        }
      ]
    },
    {
      "cell_type": "markdown",
      "source": [
        "Extracting determinant coefficients from spin-adapted MPS in the ``SZ`` mode:"
      ],
      "metadata": {
        "id": "Xo2eVRUfy7xE"
      }
    },
    {
      "cell_type": "code",
      "source": [
        "from pyscf import gto, scf\n",
        "\n",
        "mol = gto.M(atom=\"N 0 0 0; N 0 0 1.1\", basis=\"sto3g\", symmetry=\"d2h\", verbose=0)\n",
        "mf = scf.UHF(mol).run(conv_tol=1E-14)\n",
        "ncas, n_elec, spin, ecore, h1e, g2e, orb_sym = itg.get_uhf_integrals(mf,\n",
        "    ncore=0, ncas=None, g2e_symm=8)\n",
        "\n",
        "driver = DMRGDriver(scratch=\"./tmp\", symm_type=SymmetryTypes.SZ, n_threads=4)\n",
        "driver.initialize_system(n_sites=ncas, n_elec=n_elec, spin=spin, orb_sym=orb_sym)\n",
        "\n",
        "mpo = driver.get_qc_mpo(h1e=h1e, g2e=g2e, ecore=ecore, iprint=0)\n",
        "\n",
        "ket = driver.get_random_mps(tag=\"GS\", bond_dim=250, nroots=1)\n",
        "energy = driver.dmrg(mpo, ket, n_sweeps=20, bond_dims=bond_dims, noises=noises,\n",
        "    thrds=thrds, iprint=1)\n",
        "print('DMRG energy = %20.15f' % energy)\n",
        "\n",
        "csfs, coeffs = driver.get_csf_coefficients(ket, cutoff=0.05, iprint=1)"
      ],
      "metadata": {
        "colab": {
          "base_uri": "https://localhost:8080/"
        },
        "id": "JEGGNKwBy0Rj",
        "outputId": "f51b236b-eb13-4bdf-e103-5400f7ff29a9"
      },
      "execution_count": 19,
      "outputs": [
        {
          "output_type": "stream",
          "name": "stdout",
          "text": [
            "\n",
            "Sweep =    0 | Direction =  forward | Bond dimension =  250 | Noise =  1.00e-04 | Dav threshold =  1.00e-10\n",
            "Time elapsed =      1.373 | E =    -107.6541224475 | DW = 4.14e-08\n",
            "\n",
            "Sweep =    1 | Direction = backward | Bond dimension =  250 | Noise =  1.00e-04 | Dav threshold =  1.00e-10\n",
            "Time elapsed =      2.089 | E =    -107.6541224475 | DE = -2.07e-12 | DW = 5.05e-09\n",
            "\n",
            "Sweep =    2 | Direction =  forward | Bond dimension =  250 | Noise =  1.00e-04 | Dav threshold =  1.00e-10\n",
            "Time elapsed =      2.609 | E =    -107.6541224475 | DE = -1.34e-12 | DW = 4.14e-08\n",
            "\n",
            "Sweep =    3 | Direction = backward | Bond dimension =  250 | Noise =  1.00e-04 | Dav threshold =  1.00e-10\n",
            "Time elapsed =      3.051 | E =    -107.6541224475 | DE = 1.28e-12 | DW = 5.21e-09\n",
            "\n",
            "Sweep =    4 | Direction =  forward | Bond dimension =  500 | Noise =  1.00e-05 | Dav threshold =  1.00e-10\n",
            "Time elapsed =      3.572 | E =    -107.6541224475 | DE = -9.95e-13 | DW = 3.60e-11\n",
            "\n",
            "Sweep =    5 | Direction = backward | Bond dimension =  500 | Noise =  1.00e-05 | Dav threshold =  1.00e-10\n",
            "Time elapsed =      4.085 | E =    -107.6541224475 | DE = 8.81e-13 | DW = 1.37e-19\n",
            "\n",
            "Sweep =    6 | Direction =  forward | Bond dimension =  500 | Noise =  1.00e-05 | Dav threshold =  1.00e-10\n",
            "Time elapsed =      4.625 | E =    -107.6541224475 | DE = 2.84e-14 | DW = 3.60e-11\n",
            "\n",
            "Sweep =    7 | Direction = backward | Bond dimension =  500 | Noise =  1.00e-05 | Dav threshold =  1.00e-10\n",
            "Time elapsed =      5.142 | E =    -107.6541224475 | DE = -1.28e-12 | DW = 1.52e-19\n",
            "\n",
            "Sweep =    8 | Direction =  forward | Bond dimension =  500 | Noise =  0.00e+00 | Dav threshold =  1.00e-09\n",
            "Time elapsed =      5.505 | E =    -107.6541224475 | DE = 0.00e+00 | DW = 8.34e-20\n",
            "\n",
            "DMRG energy = -107.654122447524443\n",
            "dtrie finished 0.02674672699998837\n",
            "Number of DET =          7 (cutoff =      0.05)\n",
            "Sum of weights of included DET =    0.971331638354918\n",
            "\n",
            "DET          0 2222222000  =    0.957506568620143\n",
            "DET          1 2222022020  =   -0.131287835040785\n",
            "DET          2 2222202200  =   -0.131287814797523\n",
            "DET          3 2222ab2ab0  =    0.083825279692261\n",
            "DET          4 2222ba2ba0  =    0.083825279691480\n",
            "DET          5 2220222200  =   -0.054710476471258\n",
            "DET          6 2220222020  =   -0.054710439530678\n"
          ]
        }
      ]
    },
    {
      "cell_type": "markdown",
      "source": [
        "## Construct MPS from CSFs or Determinants\n",
        "\n",
        "If we know important CSFs or determinants in the state and their coefficients, we can also use this information to construct MPS, and this can be used as an initial guess and further optimized. Note that this initial guess can generate very good initial energies, but if the given CSFs have many doubly occupied and empty orbitals, the MPS will very likely optimize to a local minima.\n",
        "\n",
        "In the ``SU2`` mode:"
      ],
      "metadata": {
        "id": "NhiNjmry-D8D"
      }
    },
    {
      "cell_type": "code",
      "source": [
        "from pyscf import gto, scf\n",
        "\n",
        "mol = gto.M(atom=\"N 0 0 0; N 0 0 1.1\", basis=\"sto3g\", symmetry=\"d2h\", verbose=0)\n",
        "mf = scf.RHF(mol).run(conv_tol=1E-14)\n",
        "ncas, n_elec, spin, ecore, h1e, g2e, orb_sym = itg.get_rhf_integrals(mf,\n",
        "    ncore=0, ncas=None, g2e_symm=8)\n",
        "\n",
        "driver = DMRGDriver(scratch=\"./tmp\", symm_type=SymmetryTypes.SU2, n_threads=4)\n",
        "driver.initialize_system(n_sites=ncas, n_elec=n_elec, spin=spin, orb_sym=orb_sym)\n",
        "\n",
        "mpo = driver.get_qc_mpo(h1e=h1e, g2e=g2e, ecore=ecore, iprint=0)\n",
        "\n",
        "ket = driver.get_random_mps(tag=\"GS\", bond_dim=250, nroots=1)\n",
        "energy = driver.dmrg(mpo, ket, n_sweeps=20, bond_dims=bond_dims, noises=noises,\n",
        "    thrds=thrds, iprint=1)\n",
        "print('DMRG energy = %20.15f' % energy)\n",
        "\n",
        "csfs, coeffs = driver.get_csf_coefficients(ket, cutoff=0.05, iprint=1)\n",
        "\n",
        "mps = driver.get_mps_from_csf_coefficients(csfs, coeffs, tag=\"CMPS\", dot=2)\n",
        "impo = driver.get_identity_mpo()\n",
        "print(driver.expectation(mps, impo, mps))\n",
        "print(driver.expectation(mps, mpo, mps) / driver.expectation(mps, impo, mps))\n",
        "\n",
        "energy = driver.dmrg(mpo, mps, n_sweeps=5, bond_dims=[500] * 5, noises=[1E-5],\n",
        "    thrds=[1E-10] * 5, iprint=1)\n",
        "print('Ground state energy = %20.15f' % energy)"
      ],
      "metadata": {
        "colab": {
          "base_uri": "https://localhost:8080/"
        },
        "id": "Xu_MA3r3Mb5g",
        "outputId": "fa80d736-d770-4e5c-e0cf-e711dcdee6f2"
      },
      "execution_count": 20,
      "outputs": [
        {
          "output_type": "stream",
          "name": "stdout",
          "text": [
            "\n",
            "Sweep =    0 | Direction =  forward | Bond dimension =  250 | Noise =  1.00e-04 | Dav threshold =  1.00e-10\n",
            "Time elapsed =      0.496 | E =    -107.6541224475 | DW = 1.87e-10\n",
            "\n",
            "Sweep =    1 | Direction = backward | Bond dimension =  250 | Noise =  1.00e-04 | Dav threshold =  1.00e-10\n",
            "Time elapsed =      0.733 | E =    -107.6541224475 | DE = -1.24e-11 | DW = 4.89e-20\n",
            "\n",
            "Sweep =    2 | Direction =  forward | Bond dimension =  250 | Noise =  1.00e-04 | Dav threshold =  1.00e-10\n",
            "Time elapsed =      0.990 | E =    -107.6541224475 | DE = 2.84e-14 | DW = 1.87e-10\n",
            "\n",
            "Sweep =    3 | Direction = backward | Bond dimension =  250 | Noise =  1.00e-04 | Dav threshold =  1.00e-10\n",
            "Time elapsed =      1.208 | E =    -107.6541224475 | DE = -1.36e-12 | DW = 3.97e-20\n",
            "\n",
            "Sweep =    4 | Direction =  forward | Bond dimension =  500 | Noise =  1.00e-05 | Dav threshold =  1.00e-10\n",
            "Time elapsed =      1.488 | E =    -107.6541224475 | DE = 0.00e+00 | DW = 1.48e-20\n",
            "\n",
            "Sweep =    5 | Direction = backward | Bond dimension =  500 | Noise =  1.00e-05 | Dav threshold =  1.00e-10\n",
            "Time elapsed =      1.713 | E =    -107.6541224475 | DE = -2.84e-14 | DW = 6.11e-20\n",
            "\n",
            "Sweep =    6 | Direction =  forward | Bond dimension =  500 | Noise =  1.00e-05 | Dav threshold =  1.00e-10\n",
            "Time elapsed =      1.974 | E =    -107.6541224475 | DE = 5.68e-14 | DW = 2.41e-20\n",
            "\n",
            "Sweep =    7 | Direction = backward | Bond dimension =  500 | Noise =  1.00e-05 | Dav threshold =  1.00e-10\n",
            "Time elapsed =      2.209 | E =    -107.6541224475 | DE = -2.84e-14 | DW = 6.14e-20\n",
            "\n",
            "Sweep =    8 | Direction =  forward | Bond dimension =  500 | Noise =  0.00e+00 | Dav threshold =  1.00e-09\n",
            "Time elapsed =      2.482 | E =    -107.6541224475 | DE = 5.68e-14 | DW = 2.91e-20\n",
            "\n",
            "DMRG energy = -107.654122447524358\n",
            "dtrie finished 0.016507582999963688\n",
            "Number of CSF =          9 (cutoff =      0.05)\n",
            "Sum of weights of included CSF =    0.984368809657036\n",
            "\n",
            "CSF          0 2222222000  =    0.957506521875127\n",
            "CSF          1 2222202200  =   -0.131287813613834\n",
            "CSF          2 2222022020  =   -0.131287676854091\n",
            "CSF          3 2222+-2+-0  =    0.118594392287595\n",
            "CSF          4 2222++2--0  =   -0.084968279487231\n",
            "CSF          5 2220222020  =   -0.054710673444202\n",
            "CSF          6 2220222200  =   -0.054710596031681\n",
            "CSF          7 2222+2+0--  =    0.053881289057939\n",
            "CSF          8 22222++-0-  =    0.053881233355398\n",
            "0.9843688096570361\n",
            "-107.6155366353171\n",
            "\n",
            "Sweep =    0 | Direction = backward | Bond dimension =  500 | Noise =  1.00e-05 | Dav threshold =  1.00e-10\n",
            "Time elapsed =      0.054 | E =    -107.6285084535 | DW = 3.52e-21\n",
            "\n",
            "Sweep =    1 | Direction =  forward | Bond dimension =  500 | Noise =  1.00e-05 | Dav threshold =  1.00e-10\n",
            "Time elapsed =      0.109 | E =    -107.6288109091 | DE = -3.02e-04 | DW = 9.04e-21\n",
            "\n",
            "Sweep =    2 | Direction = backward | Bond dimension =  500 | Noise =  1.00e-05 | Dav threshold =  1.00e-10\n",
            "Time elapsed =      0.164 | E =    -107.6289019710 | DE = -9.11e-05 | DW = 4.57e-21\n",
            "\n",
            "Sweep =    3 | Direction =  forward | Bond dimension =  500 | Noise =  1.00e-05 | Dav threshold =  1.00e-10\n",
            "Time elapsed =      0.217 | E =    -107.6289019713 | DE = -3.35e-10 | DW = 2.07e-20\n",
            "\n",
            "Ground state energy = -107.628901971339317\n"
          ]
        }
      ]
    },
    {
      "cell_type": "markdown",
      "source": [
        "In the ``SZ`` mode:"
      ],
      "metadata": {
        "id": "zCHMLB2kOGOY"
      }
    },
    {
      "cell_type": "code",
      "source": [
        "from pyscf import gto, scf\n",
        "\n",
        "mol = gto.M(atom=\"N 0 0 0; N 0 0 1.1\", basis=\"sto3g\", symmetry=\"d2h\", verbose=0)\n",
        "mf = scf.UHF(mol).run(conv_tol=1E-14)\n",
        "ncas, n_elec, spin, ecore, h1e, g2e, orb_sym = itg.get_uhf_integrals(mf,\n",
        "    ncore=0, ncas=None, g2e_symm=8)\n",
        "\n",
        "driver = DMRGDriver(scratch=\"./tmp\", symm_type=SymmetryTypes.SZ, n_threads=4)\n",
        "driver.initialize_system(n_sites=ncas, n_elec=n_elec, spin=spin, orb_sym=orb_sym)\n",
        "\n",
        "mpo = driver.get_qc_mpo(h1e=h1e, g2e=g2e, ecore=ecore, iprint=0)\n",
        "\n",
        "ket = driver.get_random_mps(tag=\"GS\", bond_dim=250, nroots=1)\n",
        "energy = driver.dmrg(mpo, ket, n_sweeps=20, bond_dims=bond_dims, noises=noises,\n",
        "    thrds=thrds, iprint=1)\n",
        "print('DMRG energy = %20.15f' % energy)\n",
        "\n",
        "dets, coeffs = driver.get_csf_coefficients(ket, cutoff=0.05, iprint=1)\n",
        "\n",
        "mps = driver.get_mps_from_csf_coefficients(dets, coeffs, tag=\"CMPS\", dot=2)\n",
        "impo = driver.get_identity_mpo()\n",
        "print(driver.expectation(mps, impo, mps))\n",
        "print(driver.expectation(mps, mpo, mps) / driver.expectation(mps, impo, mps))\n",
        "\n",
        "energy = driver.dmrg(mpo, mps, n_sweeps=5, bond_dims=[500] * 5, noises=[1E-5],\n",
        "    thrds=[1E-10] * 5, iprint=1)\n",
        "print('Ground state energy = %20.15f' % energy)"
      ],
      "metadata": {
        "colab": {
          "base_uri": "https://localhost:8080/"
        },
        "id": "MGIr2B15OHoq",
        "outputId": "054476e8-8c98-490b-ba23-9592c9f8b0ad"
      },
      "execution_count": 21,
      "outputs": [
        {
          "output_type": "stream",
          "name": "stdout",
          "text": [
            "\n",
            "Sweep =    0 | Direction =  forward | Bond dimension =  250 | Noise =  1.00e-04 | Dav threshold =  1.00e-10\n",
            "Time elapsed =      0.809 | E =    -107.6541224475 | DW = 4.14e-08\n",
            "\n",
            "Sweep =    1 | Direction = backward | Bond dimension =  250 | Noise =  1.00e-04 | Dav threshold =  1.00e-10\n",
            "Time elapsed =      1.294 | E =    -107.6541224475 | DE = -5.80e-12 | DW = 5.17e-09\n",
            "\n",
            "Sweep =    2 | Direction =  forward | Bond dimension =  250 | Noise =  1.00e-04 | Dav threshold =  1.00e-10\n",
            "Time elapsed =      1.713 | E =    -107.6541224475 | DE = -9.38e-13 | DW = 4.15e-08\n",
            "\n",
            "Sweep =    3 | Direction = backward | Bond dimension =  250 | Noise =  1.00e-04 | Dav threshold =  1.00e-10\n",
            "Time elapsed =      2.170 | E =    -107.6541224475 | DE = 1.36e-12 | DW = 5.37e-09\n",
            "\n",
            "Sweep =    4 | Direction =  forward | Bond dimension =  500 | Noise =  1.00e-05 | Dav threshold =  1.00e-10\n",
            "Time elapsed =      2.687 | E =    -107.6541224475 | DE = -1.36e-12 | DW = 3.60e-11\n",
            "\n",
            "Sweep =    5 | Direction = backward | Bond dimension =  500 | Noise =  1.00e-05 | Dav threshold =  1.00e-10\n",
            "Time elapsed =      3.212 | E =    -107.6541224475 | DE = 1.05e-12 | DW = 1.85e-19\n",
            "\n",
            "Sweep =    6 | Direction =  forward | Bond dimension =  500 | Noise =  1.00e-05 | Dav threshold =  1.00e-10\n",
            "Time elapsed =      3.737 | E =    -107.6541224475 | DE = -2.84e-14 | DW = 3.60e-11\n",
            "\n",
            "Sweep =    7 | Direction = backward | Bond dimension =  500 | Noise =  1.00e-05 | Dav threshold =  1.00e-10\n",
            "Time elapsed =      4.252 | E =    -107.6541224475 | DE = -1.14e-12 | DW = 1.77e-19\n",
            "\n",
            "Sweep =    8 | Direction =  forward | Bond dimension =  500 | Noise =  0.00e+00 | Dav threshold =  1.00e-09\n",
            "Time elapsed =      4.598 | E =    -107.6541224475 | DE = 0.00e+00 | DW = 8.68e-20\n",
            "\n",
            "DMRG energy = -107.654122447524529\n",
            "dtrie finished 0.03569589099998893\n",
            "Number of DET =          7 (cutoff =      0.05)\n",
            "Sum of weights of included DET =    0.971331637808218\n",
            "\n",
            "DET          0 2222222000  =   -0.957506566009713\n",
            "DET          1 2222022020  =    0.131287836810967\n",
            "DET          2 2222202200  =    0.131287818787713\n",
            "DET          3 2222ab2ab0  =   -0.083825284176507\n",
            "DET          4 2222ba2ba0  =   -0.083825284073794\n",
            "DET          5 2220222200  =    0.054710477807739\n",
            "DET          6 2220222020  =    0.054710451475846\n",
            "0.971331637808218\n",
            "-107.59447325662364\n",
            "\n",
            "Sweep =    0 | Direction = backward | Bond dimension =  500 | Noise =  1.00e-05 | Dav threshold =  1.00e-10\n",
            "Time elapsed =      0.047 | E =    -107.6101211360 | DW = 6.22e-21\n",
            "\n",
            "Sweep =    1 | Direction =  forward | Bond dimension =  500 | Noise =  1.00e-05 | Dav threshold =  1.00e-10\n",
            "Time elapsed =      0.104 | E =    -107.6102787809 | DE = -1.58e-04 | DW = 8.84e-21\n",
            "\n",
            "Sweep =    2 | Direction = backward | Bond dimension =  500 | Noise =  1.00e-05 | Dav threshold =  1.00e-10\n",
            "Time elapsed =      0.163 | E =    -107.6104759466 | DE = -1.97e-04 | DW = 1.22e-20\n",
            "\n",
            "Sweep =    3 | Direction =  forward | Bond dimension =  500 | Noise =  1.00e-05 | Dav threshold =  1.00e-10\n",
            "Time elapsed =      0.218 | E =    -107.6104759470 | DE = -4.45e-10 | DW = 1.18e-20\n",
            "\n",
            "Ground state energy = -107.610475947024796\n"
          ]
        }
      ]
    },
    {
      "cell_type": "markdown",
      "source": [
        "## MPS Initial Guess from Occupancies\n",
        "\n",
        "We can also construct the MPS using an estimate of the occupancy information at each site from a cheaper method (such as CCSD). We can use this information to construct the initial quantum number distribution in the MPS.\n",
        "\n",
        "Note that this initial guess can generate very good energies in the first few sweeps, but if the given occupancies have many doubly occupied and empty orbitals, the MPS will very likely optimize to a local minima. One can shift the occupancies into the equal probability occupancies (for example, setting ``bias=0.4`` in the example below) to randomize the initial guess.\n",
        "\n",
        "In the ``SU2`` mode:"
      ],
      "metadata": {
        "id": "lKczQwpW-KzH"
      }
    },
    {
      "cell_type": "code",
      "source": [
        "from pyscf import gto, scf, cc\n",
        "\n",
        "mol = gto.M(atom=\"N 0 0 0; N 0 0 1.1\", basis=\"sto3g\", symmetry=\"d2h\", verbose=0)\n",
        "mf = scf.RHF(mol).run(conv_tol=1E-14)\n",
        "ncas, n_elec, spin, ecore, h1e, g2e, orb_sym = itg.get_rhf_integrals(mf,\n",
        "    ncore=0, ncas=None, g2e_symm=8)\n",
        "\n",
        "bias = 0.1 # make it more random\n",
        "occs = np.diag(cc.CCSD(mf).run().make_rdm1())\n",
        "occs = occs + bias * (occs < 1) - bias * (occs > 1)\n",
        "\n",
        "driver = DMRGDriver(scratch=\"./tmp\", symm_type=SymmetryTypes.SU2, n_threads=4)\n",
        "driver.initialize_system(n_sites=ncas, n_elec=n_elec, spin=spin, orb_sym=orb_sym)\n",
        "\n",
        "mpo = driver.get_qc_mpo(h1e=h1e, g2e=g2e, ecore=ecore, iprint=0)\n",
        "ket = driver.get_random_mps(tag=\"GS\", bond_dim=250, occs=occs, nroots=1)\n",
        "energy = driver.dmrg(mpo, ket, n_sweeps=20, bond_dims=bond_dims, noises=noises,\n",
        "    thrds=thrds, iprint=1)\n",
        "print('DMRG energy = %20.15f' % energy)"
      ],
      "metadata": {
        "colab": {
          "base_uri": "https://localhost:8080/"
        },
        "id": "89CYdAQERbng",
        "outputId": "e5467ea7-8556-4cf0-ca29-382f2bec616e"
      },
      "execution_count": 22,
      "outputs": [
        {
          "output_type": "stream",
          "name": "stdout",
          "text": [
            "\n",
            "Sweep =    0 | Direction =  forward | Bond dimension =  250 | Noise =  1.00e-04 | Dav threshold =  1.00e-10\n",
            "Time elapsed =      0.044 | E =    -107.5033999317 | DW = 2.59e-21\n",
            "\n",
            "Sweep =    1 | Direction = backward | Bond dimension =  250 | Noise =  1.00e-04 | Dav threshold =  1.00e-10\n",
            "Time elapsed =      0.135 | E =    -107.5830591524 | DE = -7.97e-02 | DW = 3.51e-21\n",
            "\n",
            "Sweep =    2 | Direction =  forward | Bond dimension =  250 | Noise =  1.00e-04 | Dav threshold =  1.00e-10\n",
            "Time elapsed =      0.217 | E =    -107.5836402922 | DE = -5.81e-04 | DW = 9.17e-21\n",
            "\n",
            "Sweep =    3 | Direction = backward | Bond dimension =  250 | Noise =  1.00e-04 | Dav threshold =  1.00e-10\n",
            "Time elapsed =      0.294 | E =    -107.5867932578 | DE = -3.15e-03 | DW = 1.12e-20\n",
            "\n",
            "Sweep =    4 | Direction =  forward | Bond dimension =  500 | Noise =  1.00e-05 | Dav threshold =  1.00e-10\n",
            "Time elapsed =      0.371 | E =    -107.5868061724 | DE = -1.29e-05 | DW = 1.17e-20\n",
            "\n",
            "Sweep =    5 | Direction = backward | Bond dimension =  500 | Noise =  1.00e-05 | Dav threshold =  1.00e-10\n",
            "Time elapsed =      0.443 | E =    -107.5868152464 | DE = -9.07e-06 | DW = 1.23e-20\n",
            "\n",
            "Sweep =    6 | Direction =  forward | Bond dimension =  500 | Noise =  1.00e-05 | Dav threshold =  1.00e-10\n",
            "Time elapsed =      0.517 | E =    -107.5868152464 | DE = -5.68e-14 | DW = 1.45e-20\n",
            "\n",
            "Sweep =    7 | Direction = backward | Bond dimension =  500 | Noise =  1.00e-05 | Dav threshold =  1.00e-10\n",
            "Time elapsed =      0.589 | E =    -107.5868152464 | DE = 2.84e-14 | DW = 8.04e-21\n",
            "\n",
            "Sweep =    8 | Direction =  forward | Bond dimension =  500 | Noise =  0.00e+00 | Dav threshold =  1.00e-09\n",
            "Time elapsed =      0.655 | E =    -107.5868152464 | DE = 2.84e-14 | DW = 1.69e-20\n",
            "\n",
            "DMRG energy = -107.586815246376730\n"
          ]
        }
      ]
    },
    {
      "cell_type": "markdown",
      "source": [
        "In the ``SZ`` mode:"
      ],
      "metadata": {
        "id": "MBBhzM1DRlEC"
      }
    },
    {
      "cell_type": "code",
      "source": [
        "from pyscf import gto, scf, cc\n",
        "\n",
        "mol = gto.M(atom=\"N 0 0 0; N 0 0 1.1\", basis=\"sto3g\", symmetry=\"d2h\", verbose=0)\n",
        "mf = scf.UHF(mol).run(conv_tol=1E-14)\n",
        "ncas, n_elec, spin, ecore, h1e, g2e, orb_sym = itg.get_uhf_integrals(mf,\n",
        "    ncore=0, ncas=None, g2e_symm=8)\n",
        "\n",
        "bias = 0.1 # make it more random\n",
        "occs = np.diag(np.sum(cc.UCCSD(mf).run().make_rdm1(), axis=0))\n",
        "occs = occs + bias * (occs < 1) - bias * (occs > 1)\n",
        "\n",
        "driver = DMRGDriver(scratch=\"./tmp\", symm_type=SymmetryTypes.SZ, n_threads=4)\n",
        "driver.initialize_system(n_sites=ncas, n_elec=n_elec, spin=spin, orb_sym=orb_sym)\n",
        "\n",
        "mpo = driver.get_qc_mpo(h1e=h1e, g2e=g2e, ecore=ecore, iprint=0)\n",
        "ket = driver.get_random_mps(tag=\"GS\", bond_dim=250, occs=occs, nroots=1)\n",
        "energy = driver.dmrg(mpo, ket, n_sweeps=20, bond_dims=bond_dims, noises=noises,\n",
        "    thrds=thrds, iprint=1)\n",
        "print('DMRG energy = %20.15f' % energy)"
      ],
      "metadata": {
        "colab": {
          "base_uri": "https://localhost:8080/"
        },
        "id": "EFggxZINRmky",
        "outputId": "2f628385-bc32-4746-8221-3c89711c57a9"
      },
      "execution_count": 23,
      "outputs": [
        {
          "output_type": "stream",
          "name": "stdout",
          "text": [
            "\n",
            "Sweep =    0 | Direction =  forward | Bond dimension =  250 | Noise =  1.00e-04 | Dav threshold =  1.00e-10\n",
            "Time elapsed =      0.097 | E =    -107.5033999316 | DW = 3.37e-21\n",
            "\n",
            "Sweep =    1 | Direction = backward | Bond dimension =  250 | Noise =  1.00e-04 | Dav threshold =  1.00e-10\n",
            "Time elapsed =      0.267 | E =    -107.5830606948 | DE = -7.97e-02 | DW = 7.61e-21\n",
            "\n",
            "Sweep =    2 | Direction =  forward | Bond dimension =  250 | Noise =  1.00e-04 | Dav threshold =  1.00e-10\n",
            "Time elapsed =      0.376 | E =    -107.5836402307 | DE = -5.80e-04 | DW = 1.27e-20\n",
            "\n",
            "Sweep =    3 | Direction = backward | Bond dimension =  250 | Noise =  1.00e-04 | Dav threshold =  1.00e-10\n",
            "Time elapsed =      0.505 | E =    -107.5867932582 | DE = -3.15e-03 | DW = 1.21e-20\n",
            "\n",
            "Sweep =    4 | Direction =  forward | Bond dimension =  500 | Noise =  1.00e-05 | Dav threshold =  1.00e-10\n",
            "Time elapsed =      0.624 | E =    -107.5868061673 | DE = -1.29e-05 | DW = 1.84e-20\n",
            "\n",
            "Sweep =    5 | Direction = backward | Bond dimension =  500 | Noise =  1.00e-05 | Dav threshold =  1.00e-10\n",
            "Time elapsed =      0.847 | E =    -107.5868152464 | DE = -9.08e-06 | DW = 1.03e-20\n",
            "\n",
            "Sweep =    6 | Direction =  forward | Bond dimension =  500 | Noise =  1.00e-05 | Dav threshold =  1.00e-10\n",
            "Time elapsed =      1.008 | E =    -107.5868152464 | DE = 0.00e+00 | DW = 1.88e-20\n",
            "\n",
            "Sweep =    7 | Direction = backward | Bond dimension =  500 | Noise =  1.00e-05 | Dav threshold =  1.00e-10\n",
            "Time elapsed =      1.132 | E =    -107.5868152464 | DE = 0.00e+00 | DW = 1.76e-20\n",
            "\n",
            "Sweep =    8 | Direction =  forward | Bond dimension =  500 | Noise =  0.00e+00 | Dav threshold =  1.00e-09\n",
            "Time elapsed =      1.218 | E =    -107.5868152464 | DE = 0.00e+00 | DW = 1.33e-20\n",
            "\n",
            "DMRG energy = -107.586815246376730\n"
          ]
        }
      ]
    },
    {
      "cell_type": "markdown",
      "source": [
        "In the ``SGF`` mode:"
      ],
      "metadata": {
        "id": "QEmsn2bvSDPv"
      }
    },
    {
      "cell_type": "code",
      "source": [
        "from pyscf import gto, scf, cc\n",
        "\n",
        "mol = gto.M(atom=\"N 0 0 0; N 0 0 1.1\", basis=\"sto3g\", symmetry=\"d2h\", verbose=0)\n",
        "mf = scf.GHF(mol).run(conv_tol=1E-14)\n",
        "ncas, n_elec, spin, ecore, h1e, g2e, orb_sym = itg.get_ghf_integrals(mf,\n",
        "    ncore=0, ncas=None, g2e_symm=8)\n",
        "\n",
        "bias = 0.25 # make it more random\n",
        "occs = np.sum(cc.GCCSD(mf).run().make_rdm1(), axis=0)\n",
        "occs = occs + bias * (occs < 0.5) - bias * (occs > 0.5)\n",
        "\n",
        "driver = DMRGDriver(scratch=\"./tmp\", symm_type=SymmetryTypes.SGF, n_threads=4)\n",
        "driver.initialize_system(n_sites=ncas, n_elec=n_elec, spin=spin, orb_sym=orb_sym)\n",
        "\n",
        "mpo = driver.get_qc_mpo(h1e=h1e, g2e=g2e, ecore=ecore, iprint=0)\n",
        "ket = driver.get_random_mps(tag=\"GS\", bond_dim=250, occs=occs, nroots=1)\n",
        "energy = driver.dmrg(mpo, ket, n_sweeps=20, bond_dims=bond_dims, noises=noises,\n",
        "    thrds=thrds, iprint=1)\n",
        "print('DMRG energy = %20.15f' % energy)"
      ],
      "metadata": {
        "colab": {
          "base_uri": "https://localhost:8080/"
        },
        "id": "5ov6ybDJSEqY",
        "outputId": "97325ac1-7c03-467e-8051-de10f7802d13"
      },
      "execution_count": 24,
      "outputs": [
        {
          "output_type": "stream",
          "name": "stdout",
          "text": [
            "\n",
            "Sweep =    0 | Direction =  forward | Bond dimension =  250 | Noise =  1.00e-04 | Dav threshold =  1.00e-10\n",
            "Time elapsed =      0.853 | E =    -107.6538893531 | DW = 2.24e-08\n",
            "\n",
            "Sweep =    1 | Direction = backward | Bond dimension =  250 | Noise =  1.00e-04 | Dav threshold =  1.00e-10\n",
            "Time elapsed =      1.548 | E =    -107.6539226742 | DE = -3.33e-05 | DW = 8.93e-09\n",
            "\n",
            "Sweep =    2 | Direction =  forward | Bond dimension =  250 | Noise =  1.00e-04 | Dav threshold =  1.00e-10\n",
            "Time elapsed =      2.168 | E =    -107.6539462697 | DE = -2.36e-05 | DW = 5.04e-08\n",
            "\n",
            "Sweep =    3 | Direction = backward | Bond dimension =  250 | Noise =  1.00e-04 | Dav threshold =  1.00e-10\n",
            "Time elapsed =      2.808 | E =    -107.6539506829 | DE = -4.41e-06 | DW = 1.95e-08\n",
            "\n",
            "Sweep =    4 | Direction =  forward | Bond dimension =  500 | Noise =  1.00e-05 | Dav threshold =  1.00e-10\n",
            "Time elapsed =      3.596 | E =    -107.6539506829 | DE = 3.24e-12 | DW = 1.84e-11\n",
            "\n",
            "Sweep =    5 | Direction = backward | Bond dimension =  500 | Noise =  1.00e-05 | Dav threshold =  1.00e-10\n",
            "Time elapsed =      4.386 | E =    -107.6539506829 | DE = -4.12e-12 | DW = 5.67e-20\n",
            "\n",
            "Sweep =    6 | Direction =  forward | Bond dimension =  500 | Noise =  1.00e-05 | Dav threshold =  1.00e-10\n",
            "Time elapsed =      5.236 | E =    -107.6539506829 | DE = -2.84e-14 | DW = 1.84e-11\n",
            "\n",
            "Sweep =    7 | Direction = backward | Bond dimension =  500 | Noise =  1.00e-05 | Dav threshold =  1.00e-10\n",
            "Time elapsed =      6.014 | E =    -107.6539506829 | DE = 2.05e-12 | DW = 4.05e-20\n",
            "\n",
            "Sweep =    8 | Direction =  forward | Bond dimension =  500 | Noise =  0.00e+00 | Dav threshold =  1.00e-09\n",
            "Time elapsed =      6.497 | E =    -107.6539506829 | DE = 0.00e+00 | DW = 7.66e-20\n",
            "\n",
            "DMRG energy = -107.653950682884570\n"
          ]
        }
      ]
    },
    {
      "cell_type": "markdown",
      "source": [
        "## Change from SU2 MPS to SZ MPS\n",
        "\n",
        "We can also transform the spin-adapted MPS generated in the ``SU2`` mode to the non-spin-adapted MPS, which can be used in the ``SZ`` mode. After obtaining the non-spin-adapted MPS, one need to redo ``driver.initialize_system``, ``driver.get_qc_mpo``, etc. to make sure every object is now represented in the ``SZ`` mode, then you can operate on the ``SZ`` non-spin-adapted MPS.\n",
        "\n",
        "In the following example, we first compute the spin-adapted MPS, then translate it into the non-spin-adapted MPS to extract the determinant coefficients."
      ],
      "metadata": {
        "id": "pHzJ0eA09yM3"
      }
    },
    {
      "cell_type": "code",
      "source": [
        "from pyscf import gto, scf\n",
        "\n",
        "mol = gto.M(atom=\"N 0 0 0; N 0 0 1.1\", basis=\"sto3g\", symmetry=\"d2h\", verbose=0)\n",
        "mf = scf.RHF(mol).run(conv_tol=1E-14)\n",
        "ncas, n_elec, spin, ecore, h1e, g2e, orb_sym = itg.get_rhf_integrals(mf,\n",
        "    ncore=0, ncas=None, g2e_symm=8)\n",
        "\n",
        "driver = DMRGDriver(scratch=\"./tmp\", symm_type=SymmetryTypes.SU2, n_threads=4)\n",
        "driver.initialize_system(n_sites=ncas, n_elec=n_elec, spin=spin, orb_sym=orb_sym)\n",
        "\n",
        "mpo = driver.get_qc_mpo(h1e=h1e, g2e=g2e, ecore=ecore, iprint=0)\n",
        "\n",
        "ket = driver.get_random_mps(tag=\"GS\", bond_dim=250, nroots=1)\n",
        "energy = driver.dmrg(mpo, ket, n_sweeps=20, bond_dims=bond_dims, noises=noises,\n",
        "    thrds=thrds, iprint=1)\n",
        "print('DMRG energy = %20.15f' % energy)\n",
        "\n",
        "csfs, coeffs = driver.get_csf_coefficients(ket, cutoff=0.05, iprint=1)\n",
        "zket = driver.mps_change_to_sz(ket, \"ZKET\")\n",
        "\n",
        "driver.symm_type = SymmetryTypes.SZ\n",
        "driver.initialize_system(n_sites=ncas, n_elec=n_elec, spin=spin, orb_sym=orb_sym)\n",
        "mpo = driver.get_qc_mpo(h1e=h1e, g2e=g2e, ecore=ecore, iprint=0)\n",
        "impo = driver.get_identity_mpo()\n",
        "print(driver.expectation(zket, mpo, zket) / driver.expectation(zket, impo, zket))\n",
        "csfs, vals = driver.get_csf_coefficients(zket, cutoff=0.05, iprint=1)"
      ],
      "metadata": {
        "colab": {
          "base_uri": "https://localhost:8080/"
        },
        "id": "bshiEyU9TIcg",
        "outputId": "7d23f0e3-a348-422a-c3f1-53c48d0500c0"
      },
      "execution_count": 25,
      "outputs": [
        {
          "output_type": "stream",
          "name": "stdout",
          "text": [
            "\n",
            "Sweep =    0 | Direction =  forward | Bond dimension =  250 | Noise =  1.00e-04 | Dav threshold =  1.00e-10\n",
            "Time elapsed =      0.902 | E =    -107.6541224475 | DW = 1.87e-10\n",
            "\n",
            "Sweep =    1 | Direction = backward | Bond dimension =  250 | Noise =  1.00e-04 | Dav threshold =  1.00e-10\n",
            "Time elapsed =      1.281 | E =    -107.6541224475 | DE = -2.87e-12 | DW = 4.49e-20\n",
            "\n",
            "Sweep =    2 | Direction =  forward | Bond dimension =  250 | Noise =  1.00e-04 | Dav threshold =  1.00e-10\n",
            "Time elapsed =      1.682 | E =    -107.6541224475 | DE = -2.84e-14 | DW = 1.87e-10\n",
            "\n",
            "Sweep =    3 | Direction = backward | Bond dimension =  250 | Noise =  1.00e-04 | Dav threshold =  1.00e-10\n",
            "Time elapsed =      2.068 | E =    -107.6541224475 | DE = -5.12e-13 | DW = 5.07e-20\n",
            "\n",
            "Sweep =    4 | Direction =  forward | Bond dimension =  500 | Noise =  1.00e-05 | Dav threshold =  1.00e-10\n",
            "Time elapsed =      2.610 | E =    -107.6541224475 | DE = -5.68e-14 | DW = 2.62e-20\n",
            "\n",
            "Sweep =    5 | Direction = backward | Bond dimension =  500 | Noise =  1.00e-05 | Dav threshold =  1.00e-10\n",
            "Time elapsed =      3.019 | E =    -107.6541224475 | DE = 2.84e-14 | DW = 4.59e-20\n",
            "\n",
            "Sweep =    6 | Direction =  forward | Bond dimension =  500 | Noise =  1.00e-05 | Dav threshold =  1.00e-10\n",
            "Time elapsed =      3.435 | E =    -107.6541224475 | DE = 2.84e-14 | DW = 2.01e-20\n",
            "\n",
            "Sweep =    7 | Direction = backward | Bond dimension =  500 | Noise =  1.00e-05 | Dav threshold =  1.00e-10\n",
            "Time elapsed =      3.808 | E =    -107.6541224475 | DE = -5.68e-14 | DW = 3.69e-20\n",
            "\n",
            "Sweep =    8 | Direction =  forward | Bond dimension =  500 | Noise =  0.00e+00 | Dav threshold =  1.00e-09\n",
            "Time elapsed =      4.095 | E =    -107.6541224475 | DE = 2.84e-14 | DW = 3.68e-20\n",
            "\n",
            "DMRG energy = -107.654122447524671\n",
            "dtrie finished 0.026360811000017748\n",
            "Number of CSF =          9 (cutoff =      0.05)\n",
            "Sum of weights of included CSF =    0.984368806039259\n",
            "\n",
            "CSF          0 2222222000  =   -0.957506495595307\n",
            "CSF          1 2222022020  =    0.131287987564377\n",
            "CSF          2 2222202200  =    0.131287965813458\n",
            "CSF          3 2222+-2+-0  =   -0.118594461577159\n",
            "CSF          4 2222++2--0  =    0.084967942537817\n",
            "CSF          5 2220222020  =    0.054710523921704\n",
            "CSF          6 2220222200  =    0.054710517406346\n",
            "CSF          7 2222+2+0--  =   -0.053881222618422\n",
            "CSF          8 22222++-0-  =   -0.053881215803966\n",
            "-107.65412244752456\n",
            "dtrie finished 0.0680388100000755\n",
            "Number of DET =          7 (cutoff =      0.05)\n",
            "Sum of weights of included DET =    0.971331619872548\n",
            "\n",
            "DET          0 2222222000  =   -0.957506495595307\n",
            "DET          1 2222022020  =    0.131287987564377\n",
            "DET          2 2222202200  =    0.131287965813458\n",
            "DET          3 2222ab2ab0  =   -0.083825363036928\n",
            "DET          4 2222ba2ba0  =   -0.083825363036928\n",
            "DET          5 2220222020  =    0.054710523921704\n",
            "DET          6 2220222200  =    0.054710517406346\n"
          ]
        }
      ]
    },
    {
      "cell_type": "markdown",
      "source": [
        "## Change between Real and Complex MPS\n",
        "\n",
        "We can also change between the MPS with complex numbers and the MPS with real numbers. For complex MPS to real MPS, the imaginary part will be discarded (and the norm of the transformed MPS may decrease). This may be useful when you do a ground state calculation in the real domain and then do the real time evolution in the complex domain.\n",
        "\n",
        "From real to complex:"
      ],
      "metadata": {
        "id": "DI9giYpoVAl4"
      }
    },
    {
      "cell_type": "code",
      "source": [
        "from pyscf import gto, scf\n",
        "\n",
        "mol = gto.M(atom=\"N 0 0 0; N 0 0 1.1\", basis=\"sto3g\", symmetry=\"d2h\", verbose=0)\n",
        "mf = scf.RHF(mol).run(conv_tol=1E-14)\n",
        "ncas, n_elec, spin, ecore, h1e, g2e, orb_sym = itg.get_rhf_integrals(mf,\n",
        "    ncore=0, ncas=None, g2e_symm=8)\n",
        "\n",
        "driver = DMRGDriver(scratch=\"./tmp\", symm_type=SymmetryTypes.SU2, n_threads=4)\n",
        "driver.initialize_system(n_sites=ncas, n_elec=n_elec, spin=spin, orb_sym=orb_sym)\n",
        "\n",
        "impo = driver.get_identity_mpo()\n",
        "mpo = driver.get_qc_mpo(h1e=h1e, g2e=g2e, ecore=ecore, iprint=0)\n",
        "\n",
        "ket = driver.get_random_mps(tag=\"GS\", bond_dim=250, nroots=1)\n",
        "energy = driver.dmrg(mpo, ket, n_sweeps=20, bond_dims=bond_dims, noises=noises,\n",
        "    thrds=thrds, iprint=1)\n",
        "print('DMRG energy = %20.15f' % energy)\n",
        "\n",
        "print(driver.expectation(ket, impo, ket))\n",
        "print(driver.expectation(ket, mpo, ket) / driver.expectation(ket, impo, ket))\n",
        "zket = driver.mps_change_complex(ket, \"ZKET\")\n",
        "\n",
        "driver.symm_type = driver.symm_type ^ SymmetryTypes.CPX\n",
        "driver.initialize_system(n_sites=ncas, n_elec=n_elec, spin=spin, orb_sym=orb_sym)\n",
        "impo = driver.get_identity_mpo()\n",
        "mpo = driver.get_qc_mpo(h1e=h1e, g2e=g2e, ecore=ecore, integral_cutoff=1E-8, iprint=1)\n",
        "print(driver.expectation(zket, impo, zket))\n",
        "print(driver.expectation(zket, mpo, zket) / driver.expectation(zket, impo, zket))"
      ],
      "metadata": {
        "colab": {
          "base_uri": "https://localhost:8080/"
        },
        "id": "POXO7BS5TjuT",
        "outputId": "73ad27dd-0f5a-4c88-d55e-fba1c85b4416"
      },
      "execution_count": 26,
      "outputs": [
        {
          "output_type": "stream",
          "name": "stdout",
          "text": [
            "\n",
            "Sweep =    0 | Direction =  forward | Bond dimension =  250 | Noise =  1.00e-04 | Dav threshold =  1.00e-10\n",
            "Time elapsed =      0.804 | E =    -107.6541224475 | DW = 1.87e-10\n",
            "\n",
            "Sweep =    1 | Direction = backward | Bond dimension =  250 | Noise =  1.00e-04 | Dav threshold =  1.00e-10\n",
            "Time elapsed =      1.144 | E =    -107.6541224475 | DE = -3.95e-12 | DW = 4.49e-20\n",
            "\n",
            "Sweep =    2 | Direction =  forward | Bond dimension =  250 | Noise =  1.00e-04 | Dav threshold =  1.00e-10\n",
            "Time elapsed =      1.379 | E =    -107.6541224475 | DE = 0.00e+00 | DW = 1.87e-10\n",
            "\n",
            "Sweep =    3 | Direction = backward | Bond dimension =  250 | Noise =  1.00e-04 | Dav threshold =  1.00e-10\n",
            "Time elapsed =      1.601 | E =    -107.6541224475 | DE = -7.67e-13 | DW = 5.89e-20\n",
            "\n",
            "Sweep =    4 | Direction =  forward | Bond dimension =  500 | Noise =  1.00e-05 | Dav threshold =  1.00e-10\n",
            "Time elapsed =      1.868 | E =    -107.6541224475 | DE = -2.84e-14 | DW = 2.31e-20\n",
            "\n",
            "Sweep =    5 | Direction = backward | Bond dimension =  500 | Noise =  1.00e-05 | Dav threshold =  1.00e-10\n",
            "Time elapsed =      2.110 | E =    -107.6541224475 | DE = -2.84e-14 | DW = 6.59e-20\n",
            "\n",
            "Sweep =    6 | Direction =  forward | Bond dimension =  500 | Noise =  1.00e-05 | Dav threshold =  1.00e-10\n",
            "Time elapsed =      2.366 | E =    -107.6541224475 | DE = 0.00e+00 | DW = 8.80e-21\n",
            "\n",
            "Sweep =    7 | Direction = backward | Bond dimension =  500 | Noise =  1.00e-05 | Dav threshold =  1.00e-10\n",
            "Time elapsed =      2.606 | E =    -107.6541224475 | DE = -5.68e-14 | DW = 6.06e-20\n",
            "\n",
            "Sweep =    8 | Direction =  forward | Bond dimension =  500 | Noise =  0.00e+00 | Dav threshold =  1.00e-09\n",
            "Time elapsed =      2.780 | E =    -107.6541224475 | DE = 2.84e-14 | DW = 4.42e-20\n",
            "\n",
            "DMRG energy = -107.654122447524671\n",
            "1.0\n",
            "-107.65412244752456\n",
            "integral symmetrize error =  1.76819336753967e-14\n",
            "integral cutoff error =  0.0\n",
            "mpo terms =       1030\n",
            "\n",
            "Build MPO | Nsites =    10 | Nterms =       1030 | Algorithm = FastBIP | Cutoff = 1.00e-20\n",
            " Site =     0 /    10 .. Mmpo =    13 DW = 0.00e+00 NNZ =       13 SPT = 0.0000 Tmvc = 0.001 T = 0.007\n",
            " Site =     1 /    10 .. Mmpo =    34 DW = 0.00e+00 NNZ =       63 SPT = 0.8575 Tmvc = 0.001 T = 0.005\n",
            " Site =     2 /    10 .. Mmpo =    56 DW = 0.00e+00 NNZ =      121 SPT = 0.9364 Tmvc = 0.000 T = 0.006\n",
            " Site =     3 /    10 .. Mmpo =    74 DW = 0.00e+00 NNZ =      373 SPT = 0.9100 Tmvc = 0.000 T = 0.006\n",
            " Site =     4 /    10 .. Mmpo =    80 DW = 0.00e+00 NNZ =      269 SPT = 0.9546 Tmvc = 0.000 T = 0.007\n",
            " Site =     5 /    10 .. Mmpo =    94 DW = 0.00e+00 NNZ =      169 SPT = 0.9775 Tmvc = 0.000 T = 0.005\n",
            " Site =     6 /    10 .. Mmpo =    54 DW = 0.00e+00 NNZ =      181 SPT = 0.9643 Tmvc = 0.000 T = 0.008\n",
            " Site =     7 /    10 .. Mmpo =    30 DW = 0.00e+00 NNZ =       73 SPT = 0.9549 Tmvc = 0.000 T = 0.003\n",
            " Site =     8 /    10 .. Mmpo =    14 DW = 0.00e+00 NNZ =       41 SPT = 0.9024 Tmvc = 0.000 T = 0.004\n",
            " Site =     9 /    10 .. Mmpo =     1 DW = 0.00e+00 NNZ =       14 SPT = 0.0000 Tmvc = 0.000 T = 0.002\n",
            "Ttotal =      0.054 Tmvc-total = 0.003 MPO bond dimension =    94 MaxDW = 0.00e+00\n",
            "NNZ =         1317 SIZE =        27073 SPT = 0.9514\n",
            "\n",
            "Rank =     0 Ttotal =      0.108 MPO method = FastBipartite bond dimension =      94 NNZ =         1317 SIZE =        27073 SPT = 0.9514\n",
            "(0.9999999999999999+0j)\n",
            "(-107.65412244752457+0j)\n"
          ]
        }
      ]
    },
    {
      "cell_type": "markdown",
      "source": [
        "From complex to real:"
      ],
      "metadata": {
        "id": "8lXIUcWqUYvQ"
      }
    },
    {
      "cell_type": "code",
      "source": [
        "from pyscf import gto, scf\n",
        "\n",
        "mol = gto.M(atom=\"N 0 0 0; N 0 0 1.1\", basis=\"sto3g\", symmetry=\"d2h\", verbose=0)\n",
        "mf = scf.RHF(mol).run(conv_tol=1E-14)\n",
        "ncas, n_elec, spin, ecore, h1e, g2e, orb_sym = itg.get_rhf_integrals(mf,\n",
        "    ncore=0, ncas=None, g2e_symm=8)\n",
        "\n",
        "driver = DMRGDriver(scratch=\"./tmp\", symm_type=SymmetryTypes.SU2 | SymmetryTypes.CPX, n_threads=4)\n",
        "driver.initialize_system(n_sites=ncas, n_elec=n_elec, spin=spin, orb_sym=orb_sym)\n",
        "\n",
        "impo = driver.get_identity_mpo()\n",
        "mpo = driver.get_qc_mpo(h1e=h1e, g2e=g2e, ecore=ecore, iprint=0)\n",
        "\n",
        "ket = driver.get_random_mps(tag=\"GS\", bond_dim=250, nroots=1)\n",
        "energy = driver.dmrg(mpo, ket, n_sweeps=20, bond_dims=bond_dims, noises=noises,\n",
        "    thrds=thrds, iprint=1)\n",
        "print('DMRG energy = %20.15f' % energy)\n",
        "\n",
        "print(driver.expectation(ket, impo, ket))\n",
        "print(driver.expectation(ket, mpo, ket) / driver.expectation(ket, impo, ket))\n",
        "rket = driver.mps_change_complex(ket, \"rket\")\n",
        "\n",
        "driver.symm_type = driver.symm_type ^ SymmetryTypes.CPX\n",
        "driver.initialize_system(n_sites=ncas, n_elec=n_elec, spin=spin, orb_sym=orb_sym)\n",
        "impo = driver.get_identity_mpo()\n",
        "mpo = driver.get_qc_mpo(h1e=h1e, g2e=g2e, ecore=ecore, integral_cutoff=1E-8, iprint=1)\n",
        "print(driver.expectation(rket, impo, rket))\n",
        "print(driver.expectation(rket, mpo, rket) / driver.expectation(rket, impo, rket))"
      ],
      "metadata": {
        "colab": {
          "base_uri": "https://localhost:8080/"
        },
        "id": "J5F8UhOzUaoQ",
        "outputId": "3d4f9f89-6402-43da-b44b-3979ea522ffa"
      },
      "execution_count": 27,
      "outputs": [
        {
          "output_type": "stream",
          "name": "stdout",
          "text": [
            "\n",
            "Sweep =    0 | Direction =  forward | Bond dimension =  250 | Noise =  1.00e-04 | Dav threshold =  1.00e-10\n",
            "Time elapsed =      1.189 | E =    -107.6541224475 | DW = 1.87e-10\n",
            "\n",
            "Sweep =    1 | Direction = backward | Bond dimension =  250 | Noise =  1.00e-04 | Dav threshold =  1.00e-10\n",
            "Time elapsed =      2.240 | E =    -107.6541224475 | DE = -1.41e-11 | DW = 2.95e-19\n",
            "\n",
            "Sweep =    2 | Direction =  forward | Bond dimension =  250 | Noise =  1.00e-04 | Dav threshold =  1.00e-10\n",
            "Time elapsed =      3.105 | E =    -107.6541224475 | DE = -2.84e-14 | DW = 1.87e-10\n",
            "\n",
            "Sweep =    3 | Direction = backward | Bond dimension =  250 | Noise =  1.00e-04 | Dav threshold =  1.00e-10\n",
            "Time elapsed =      3.655 | E =    -107.6541224475 | DE = -2.05e-12 | DW = 1.13e-19\n",
            "\n",
            "Sweep =    4 | Direction =  forward | Bond dimension =  500 | Noise =  1.00e-05 | Dav threshold =  1.00e-10\n",
            "Time elapsed =      4.299 | E =    -107.6541224475 | DE = 0.00e+00 | DW = 1.31e-19\n",
            "\n",
            "Sweep =    5 | Direction = backward | Bond dimension =  500 | Noise =  1.00e-05 | Dav threshold =  1.00e-10\n",
            "Time elapsed =      4.784 | E =    -107.6541224475 | DE = -2.84e-14 | DW = 1.06e-19\n",
            "\n",
            "Sweep =    6 | Direction =  forward | Bond dimension =  500 | Noise =  1.00e-05 | Dav threshold =  1.00e-10\n",
            "Time elapsed =      5.305 | E =    -107.6541224475 | DE = 5.68e-14 | DW = 1.24e-19\n",
            "\n",
            "Sweep =    7 | Direction = backward | Bond dimension =  500 | Noise =  1.00e-05 | Dav threshold =  1.00e-10\n",
            "Time elapsed =      5.770 | E =    -107.6541224475 | DE = -5.68e-14 | DW = 1.04e-19\n",
            "\n",
            "Sweep =    8 | Direction =  forward | Bond dimension =  500 | Noise =  0.00e+00 | Dav threshold =  1.00e-09\n",
            "Time elapsed =      6.086 | E =    -107.6541224475 | DE = 0.00e+00 | DW = 4.25e-20\n",
            "\n",
            "DMRG energy = -107.654122447523960\n",
            "(1.0000000000000002-7.905175135209388e-18j)\n",
            "(-107.6541224475238-8.610748230937272e-16j)\n",
            "integral symmetrize error =  1.6922854083945986e-14\n",
            "integral cutoff error =  0.0\n",
            "mpo terms =       1030\n",
            "\n",
            "Build MPO | Nsites =    10 | Nterms =       1030 | Algorithm = FastBIP | Cutoff = 1.00e-20\n",
            " Site =     0 /    10 .. Mmpo =    13 DW = 0.00e+00 NNZ =       13 SPT = 0.0000 Tmvc = 0.000 T = 0.004\n",
            " Site =     1 /    10 .. Mmpo =    34 DW = 0.00e+00 NNZ =       63 SPT = 0.8575 Tmvc = 0.001 T = 0.004\n",
            " Site =     2 /    10 .. Mmpo =    56 DW = 0.00e+00 NNZ =      121 SPT = 0.9364 Tmvc = 0.000 T = 0.004\n",
            " Site =     3 /    10 .. Mmpo =    74 DW = 0.00e+00 NNZ =      373 SPT = 0.9100 Tmvc = 0.000 T = 0.005\n",
            " Site =     4 /    10 .. Mmpo =    80 DW = 0.00e+00 NNZ =      269 SPT = 0.9546 Tmvc = 0.000 T = 0.004\n",
            " Site =     5 /    10 .. Mmpo =    94 DW = 0.00e+00 NNZ =      169 SPT = 0.9775 Tmvc = 0.000 T = 0.004\n",
            " Site =     6 /    10 .. Mmpo =    54 DW = 0.00e+00 NNZ =      181 SPT = 0.9643 Tmvc = 0.000 T = 0.003\n",
            " Site =     7 /    10 .. Mmpo =    30 DW = 0.00e+00 NNZ =       73 SPT = 0.9549 Tmvc = 0.000 T = 0.003\n",
            " Site =     8 /    10 .. Mmpo =    14 DW = 0.00e+00 NNZ =       41 SPT = 0.9024 Tmvc = 0.000 T = 0.002\n",
            " Site =     9 /    10 .. Mmpo =     1 DW = 0.00e+00 NNZ =       14 SPT = 0.0000 Tmvc = 0.000 T = 0.002\n",
            "Ttotal =      0.036 Tmvc-total = 0.003 MPO bond dimension =    94 MaxDW = 0.00e+00\n",
            "NNZ =         1317 SIZE =        27073 SPT = 0.9514\n",
            "\n",
            "Rank =     0 Ttotal =      0.064 MPO method = FastBipartite bond dimension =      94 NNZ =         1317 SIZE =        27073 SPT = 0.9514\n",
            "0.9626534962131837\n",
            "-107.65412244752437\n"
          ]
        }
      ]
    },
    {
      "cell_type": "markdown",
      "source": [
        "## MPS Bipartite Entanglement\n",
        "\n",
        "We can get the the bipartite entanglement $S_k=-\\sum_i \\Lambda_k^2 \\log \\Lambda_k^2$ at each virtual bond (at site $k$) in MPS in the ``SZ`` mode, where $\\Lambda_k$ are singular values in the bond at site $k$."
      ],
      "metadata": {
        "id": "HL8LI5zk0B4V"
      }
    },
    {
      "cell_type": "code",
      "source": [
        "from pyscf import gto, scf\n",
        "\n",
        "mol = gto.M(atom=\"N 0 0 0; N 0 0 1.1\", basis=\"sto3g\", symmetry=\"d2h\", verbose=0)\n",
        "mf = scf.RHF(mol).run(conv_tol=1E-14)\n",
        "ncas, n_elec, spin, ecore, h1e, g2e, orb_sym = itg.get_rhf_integrals(mf,\n",
        "    ncore=0, ncas=None, g2e_symm=8)\n",
        "\n",
        "driver = DMRGDriver(scratch=\"./tmp\", symm_type=SymmetryTypes.SZ, n_threads=4)\n",
        "driver.initialize_system(n_sites=ncas, n_elec=n_elec, spin=spin, orb_sym=orb_sym)\n",
        "\n",
        "mpo = driver.get_qc_mpo(h1e=h1e, g2e=g2e, ecore=ecore, iprint=0)\n",
        "\n",
        "ket = driver.get_random_mps(tag=\"GS\", bond_dim=250, nroots=1)\n",
        "energy = driver.dmrg(mpo, ket, n_sweeps=20, bond_dims=bond_dims, noises=noises,\n",
        "    thrds=thrds, iprint=1)\n",
        "print('DMRG energy = %20.15f' % energy)\n",
        "\n",
        "bip_ent = driver.get_bipartite_entanglement()\n",
        "\n",
        "import matplotlib.pyplot as plt\n",
        "plt.plot(np.arange(len(bip_ent)), bip_ent, linestyle='-', marker='o',\n",
        "    mfc='white', mec=\"#7FB685\", color=\"#7FB685\")\n",
        "plt.xlabel(\"site index $k$\")\n",
        "plt.ylabel(\"bipartite entanglement $S_k$\")\n",
        "plt.show()"
      ],
      "metadata": {
        "colab": {
          "base_uri": "https://localhost:8080/",
          "height": 968
        },
        "id": "sk-lJfw0zBlV",
        "outputId": "a9d54b06-209d-4b59-fcb8-a4437be9090b"
      },
      "execution_count": 28,
      "outputs": [
        {
          "output_type": "stream",
          "name": "stdout",
          "text": [
            "\n",
            "Sweep =    0 | Direction =  forward | Bond dimension =  250 | Noise =  1.00e-04 | Dav threshold =  1.00e-10\n",
            "Time elapsed =      0.769 | E =    -107.6541224475 | DW = 4.14e-08\n",
            "\n",
            "Sweep =    1 | Direction = backward | Bond dimension =  250 | Noise =  1.00e-04 | Dav threshold =  1.00e-10\n",
            "Time elapsed =      1.254 | E =    -107.6541224475 | DE = -1.43e-11 | DW = 5.08e-09\n",
            "\n",
            "Sweep =    2 | Direction =  forward | Bond dimension =  250 | Noise =  1.00e-04 | Dav threshold =  1.00e-10\n",
            "Time elapsed =      1.670 | E =    -107.6541224475 | DE = -5.12e-13 | DW = 4.14e-08\n",
            "\n",
            "Sweep =    3 | Direction = backward | Bond dimension =  250 | Noise =  1.00e-04 | Dav threshold =  1.00e-10\n",
            "Time elapsed =      2.130 | E =    -107.6541224475 | DE = 1.31e-12 | DW = 5.21e-09\n",
            "\n",
            "Sweep =    4 | Direction =  forward | Bond dimension =  500 | Noise =  1.00e-05 | Dav threshold =  1.00e-10\n",
            "Time elapsed =      2.655 | E =    -107.6541224475 | DE = -1.14e-12 | DW = 3.60e-11\n",
            "\n",
            "Sweep =    5 | Direction = backward | Bond dimension =  500 | Noise =  1.00e-05 | Dav threshold =  1.00e-10\n",
            "Time elapsed =      3.189 | E =    -107.6541224475 | DE = 9.38e-13 | DW = 1.75e-19\n",
            "\n",
            "Sweep =    6 | Direction =  forward | Bond dimension =  500 | Noise =  1.00e-05 | Dav threshold =  1.00e-10\n",
            "Time elapsed =      3.722 | E =    -107.6541224475 | DE = 2.84e-14 | DW = 3.60e-11\n",
            "\n",
            "Sweep =    7 | Direction = backward | Bond dimension =  500 | Noise =  1.00e-05 | Dav threshold =  1.00e-10\n",
            "Time elapsed =      4.245 | E =    -107.6541224475 | DE = -1.22e-12 | DW = 1.54e-19\n",
            "\n",
            "Sweep =    8 | Direction =  forward | Bond dimension =  500 | Noise =  0.00e+00 | Dav threshold =  1.00e-09\n",
            "Time elapsed =      4.595 | E =    -107.6541224475 | DE = 2.84e-14 | DW = 7.71e-20\n",
            "\n",
            "DMRG energy = -107.654122447524443\n"
          ]
        },
        {
          "output_type": "display_data",
          "data": {
            "text/plain": [
              "<Figure size 640x480 with 1 Axes>"
            ],
            "image/png": "[encoded data removed]"
          },
          "metadata": {}
        }
      ]
    },
    {
      "cell_type": "markdown",
      "source": [
        "## Orbital Entropy and Mutual Information\n",
        "\n",
        "For the optimized MPS in the ``SZ`` mode, we can compute the 1- and 2- orbital density matrices and mutual information for pairs of orbitals."
      ],
      "metadata": {
        "id": "G31uZ79j2jgo"
      }
    },
    {
      "cell_type": "code",
      "source": [
        "odm1 = driver.get_orbital_entropies(ket, orb_type=1)\n",
        "odm2 = driver.get_orbital_entropies(ket, orb_type=2)\n",
        "minfo = 0.5 * (odm1[:, None] + odm1[None, :] - odm2) * (1 - np.identity(len(odm1)))\n",
        "\n",
        "import matplotlib.pyplot as plt\n",
        "plt.matshow(minfo)"
      ],
      "metadata": {
        "colab": {
          "base_uri": "https://localhost:8080/",
          "height": 455
        },
        "id": "I9tuVN4o2auM",
        "outputId": "d990c72a-2b88-4cc6-92fd-39f1d85f4e4d"
      },
      "execution_count": 29,
      "outputs": [
        {
          "output_type": "execute_result",
          "data": {
            "text/plain": [
              "<matplotlib.image.AxesImage at 0x7d0b6521bd30>"
            ]
          },
          "metadata": {},
          "execution_count": 29
        },
        {
          "output_type": "display_data",
          "data": {
            "text/plain": [
              "<Figure size 480x480 with 1 Axes>"
            ],
            "image/png": "[encoded data removed]"
          },
          "metadata": {}
        }
      ]
    },
    {
      "cell_type": "markdown",
      "source": [
        "## Excited States\n",
        "\n",
        "To obtain the excited states and their energies, we can perform DMRG for a state-averged MPS, optionally followed by a state-specific refinement."
      ],
      "metadata": {
        "id": "reC2RWqDOihl"
      }
    },
    {
      "cell_type": "code",
      "source": [
        "from pyscf import gto, scf\n",
        "\n",
        "mol = gto.M(atom=\"N 0 0 0; N 0 0 1.1\", basis=\"sto3g\", symmetry=\"d2h\", verbose=0)\n",
        "mf = scf.RHF(mol).run(conv_tol=1E-14)\n",
        "ncas, n_elec, spin, ecore, h1e, g2e, orb_sym = itg.get_rhf_integrals(mf,\n",
        "    ncore=0, ncas=None, g2e_symm=8)\n",
        "\n",
        "driver = DMRGDriver(scratch=\"./tmp\", symm_type=SymmetryTypes.SZ, n_threads=4)\n",
        "driver.initialize_system(n_sites=ncas, n_elec=n_elec, spin=spin, orb_sym=orb_sym)\n",
        "\n",
        "mpo = driver.get_qc_mpo(h1e=h1e, g2e=g2e, ecore=ecore, iprint=0)\n",
        "\n",
        "ket = driver.get_random_mps(tag=\"KET\", bond_dim=100, nroots=3)\n",
        "energies = driver.dmrg(mpo, ket, n_sweeps=10, bond_dims=[100], noises=[1e-5] * 4 + [0],\n",
        "    thrds=[1e-10] * 8, iprint=1)\n",
        "print('State-averaged MPS energies = [%s]' % \" \".join(\"%20.15f\" % x for x in energies))\n",
        "\n",
        "kets = [driver.split_mps(ket, ir, tag=\"KET-%d\" % ir) for ir in range(ket.nroots)]\n",
        "for ir in range(ket.nroots):\n",
        "    energy = driver.dmrg(mpo, kets[ir], n_sweeps=10, bond_dims=[200], noises=[1e-5] * 4 + [0],\n",
        "        thrds=[1e-10] * 8, iprint=0, proj_weights=[5.0] * ir, proj_mpss=kets[:ir])\n",
        "    print('State-specific MPS E[%d] = %20.15f' % (ir, energy))"
      ],
      "metadata": {
        "id": "A2BXFBnJ3baF",
        "colab": {
          "base_uri": "https://localhost:8080/"
        },
        "outputId": "afe6a20f-eb6c-4c6e-ec50-05466717c8be"
      },
      "execution_count": 30,
      "outputs": [
        {
          "output_type": "stream",
          "name": "stdout",
          "text": [
            "\n",
            "Sweep =    0 | Direction =  forward | Bond dimension =  100 | Noise =  1.00e-05 | Dav threshold =  1.00e-10\n",
            "Time elapsed =      2.037 | E[  3] =    -107.6541193407   -107.0314407783   -106.9595996333 | DW = 8.51e-05\n",
            "\n",
            "Sweep =    1 | Direction = backward | Bond dimension =  100 | Noise =  1.00e-05 | Dav threshold =  1.00e-10\n",
            "Time elapsed =      3.220 | E[  3] =    -107.6541193407   -107.0314407783   -106.9595996332 | DE = 7.11e-12 | DW = 1.62e-04\n",
            "\n",
            "Sweep =    2 | Direction =  forward | Bond dimension =  100 | Noise =  1.00e-05 | Dav threshold =  1.00e-10\n",
            "Time elapsed =      4.616 | E[  3] =    -107.6541138874   -107.0314486179   -106.9594564026 | DE = 1.43e-04 | DW = 7.20e-05\n",
            "\n",
            "Sweep =    3 | Direction = backward | Bond dimension =  100 | Noise =  1.00e-05 | Dav threshold =  1.00e-10\n",
            "Time elapsed =      5.853 | E[  3] =    -107.6541138874   -107.0314486178   -106.9594564026 | DE = -3.97e-11 | DW = 1.47e-04\n",
            "\n",
            "Sweep =    4 | Direction =  forward | Bond dimension =  100 | Noise =  0.00e+00 | Dav threshold =  1.00e-10\n",
            "Time elapsed =      6.621 | E[  3] =    -107.6540972369   -107.0314487271   -106.9594391421 | DE = 1.73e-05 | DW = 6.81e-05\n",
            "\n",
            "Sweep =    5 | Direction = backward | Bond dimension =  100 | Noise =  0.00e+00 | Dav threshold =  1.00e-10\n",
            "Time elapsed =      7.410 | E[  3] =    -107.6540972369   -107.0314487271   -106.9594391422 | DE = -1.72e-11 | DW = 1.43e-04\n",
            "\n",
            "State-averaged MPS energies = [-107.654097236905088 -107.031448727142006 -106.959439142163390]\n",
            "State-specific MPS E[0] = -107.654122447496988\n",
            "State-specific MPS E[1] = -107.031449471612873\n",
            "State-specific MPS E[2] = -106.959626154678844\n"
          ]
        }
      ]
    }
  ]
}