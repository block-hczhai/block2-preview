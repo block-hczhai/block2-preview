{
 "cells": [
  {
   "cell_type": "code",
   "execution_count": null,
   "metadata": {},
   "outputs": [],
   "source": [
    "# install block2 and renormalizer using pip"
   ]
  },
  {
   "cell_type": "markdown",
   "metadata": {},
   "source": [
    "Sometimes one may need to handle the overlap between a good DMRG solution from blaock2 and some external dense MPS, eg. Gaussian MPS that is useful for quantum information science or in [QMC calculations](https://arxiv.org/abs/2405.05440), or MPS from other DMRG codes, eg. [Renormalizer](https://github.com/shuaigroup/Renormalizer)"
   ]
  },
  {
   "cell_type": "code",
   "execution_count": 79,
   "metadata": {},
   "outputs": [
    {
     "name": "stdout",
     "output_type": "stream",
     "text": [
      "Parsing /tmp/tmptyyl7mo6\n",
      "integral symmetrize error =  0.0\n",
      "integral cutoff error =  0.0\n",
      "mpo terms =       2286\n",
      "\n",
      "Build MPO | Nsites =     6 | Nterms =       2286 | Algorithm = FastBIP | Cutoff = 1.00e-20\n",
      " Site =     0 /     6 .. Mmpo =    26 DW = 0.00e+00 NNZ =       26 SPT = 0.0000 Tmvc = 0.000 T = 0.002\n",
      " Site =     1 /     6 .. Mmpo =    66 DW = 0.00e+00 NNZ =      243 SPT = 0.8584 Tmvc = 0.000 T = 0.002\n",
      " Site =     2 /     6 .. Mmpo =   110 DW = 0.00e+00 NNZ =      459 SPT = 0.9368 Tmvc = 0.000 T = 0.003\n",
      " Site =     3 /     6 .. Mmpo =    66 DW = 0.00e+00 NNZ =     1147 SPT = 0.8420 Tmvc = 0.000 T = 0.003\n",
      " Site =     4 /     6 .. Mmpo =    26 DW = 0.00e+00 NNZ =      243 SPT = 0.8584 Tmvc = 0.000 T = 0.001\n",
      " Site =     5 /     6 .. Mmpo =     1 DW = 0.00e+00 NNZ =       26 SPT = 0.0000 Tmvc = 0.000 T = 0.001\n",
      "Ttotal =      0.012 Tmvc-total = 0.002 MPO bond dimension =   110 MaxDW = 0.00e+00\n",
      "NNZ =         2144 SIZE =        18004 SPT = 0.8809\n",
      "\n",
      "Rank =     0 Ttotal =      0.025 MPO method = FastBipartite bond dimension =     110 NNZ =         2144 SIZE =        18004 SPT = 0.8809\n",
      "\n",
      "Sweep =    0 | Direction =  forward | Bond dimension =   20 | Noise =  1.00e-04 | Dav threshold =  1.00e-10\n",
      "Time elapsed =      0.112 | E =      -2.9576460853 | DW = 6.66576e-05\n",
      "\n",
      "Sweep =    1 | Direction = backward | Bond dimension =   20 | Noise =  1.00e-04 | Dav threshold =  1.00e-10\n",
      "Time elapsed =      0.233 | E =      -2.9576460853 | DE = 2.66e-11 | DW = 5.92243e-05\n",
      "\n",
      "Sweep =    2 | Direction =  forward | Bond dimension =   20 | Noise =  1.00e-04 | Dav threshold =  1.00e-10\n",
      "Time elapsed =      0.333 | E =      -2.9576460853 | DE = -4.21e-11 | DW = 6.66526e-05\n",
      "\n",
      "Sweep =    3 | Direction = backward | Bond dimension =   20 | Noise =  1.00e-04 | Dav threshold =  1.00e-10\n",
      "Time elapsed =      0.435 | E =      -2.9576460853 | DE = -2.54e-12 | DW = 5.92239e-05\n",
      "\n",
      "Sweep =    4 | Direction =  forward | Bond dimension =   30 | Noise =  1.00e-05 | Dav threshold =  1.00e-10\n",
      "Time elapsed =      0.532 | E =      -2.9576460853 | DE = 2.38e-12 | DW = 5.02379e-06\n",
      "\n",
      "Sweep =    5 | Direction = backward | Bond dimension =   30 | Noise =  1.00e-05 | Dav threshold =  1.00e-10\n",
      "Time elapsed =      0.633 | E =      -2.9576460853 | DE = -3.69e-11 | DW = 2.73774e-06\n",
      "\n",
      "Sweep =    6 | Direction =  forward | Bond dimension =   30 | Noise =  1.00e-05 | Dav threshold =  1.00e-10\n",
      "Time elapsed =      0.728 | E =      -2.9576460853 | DE = -1.95e-11 | DW = 5.02112e-06\n",
      "\n",
      "Sweep =    7 | Direction = backward | Bond dimension =   30 | Noise =  1.00e-05 | Dav threshold =  1.00e-10\n",
      "Time elapsed =      0.823 | E =      -2.9576460853 | DE = 1.93e-11 | DW = 2.73775e-06\n",
      "\n",
      "Sweep =    8 | Direction =  forward | Bond dimension =   30 | Noise =  0.00e+00 | Dav threshold =  1.00e-09\n",
      "Time elapsed =      0.917 | E =      -2.9576460852 | DE = 1.66e-10 | DW = 1.91390e-06\n",
      "\n",
      "DMRG calculation with Sz symmetry finished, energies: -2.9576460851637285\n"
     ]
    }
   ],
   "source": [
    "import numpy as np\n",
    "from pyblock2._pyscf.ao2mo import integrals as itg\n",
    "from pyblock2.driver.core import DMRGDriver, SymmetryTypes\n",
    "from pyblock2.algebra.io import MPSTools\n",
    "from pyblock2.algebra.core import SubTensor, Tensor\n",
    "import numpy\n",
    "\n",
    "bond_dims = [20] * 4 + [30] * 4\n",
    "noises = [1e-4] * 4 + [1e-5] * 4 + [0]\n",
    "thrds = [1e-10] * 8\n",
    "\n",
    "from pyscf import gto, tools, lo\n",
    "import tempfile\n",
    "from pyscf.tools.fcidump import read\n",
    "read_fcidump = read\n",
    "r0 = 3.0\n",
    "mol = gto.M(atom=f'H 0 0 0; H 0 0 {r0}; H 0 0 {r0*2}; H 0 0 {r0*3}; H 0 0 {r0*4}; H 0 0 {r0*5}', basis='sto-3g', unit='Bohr')\n",
    "mol.build()\n",
    "norb = mol.nao\n",
    "S = mol.intor(\"int1e_ovlp_sph\")\n",
    "ao_coeff = lo.orth.lowdin(S)\n",
    "ftmp = tempfile.NamedTemporaryFile()\n",
    "tools.fcidump.from_mo(mol, ftmp.name, ao_coeff)\n",
    "intg = read_fcidump(ftmp.name, norb)\n",
    "h1e = intg['H1']\n",
    "h2e = intg['H2']\n",
    "ecore = intg['ECORE']\n",
    "\n",
    "nelec = sum(mol.nelec)\n",
    "spin = 0\n",
    "\n",
    "# Run DMRG calculation with Sz symmetry\n",
    "driver = DMRGDriver(scratch=\"./tmp\", symm_type=SymmetryTypes.SZ)\n",
    "driver.initialize_system(n_sites=norb, n_elec=nelec, spin=spin)\n",
    "mpo = driver.get_qc_mpo(h1e=h1e, g2e=h2e, ecore=ecore, iprint=1)\n",
    "zket = driver.get_random_mps(tag=\"KETSZ\", bond_dim=20, nroots=1)\n",
    "energies = driver.dmrg(mpo, zket, n_sweeps=20, bond_dims=bond_dims, noises=noises, thrds=thrds, iprint=1)\n",
    "zket = driver.adjust_mps(zket, dot=1)[0]\n",
    "driver.align_mps_center(zket, ref=0)\n",
    "print('DMRG calculation with Sz symmetry finished, energies:', energies)\n",
    "\n",
    "# this will be used to fill the external MPS's tensors\n",
    "pyzket = MPSTools.from_block2(zket)"
   ]
  },
  {
   "cell_type": "markdown",
   "metadata": {},
   "source": [
    "here we also run a DMRG calculation with SU2 symmetry, and later we also compute its overlap calculation with the external MPS's tensors"
   ]
  },
  {
   "cell_type": "code",
   "execution_count": 80,
   "metadata": {},
   "outputs": [
    {
     "name": "stdout",
     "output_type": "stream",
     "text": [
      "integral symmetrize error =  0.0\n",
      "integral cutoff error =  0.0\n",
      "mpo terms =        863\n",
      "\n",
      "Build MPO | Nsites =     6 | Nterms =        863 | Algorithm = FastBIP | Cutoff = 1.00e-20\n",
      " Site =     0 /     6 .. Mmpo =    13 DW = 0.00e+00 NNZ =       13 SPT = 0.0000 Tmvc = 0.000 T = 0.002\n",
      " Site =     1 /     6 .. Mmpo =    34 DW = 0.00e+00 NNZ =       96 SPT = 0.7828 Tmvc = 0.000 T = 0.002\n",
      " Site =     2 /     6 .. Mmpo =    56 DW = 0.00e+00 NNZ =      180 SPT = 0.9055 Tmvc = 0.000 T = 0.002\n",
      " Site =     3 /     6 .. Mmpo =    34 DW = 0.00e+00 NNZ =      406 SPT = 0.7868 Tmvc = 0.000 T = 0.002\n",
      " Site =     4 /     6 .. Mmpo =    14 DW = 0.00e+00 NNZ =       99 SPT = 0.7920 Tmvc = 0.000 T = 0.001\n",
      " Site =     5 /     6 .. Mmpo =     1 DW = 0.00e+00 NNZ =       14 SPT = 0.0000 Tmvc = 0.000 T = 0.001\n"
     ]
    },
    {
     "name": "stdout",
     "output_type": "stream",
     "text": [
      "Ttotal =      0.009 Tmvc-total = 0.001 MPO bond dimension =    56 MaxDW = 0.00e+00\n",
      "NNZ =          808 SIZE =         4753 SPT = 0.8300\n",
      "\n",
      "Rank =     0 Ttotal =      0.016 MPO method = FastBipartite bond dimension =      56 NNZ =          808 SIZE =         4753 SPT = 0.8300\n",
      "\n",
      "Sweep =    0 | Direction =  forward | Bond dimension =   20 | Noise =  1.00e-04 | Dav threshold =  1.00e-10\n",
      "Time elapsed =      0.098 | E =      -2.9576460854 | DW = 1.81841e-06\n",
      "\n",
      "Sweep =    1 | Direction = backward | Bond dimension =   20 | Noise =  1.00e-04 | Dav threshold =  1.00e-10\n",
      "Time elapsed =      0.188 | E =      -2.9576460854 | DE = 8.52e-12 | DW = 9.59940e-07\n",
      "\n",
      "Sweep =    2 | Direction =  forward | Bond dimension =   20 | Noise =  1.00e-04 | Dav threshold =  1.00e-10\n",
      "Time elapsed =      0.285 | E =      -2.9576460854 | DE = -3.08e-12 | DW = 1.81905e-06\n",
      "\n",
      "Sweep =    3 | Direction = backward | Bond dimension =   20 | Noise =  1.00e-04 | Dav threshold =  1.00e-10\n",
      "Time elapsed =      0.374 | E =      -2.9576460854 | DE = 4.27e-12 | DW = 9.60002e-07\n",
      "\n",
      "Sweep =    4 | Direction =  forward | Bond dimension =   30 | Noise =  1.00e-05 | Dav threshold =  1.00e-10\n",
      "Time elapsed =      0.476 | E =      -2.9576460854 | DE = -4.28e-12 | DW = 4.15116e-09\n",
      "\n",
      "Sweep =    5 | Direction = backward | Bond dimension =   30 | Noise =  1.00e-05 | Dav threshold =  1.00e-10\n",
      "Time elapsed =      0.576 | E =      -2.9576460854 | DE = -3.61e-12 | DW = 7.70782e-10\n",
      "\n",
      "Sweep =    6 | Direction =  forward | Bond dimension =   30 | Noise =  1.00e-05 | Dav threshold =  1.00e-10\n",
      "Time elapsed =      0.668 | E =      -2.9576460854 | DE = -4.10e-12 | DW = 4.13558e-09\n",
      "\n",
      "Sweep =    7 | Direction = backward | Bond dimension =   30 | Noise =  1.00e-05 | Dav threshold =  1.00e-10\n",
      "Time elapsed =      0.766 | E =      -2.9576460854 | DE = 1.89e-12 | DW = 7.70814e-10\n",
      "\n",
      "Sweep =    8 | Direction =  forward | Bond dimension =   30 | Noise =  0.00e+00 | Dav threshold =  1.00e-09\n",
      "Time elapsed =      0.854 | E =      -2.9576460851 | DE = 2.61e-10 | DW = 2.12114e-17\n",
      "\n",
      "DMRG calculation with SU2 symmetry finished, energies: -2.9576460851010267\n"
     ]
    }
   ],
   "source": [
    "# Run DMRG calculation with SU2 symmetry\n",
    "driver_SU2 = DMRGDriver(scratch=\"./tmp\", symm_type=SymmetryTypes.SU2)\n",
    "driver_SU2.initialize_system(n_sites=norb, n_elec=nelec, spin=spin)\n",
    "mpo = driver_SU2.get_qc_mpo(h1e=h1e, g2e=h2e, ecore=ecore, iprint=1)\n",
    "ket = driver_SU2.get_random_mps(tag=\"KETSU2\", bond_dim=20, nroots=1)\n",
    "energies = driver_SU2.dmrg(mpo, ket, n_sweeps=20, bond_dims=bond_dims, noises=noises, thrds=thrds, iprint=1)\n",
    "ket = driver_SU2.adjust_mps(ket, dot=1)[0]\n",
    "driver_SU2.align_mps_center(ket, ref=0)\n",
    "print('DMRG calculation with SU2 symmetry finished, energies:', energies)"
   ]
  },
  {
   "cell_type": "markdown",
   "metadata": {},
   "source": [
    "As mentioned, Renormalizer runs DMRG with Sz symmetry by default, and the MPS object is a dense MPS. So below we obtain such an MPS object from Renormalizer calculations as an example.\n"
   ]
  },
  {
   "cell_type": "code",
   "execution_count": 81,
   "metadata": {},
   "outputs": [
    {
     "name": "stderr",
     "output_type": "stream",
     "text": [
      "2025-06-13 20:58:23,638[INFO] nuclear repulsion: 2.899999999999999\n",
      "2025-06-13 20:58:23,639[INFO] spin norbs: 12\n"
     ]
    },
    {
     "name": "stderr",
     "output_type": "stream",
     "text": [
      "2025-06-13 20:58:24,462[DEBUG] # of operator terms: 1818\n",
      "2025-06-13 20:58:24,463[DEBUG] symbolic mpo algorithm: Hopcroft-Karp\n",
      "2025-06-13 20:58:24,463[DEBUG] Input operator terms: 1818\n",
      "2025-06-13 20:58:24,711[DEBUG] After combination of the same terms: 1818\n",
      "2025-06-13 20:58:24,947[INFO] mpo_bond_dims:[1, 4, 16, 39, 54, 71, 92, 71, 54, 39, 16, 4, 1]\n",
      "2025-06-13 20:58:24,977[INFO] optimization method: 2site\n",
      "2025-06-13 20:58:24,977[INFO] e_rtol: 1e-06\n",
      "2025-06-13 20:58:24,978[INFO] e_atol: 1e-08\n",
      "2025-06-13 20:58:24,978[INFO] procedure: [[30, 0.4], [30, 0.2], [30, 0.1], [30, 0], [30, 0], [30, 0], [30, 0]]\n",
      "2025-06-13 20:58:24,996[DEBUG] isweep: 0\n",
      "2025-06-13 20:58:24,996[DEBUG] compress config in current loop: 30, percent: 0.4\n",
      "2025-06-13 20:58:24,997[DEBUG] mps current size: 39.8KiB, Matrix product bond dim:[1, 2, 4, 8, 16, 30, 29, 21, 13, 8, 4, 2, 1]\n",
      "2025-06-13 20:58:24,997[DEBUG] optimize site: [0, 1]\n",
      "2025-06-13 20:58:24,998[DEBUG] use direct eigensolver\n",
      "2025-06-13 20:58:24,999[DEBUG] energy: -4.911611020882849\n",
      "2025-06-13 20:58:25,000[DEBUG] optimize site: [1, 2]\n",
      "2025-06-13 20:58:25,000[DEBUG] use direct eigensolver\n",
      "2025-06-13 20:58:25,002[DEBUG] energy: -5.196852082114519\n",
      "2025-06-13 20:58:25,004[DEBUG] optimize site: [2, 3]\n",
      "2025-06-13 20:58:25,004[DEBUG] use direct eigensolver\n",
      "2025-06-13 20:58:25,007[DEBUG] energy: -5.5425986699632555\n",
      "2025-06-13 20:58:25,009[DEBUG] optimize site: [3, 4]\n",
      "2025-06-13 20:58:25,010[DEBUG] use direct eigensolver\n",
      "2025-06-13 20:58:25,019[DEBUG] energy: -5.72514170935742\n",
      "2025-06-13 20:58:25,022[DEBUG] optimize site: [4, 5]\n",
      "2025-06-13 20:58:25,076[DEBUG] use davidson, HC hops: 19\n",
      "2025-06-13 20:58:25,076[DEBUG] energy: -5.765098427245482\n",
      "2025-06-13 20:58:25,078[DEBUG] optimize site: [5, 6]\n",
      "2025-06-13 20:58:25,211[DEBUG] use davidson, HC hops: 24\n",
      "2025-06-13 20:58:25,212[DEBUG] energy: -5.771690983039219\n",
      "2025-06-13 20:58:25,215[DEBUG] optimize site: [6, 7]\n",
      "2025-06-13 20:58:25,270[DEBUG] use davidson, HC hops: 20\n",
      "2025-06-13 20:58:25,271[DEBUG] energy: -5.799741899560513\n",
      "2025-06-13 20:58:25,274[DEBUG] optimize site: [7, 8]\n",
      "2025-06-13 20:58:25,277[DEBUG] use direct eigensolver\n",
      "2025-06-13 20:58:25,284[DEBUG] energy: -5.856332512039158\n",
      "2025-06-13 20:58:25,287[DEBUG] optimize site: [8, 9]\n",
      "2025-06-13 20:58:25,290[DEBUG] use direct eigensolver\n",
      "2025-06-13 20:58:25,293[DEBUG] energy: -5.856332512039159\n",
      "2025-06-13 20:58:25,296[DEBUG] optimize site: [9, 10]\n",
      "2025-06-13 20:58:25,298[DEBUG] use direct eigensolver\n",
      "2025-06-13 20:58:25,300[DEBUG] energy: -5.856332512039157\n",
      "2025-06-13 20:58:25,303[DEBUG] optimize site: [10, 11]\n",
      "2025-06-13 20:58:25,304[DEBUG] use direct eigensolver\n",
      "2025-06-13 20:58:25,306[DEBUG] energy: -5.856332512039156\n",
      "2025-06-13 20:58:25,308[DEBUG] 1 sweeps are finished, lowest energy = -5.856332512039159\n",
      "2025-06-13 20:58:25,309[DEBUG] isweep: 1\n",
      "2025-06-13 20:58:25,310[DEBUG] compress config in current loop: 30, percent: 0.2\n",
      "2025-06-13 20:58:25,311[DEBUG] mps current size: 62.4KiB, Matrix product bond dim:[1, 2, 4, 8, 16, 30, 30, 30, 30, 16, 8, 4, 1]\n",
      "2025-06-13 20:58:25,313[DEBUG] optimize site: [10, 11]\n",
      "2025-06-13 20:58:25,314[DEBUG] use direct eigensolver\n",
      "2025-06-13 20:58:25,315[DEBUG] energy: -5.856332512039156\n",
      "2025-06-13 20:58:25,317[DEBUG] optimize site: [9, 10]\n",
      "2025-06-13 20:58:25,319[DEBUG] use direct eigensolver\n",
      "2025-06-13 20:58:25,321[DEBUG] energy: -5.856332512039157\n",
      "2025-06-13 20:58:25,323[DEBUG] optimize site: [8, 9]\n",
      "2025-06-13 20:58:25,324[DEBUG] use direct eigensolver\n",
      "2025-06-13 20:58:25,328[DEBUG] energy: -5.856332512039159\n",
      "2025-06-13 20:58:25,334[DEBUG] optimize site: [7, 8]\n",
      "2025-06-13 20:58:25,335[DEBUG] use direct eigensolver\n",
      "2025-06-13 20:58:25,342[DEBUG] energy: -5.856332512039158\n",
      "2025-06-13 20:58:25,345[DEBUG] optimize site: [6, 7]\n",
      "2025-06-13 20:58:25,398[DEBUG] use davidson, HC hops: 16\n",
      "2025-06-13 20:58:25,400[DEBUG] energy: -5.856506061380846\n",
      "2025-06-13 20:58:25,402[DEBUG] optimize site: [5, 6]\n",
      "2025-06-13 20:58:25,578[DEBUG] use davidson, HC hops: 23\n",
      "2025-06-13 20:58:25,580[DEBUG] energy: -5.8575950955396445\n",
      "2025-06-13 20:58:25,583[DEBUG] optimize site: [4, 5]\n",
      "2025-06-13 20:58:25,628[DEBUG] use davidson, HC hops: 15\n",
      "2025-06-13 20:58:25,629[DEBUG] energy: -5.857643578442927\n",
      "2025-06-13 20:58:25,632[DEBUG] optimize site: [3, 4]\n",
      "2025-06-13 20:58:25,636[DEBUG] use direct eigensolver\n",
      "2025-06-13 20:58:25,642[DEBUG] energy: -5.8576435569611744\n",
      "2025-06-13 20:58:25,646[DEBUG] optimize site: [2, 3]\n",
      "2025-06-13 20:58:25,649[DEBUG] use direct eigensolver\n",
      "2025-06-13 20:58:25,652[DEBUG] energy: -5.857643556961177\n",
      "2025-06-13 20:58:25,655[DEBUG] optimize site: [1, 2]\n",
      "2025-06-13 20:58:25,657[DEBUG] use direct eigensolver\n",
      "2025-06-13 20:58:25,659[DEBUG] energy: -5.857643556961175\n",
      "2025-06-13 20:58:25,661[DEBUG] optimize site: [0, 1]\n",
      "2025-06-13 20:58:25,662[DEBUG] use direct eigensolver\n",
      "2025-06-13 20:58:25,664[DEBUG] energy: -5.857643556961172\n",
      "2025-06-13 20:58:25,666[DEBUG] 2 sweeps are finished, lowest energy = -5.857643578442927\n",
      "2025-06-13 20:58:25,667[DEBUG] isweep: 2\n",
      "2025-06-13 20:58:25,668[DEBUG] compress config in current loop: 30, percent: 0.1\n",
      "2025-06-13 20:58:25,670[DEBUG] mps current size: 62.4KiB, Matrix product bond dim:[1, 4, 8, 16, 30, 30, 30, 30, 16, 8, 4, 2, 1]\n",
      "2025-06-13 20:58:25,671[DEBUG] optimize site: [0, 1]\n",
      "2025-06-13 20:58:25,672[DEBUG] use direct eigensolver\n",
      "2025-06-13 20:58:25,674[DEBUG] energy: -5.857643556961172\n",
      "2025-06-13 20:58:25,676[DEBUG] optimize site: [1, 2]\n",
      "2025-06-13 20:58:25,677[DEBUG] use direct eigensolver\n",
      "2025-06-13 20:58:25,679[DEBUG] energy: -5.857643556961178\n",
      "2025-06-13 20:58:25,681[DEBUG] optimize site: [2, 3]\n",
      "2025-06-13 20:58:25,683[DEBUG] use direct eigensolver\n",
      "2025-06-13 20:58:25,686[DEBUG] energy: -5.857643556961178\n",
      "2025-06-13 20:58:25,689[DEBUG] optimize site: [3, 4]\n",
      "2025-06-13 20:58:25,690[DEBUG] use direct eigensolver\n",
      "2025-06-13 20:58:25,696[DEBUG] energy: -5.857643556961181\n",
      "2025-06-13 20:58:25,700[DEBUG] optimize site: [4, 5]\n",
      "2025-06-13 20:58:25,718[DEBUG] use davidson, HC hops: 5\n",
      "2025-06-13 20:58:25,719[DEBUG] energy: -5.857643578442869\n",
      "2025-06-13 20:58:25,725[DEBUG] optimize site: [5, 6]\n",
      "2025-06-13 20:58:25,806[DEBUG] use davidson, HC hops: 12\n",
      "2025-06-13 20:58:25,807[DEBUG] energy: -5.857646036566729\n",
      "2025-06-13 20:58:25,810[DEBUG] optimize site: [6, 7]\n",
      "2025-06-13 20:58:25,840[DEBUG] use davidson, HC hops: 8\n",
      "2025-06-13 20:58:25,841[DEBUG] energy: -5.857643612281762\n",
      "2025-06-13 20:58:25,844[DEBUG] optimize site: [7, 8]\n",
      "2025-06-13 20:58:25,848[DEBUG] use direct eigensolver\n",
      "2025-06-13 20:58:25,854[DEBUG] energy: -5.857643590823492\n",
      "2025-06-13 20:58:25,858[DEBUG] optimize site: [8, 9]\n",
      "2025-06-13 20:58:25,861[DEBUG] use direct eigensolver\n",
      "2025-06-13 20:58:25,864[DEBUG] energy: -5.857643590823498\n",
      "2025-06-13 20:58:25,867[DEBUG] optimize site: [9, 10]\n",
      "2025-06-13 20:58:25,869[DEBUG] use direct eigensolver\n",
      "2025-06-13 20:58:25,871[DEBUG] energy: -5.857643590823497\n",
      "2025-06-13 20:58:25,873[DEBUG] optimize site: [10, 11]\n",
      "2025-06-13 20:58:25,875[DEBUG] use direct eigensolver\n",
      "2025-06-13 20:58:25,877[DEBUG] energy: -5.8576435908234945\n",
      "2025-06-13 20:58:25,879[DEBUG] 3 sweeps are finished, lowest energy = -5.857646036566729\n",
      "2025-06-13 20:58:25,880[DEBUG] isweep: 3\n",
      "2025-06-13 20:58:25,882[DEBUG] compress config in current loop: 30, percent: 0\n",
      "2025-06-13 20:58:25,883[DEBUG] mps current size: 62.4KiB, Matrix product bond dim:[1, 2, 4, 8, 16, 30, 30, 30, 30, 16, 8, 4, 1]\n",
      "2025-06-13 20:58:25,885[DEBUG] optimize site: [10, 11]\n",
      "2025-06-13 20:58:25,887[DEBUG] use direct eigensolver\n",
      "2025-06-13 20:58:25,888[DEBUG] energy: -5.8576435908234945\n",
      "2025-06-13 20:58:25,890[DEBUG] optimize site: [9, 10]\n",
      "2025-06-13 20:58:25,892[DEBUG] use direct eigensolver\n",
      "2025-06-13 20:58:25,893[DEBUG] energy: -5.857643590823497\n",
      "2025-06-13 20:58:25,896[DEBUG] optimize site: [8, 9]\n",
      "2025-06-13 20:58:25,897[DEBUG] use direct eigensolver\n",
      "2025-06-13 20:58:25,900[DEBUG] energy: -5.857643590823498\n",
      "2025-06-13 20:58:25,903[DEBUG] optimize site: [7, 8]\n",
      "2025-06-13 20:58:25,905[DEBUG] use direct eigensolver\n",
      "2025-06-13 20:58:25,912[DEBUG] energy: -5.857643590823492\n",
      "2025-06-13 20:58:25,915[DEBUG] optimize site: [6, 7]\n",
      "2025-06-13 20:58:25,934[DEBUG] use davidson, HC hops: 5\n",
      "2025-06-13 20:58:25,935[DEBUG] energy: -5.857643612281679\n",
      "2025-06-13 20:58:25,938[DEBUG] optimize site: [5, 6]\n",
      "2025-06-13 20:58:26,010[DEBUG] use davidson, HC hops: 11\n",
      "2025-06-13 20:58:26,012[DEBUG] energy: -5.857646038992488\n",
      "2025-06-13 20:58:26,018[DEBUG] optimize site: [4, 5]\n",
      "2025-06-13 20:58:26,044[DEBUG] use davidson, HC hops: 8\n",
      "2025-06-13 20:58:26,046[DEBUG] energy: -5.857643612278589\n",
      "2025-06-13 20:58:26,049[DEBUG] optimize site: [3, 4]\n",
      "2025-06-13 20:58:26,052[DEBUG] use direct eigensolver\n",
      "2025-06-13 20:58:26,059[DEBUG] energy: -5.857643590849773\n",
      "2025-06-13 20:58:26,063[DEBUG] optimize site: [2, 3]\n",
      "2025-06-13 20:58:26,065[DEBUG] use direct eigensolver\n",
      "2025-06-13 20:58:26,069[DEBUG] energy: -5.857643590849771\n",
      "2025-06-13 20:58:26,072[DEBUG] optimize site: [1, 2]\n",
      "2025-06-13 20:58:26,074[DEBUG] use direct eigensolver\n",
      "2025-06-13 20:58:26,076[DEBUG] energy: -5.857643590849775\n",
      "2025-06-13 20:58:26,078[DEBUG] optimize site: [0, 1]\n",
      "2025-06-13 20:58:26,079[DEBUG] use direct eigensolver\n",
      "2025-06-13 20:58:26,081[DEBUG] energy: -5.857643590849776\n",
      "2025-06-13 20:58:26,084[DEBUG] 4 sweeps are finished, lowest energy = -5.857646038992488\n",
      "2025-06-13 20:58:26,085[INFO] DMRG has converged!\n",
      "2025-06-13 20:58:26,103[INFO] mps current size: 48.4KiB, Matrix product bond dim:[1, 2, 4, 8, 16, 30, 30, 30, 16, 8, 4, 2, 1]\n",
      "2025-06-13 20:58:26,107[INFO] lowest energy: -2.9576460389924892\n"
     ]
    }
   ],
   "source": [
    "from renormalizer import Model, Mps, Mpo, optimize_mps\n",
    "from renormalizer.model import h_qc\n",
    "from renormalizer.utils import log\n",
    "\n",
    "logger = logging.getLogger(\"renormalizer\")\n",
    "\n",
    "h1e_spin, h2e_spin, nuc = h_qc.read_fcidump(ftmp.name, norb)\n",
    "basis, ham_terms = h_qc.qc_model(h1e_spin, h2e_spin)\n",
    "model = Model(basis, ham_terms)\n",
    "mpo = Mpo(model)\n",
    "logger.info(f\"mpo_bond_dims:{mpo.bond_dims}\")\n",
    "\n",
    "energy_list = {}\n",
    "M = 30\n",
    "procedure = [[M, 0.4], [M, 0.2], [M, 0.1], [M, 0], [M, 0], [M,0], [M,0]]\n",
    "mps = Mps.random(model, mol.nelec, M, percent=1.0)\n",
    "mps.optimize_config.procedure = procedure\n",
    "mps.optimize_config.method = \"2site\"\n",
    "energies, mps = optimize_mps(mps.copy(), mpo)\n",
    "gs_e = min(energies)+nuc\n",
    "logger.info(f\"lowest energy: {gs_e}\")"
   ]
  },
  {
   "cell_type": "markdown",
   "metadata": {},
   "source": [
    "Note that now we obtain a dense MPS in the spin orbital basis, to make it compatible with block2, we need to convert it to a fermion orbital basis.\n",
    "We also need to make the MPS left canonical, for the step after."
   ]
  },
  {
   "cell_type": "code",
   "execution_count": 82,
   "metadata": {},
   "outputs": [],
   "source": [
    "mps.ensure_left_canonical()\n",
    "\n",
    "def spin_to_fermion_mps(mps_spin, qn):\n",
    "    nsites_spin = len(mps_spin)\n",
    "    assert nsites_spin % 2 == 0\n",
    "    nsites_fermion = nsites_spin // 2\n",
    "    qnl_fermion = []\n",
    "    mps_fermion = []\n",
    "    \n",
    "    for i in range(nsites_fermion):\n",
    "        ml = mps_spin[2*i].shape[0]\n",
    "        mr = mps_spin[2*i+1].shape[-1]\n",
    "        merged_array = numpy.einsum(\"ipj, jql->ipql\", mps_spin[2*i], mps_spin[2*i+1])\n",
    "        merged_array = numpy.transpose(merged_array, (0, 2, 1, 3))\n",
    "        merged_array = merged_array.reshape(ml, 4, mr)\n",
    "        mps_fermion.append(merged_array)\n",
    "        qnl_fermion.append(qn[2*i])\n",
    "    qnl_fermion.append(qn[-1])\n",
    "    return mps_fermion, qnl_fermion\n",
    "\n",
    "qn = []\n",
    "for i_mps in range(len(mps)):\n",
    "    iqn = [x.tolist() for x in mps.qn[i_mps]]\n",
    "    qn.append(iqn)\n",
    "qn[0] = [[0, 0]]    \n",
    "qn.append([[mol.nelec[0], mol.nelec[1]]])\n",
    "\n",
    "mps_fermion, qn_fermion = spin_to_fermion_mps(mps, qn)\n",
    "mps_list = []\n",
    "for i_mps in range(len(mps_fermion)):\n",
    "    mps_list.append(mps_fermion[i_mps])"
   ]
  },
  {
   "cell_type": "markdown",
   "metadata": {},
   "source": [
    "Now we have a list of dense MPS tensors in the fermion orbital basis, and a list of their quantum numbers (from left to right). And we are ready to transform them to block2 format."
   ]
  },
  {
   "cell_type": "code",
   "execution_count": null,
   "metadata": {},
   "outputs": [
    {
     "name": "stdout",
     "output_type": "stream",
     "text": [
      "bond dimensions: [1, 4, 16, 30, 16, 4]\n",
      "quantum numbers: [[[0, 0]], [[1, 0], [0, 1], [1, 1], [0, 0]], [[0, 1], [0, 1], [1, 2], [1, 2], [2, 1], [2, 1], [0, 0], [1, 1], [1, 1], [1, 1], [1, 1], [2, 0], [0, 2], [2, 2], [1, 0], [1, 0]], [[0, 1], [1, 2], [1, 2], [1, 2], [1, 2], [2, 1], [2, 1], [2, 1], [2, 1], [3, 1], [3, 1], [1, 1], [1, 1], [1, 1], [1, 1], [0, 3], [2, 0], [2, 0], [3, 0], [2, 3], [0, 2], [0, 2], [2, 2], [2, 2], [2, 2], [2, 2], [1, 0], [3, 2], [1, 3], [1, 3]], [[1, 2], [1, 2], [2, 1], [2, 1], [3, 1], [1, 1], [2, 3], [2, 3], [3, 3], [2, 2], [2, 2], [2, 2], [2, 2], [3, 2], [3, 2], [1, 3]], [[2, 3], [3, 3], [2, 2], [3, 2]], [[3, 3]]]\n"
     ]
    }
   ],
   "source": [
    "print('bond dimensions:', [imps.shape[0] for imps in mps_fermion])\n",
    "print('quantum numbers:', qn_fermion)\n",
    "\n",
    "from pyblock2.algebra.io import MPSTools\n",
    "transform_renormalizer_sz_to_block2_sz = MPSTools.trans_dense_sz_to_block2_sz\n",
    "mps_in_block2 = transform_renormalizer_sz_to_block2_sz(mps_list, qn_fermion)"
   ]
  },
  {
   "cell_type": "markdown",
   "metadata": {},
   "source": [
    "Now MPS_in_block2 contains all the tensors in the pyblock2 format, now further convert it to block2 format."
   ]
  },
  {
   "cell_type": "code",
   "execution_count": 84,
   "metadata": {},
   "outputs": [
    {
     "name": "stdout",
     "output_type": "stream",
     "text": [
      "overlap between Renormalizer Sz MPS with block2 Sz MPS: 0.9999999659592702\n"
     ]
    }
   ],
   "source": [
    "driver.symm_type = SymmetryTypes.SZ\n",
    "driver.initialize_system(n_sites=norb, n_elec=nelec, spin=spin)\n",
    "impo = driver.get_identity_mpo()\n",
    "for it, ts in enumerate(pyzket.tensors):\n",
    "    pyzket.tensors[it] = mps_in_block2[it]\n",
    "bra = MPSTools.to_block2(pyzket, driver.basis, tag='bra_sz')\n",
    "print('overlap between Renormalizer Sz MPS with block2 Sz MPS:', driver.expectation(bra, impo, zket))"
   ]
  },
  {
   "cell_type": "markdown",
   "metadata": {},
   "source": [
    "We also want to compute the overlap between the Renormalizer Sz MPS and the block2 SU2 MPS. To do this, we first need to convert the Renormalizer Sz MPS to a SU2 MPS."
   ]
  },
  {
   "cell_type": "code",
   "execution_count": 85,
   "metadata": {},
   "outputs": [
    {
     "name": "stdout",
     "output_type": "stream",
     "text": [
      "overlap between Renormalizer Sz MPS with block2 SU2 MPS: -0.9999990300149895\n"
     ]
    }
   ],
   "source": [
    "driver.symm_type = SymmetryTypes.SZ\n",
    "driver.initialize_system(n_sites=norb, n_elec=nelec, spin=spin)\n",
    "for it, ts in enumerate(pyzket.tensors):\n",
    "    pyzket.tensors[it] = mps_in_block2[it]\n",
    "bra = MPSTools.trans_sz_to_su2(pyzket, driver.basis, zket.info.target, target_twos=0)\n",
    "\n",
    "driver.symm_type = SymmetryTypes.SU2\n",
    "driver.initialize_system(n_sites=norb, n_elec=nelec, spin=spin)\n",
    "bra = MPSTools.to_block2(bra, driver.basis, tag='bra_su2')\n",
    "\n",
    "impo = driver.get_identity_mpo()\n",
    "print('overlap between Renormalizer Sz MPS with block2 SU2 MPS:', driver.expectation(bra, impo, ket))"
   ]
  },
  {
   "cell_type": "markdown",
   "metadata": {},
   "source": [
    "Note that different DMRG runs may lead to sign differences. "
   ]
  }
 ],
 "metadata": {
  "kernelspec": {
   "display_name": "block",
   "language": "python",
   "name": "myenv"
  },
  "language_info": {
   "codemirror_mode": {
    "name": "ipython",
    "version": 3
   },
   "file_extension": ".py",
   "mimetype": "text/x-python",
   "name": "python",
   "nbconvert_exporter": "python",
   "pygments_lexer": "ipython3",
   "version": "3.8.20"
  }
 },
 "nbformat": 4,
 "nbformat_minor": 2
}
